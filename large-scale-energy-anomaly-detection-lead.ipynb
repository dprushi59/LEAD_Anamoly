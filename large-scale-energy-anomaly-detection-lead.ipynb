{
 "cells": [
  {
   "cell_type": "markdown",
   "id": "d1779beb",
   "metadata": {
    "papermill": {
     "duration": 0.090562,
     "end_time": "2022-05-15T16:33:20.139902",
     "exception": false,
     "start_time": "2022-05-15T16:33:20.049340",
     "status": "completed"
    },
    "tags": []
   },
   "source": [
    "<h1 style=\"background-color:#35ffff\n",
    ";font-family:newtimeroman;font-size:225%;text-align:center;border-radius: 30px 50px;\"> 📈 Time Series Outlier and Anomaly Detection 📈</h1><a id=0></a>"
   ]
  },
  {
   "cell_type": "markdown",
   "id": "a4d5cffa",
   "metadata": {
    "papermill": {
     "duration": 0.087858,
     "end_time": "2022-05-15T16:33:20.318382",
     "exception": false,
     "start_time": "2022-05-15T16:33:20.230524",
     "status": "completed"
    },
    "tags": []
   },
   "source": [
    "# Time-Series-Anomaly-Detection\n",
    "\n",
    "# Introduction:\n",
    "\n",
    "Anomaly detection is the process of discover the event or the points which are unexpected at \n",
    "this position of the dataset or deviates from the normal pattern of the dataset. \n",
    "So, the detection of those points very important; because it give us an early step to make the \n",
    "emergency movements to control that un usual change. \n",
    "We used many techniques to reach best one to apply it on our way of the project. \n",
    "\n",
    " \n",
    "# Anomaly Detection Methods: \n",
    "The outlairs and anomaly detection different methods:\n",
    "\n",
    "<li><a href=\"#m1\">1- Tukey’s box plot method</a>\n",
    "<li><a href=\"#m2\">2- Isolation forest.</a>\n",
    "<li><a href=\"#m3\">3- Anomly based on Machine learning Predication.</a>"
   ]
  },
  {
   "cell_type": "code",
   "execution_count": 1,
   "id": "9d5d7f09",
   "metadata": {
    "execution": {
     "iopub.execute_input": "2022-05-15T16:33:20.515543Z",
     "iopub.status.busy": "2022-05-15T16:33:20.515210Z",
     "iopub.status.idle": "2022-05-15T16:33:22.696453Z",
     "shell.execute_reply": "2022-05-15T16:33:22.695800Z"
    },
    "papermill": {
     "duration": 2.291514,
     "end_time": "2022-05-15T16:33:22.698519",
     "exception": false,
     "start_time": "2022-05-15T16:33:20.407005",
     "status": "completed"
    },
    "tags": []
   },
   "outputs": [],
   "source": [
    "import pandas as pd\n",
    "import numpy as np\n",
    "import plotly.express as px\n",
    "import seaborn as sns\n",
    "import warnings\n",
    "import matplotlib.pyplot as plt\n",
    "from datetime import datetime, timezone\n",
    "import datetime\n",
    "from scipy.stats import norm\n",
    "from sklearn.preprocessing import StandardScaler\n",
    "from scipy import stats\n",
    "import plotly.express as px\n",
    "import plotly.graph_objects as go\n",
    "warnings.filterwarnings('ignore')"
   ]
  },
  {
   "cell_type": "code",
   "execution_count": 2,
   "id": "84998344",
   "metadata": {
    "execution": {
     "iopub.execute_input": "2022-05-15T16:33:22.874681Z",
     "iopub.status.busy": "2022-05-15T16:33:22.874232Z",
     "iopub.status.idle": "2022-05-15T16:33:24.469452Z",
     "shell.execute_reply": "2022-05-15T16:33:24.468841Z"
    },
    "papermill": {
     "duration": 1.685863,
     "end_time": "2022-05-15T16:33:24.471731",
     "exception": false,
     "start_time": "2022-05-15T16:33:22.785868",
     "status": "completed"
    },
    "tags": []
   },
   "outputs": [],
   "source": [
    "df = pd.read_csv('../input/energy-anomaly-detection/train.csv',parse_dates= [\"timestamp\"])"
   ]
  },
  {
   "cell_type": "code",
   "execution_count": 3,
   "id": "db4ec9b7",
   "metadata": {
    "execution": {
     "iopub.execute_input": "2022-05-15T16:33:24.649082Z",
     "iopub.status.busy": "2022-05-15T16:33:24.648398Z",
     "iopub.status.idle": "2022-05-15T16:33:24.663571Z",
     "shell.execute_reply": "2022-05-15T16:33:24.662760Z"
    },
    "papermill": {
     "duration": 0.105653,
     "end_time": "2022-05-15T16:33:24.665537",
     "exception": false,
     "start_time": "2022-05-15T16:33:24.559884",
     "status": "completed"
    },
    "tags": []
   },
   "outputs": [
    {
     "data": {
      "text/html": [
       "<div>\n",
       "<style scoped>\n",
       "    .dataframe tbody tr th:only-of-type {\n",
       "        vertical-align: middle;\n",
       "    }\n",
       "\n",
       "    .dataframe tbody tr th {\n",
       "        vertical-align: top;\n",
       "    }\n",
       "\n",
       "    .dataframe thead th {\n",
       "        text-align: right;\n",
       "    }\n",
       "</style>\n",
       "<table border=\"1\" class=\"dataframe\">\n",
       "  <thead>\n",
       "    <tr style=\"text-align: right;\">\n",
       "      <th></th>\n",
       "      <th>building_id</th>\n",
       "      <th>timestamp</th>\n",
       "      <th>meter_reading</th>\n",
       "      <th>anomaly</th>\n",
       "    </tr>\n",
       "  </thead>\n",
       "  <tbody>\n",
       "    <tr>\n",
       "      <th>0</th>\n",
       "      <td>1</td>\n",
       "      <td>2016-01-01</td>\n",
       "      <td>NaN</td>\n",
       "      <td>0</td>\n",
       "    </tr>\n",
       "    <tr>\n",
       "      <th>1</th>\n",
       "      <td>32</td>\n",
       "      <td>2016-01-01</td>\n",
       "      <td>NaN</td>\n",
       "      <td>0</td>\n",
       "    </tr>\n",
       "    <tr>\n",
       "      <th>2</th>\n",
       "      <td>41</td>\n",
       "      <td>2016-01-01</td>\n",
       "      <td>NaN</td>\n",
       "      <td>0</td>\n",
       "    </tr>\n",
       "    <tr>\n",
       "      <th>3</th>\n",
       "      <td>55</td>\n",
       "      <td>2016-01-01</td>\n",
       "      <td>NaN</td>\n",
       "      <td>0</td>\n",
       "    </tr>\n",
       "    <tr>\n",
       "      <th>4</th>\n",
       "      <td>69</td>\n",
       "      <td>2016-01-01</td>\n",
       "      <td>NaN</td>\n",
       "      <td>0</td>\n",
       "    </tr>\n",
       "  </tbody>\n",
       "</table>\n",
       "</div>"
      ],
      "text/plain": [
       "   building_id  timestamp  meter_reading  anomaly\n",
       "0            1 2016-01-01            NaN        0\n",
       "1           32 2016-01-01            NaN        0\n",
       "2           41 2016-01-01            NaN        0\n",
       "3           55 2016-01-01            NaN        0\n",
       "4           69 2016-01-01            NaN        0"
      ]
     },
     "execution_count": 3,
     "metadata": {},
     "output_type": "execute_result"
    }
   ],
   "source": [
    "df.head()"
   ]
  },
  {
   "cell_type": "code",
   "execution_count": 4,
   "id": "69e6581a",
   "metadata": {
    "execution": {
     "iopub.execute_input": "2022-05-15T16:33:24.847445Z",
     "iopub.status.busy": "2022-05-15T16:33:24.847156Z",
     "iopub.status.idle": "2022-05-15T16:33:24.852501Z",
     "shell.execute_reply": "2022-05-15T16:33:24.851660Z"
    },
    "papermill": {
     "duration": 0.096987,
     "end_time": "2022-05-15T16:33:24.854215",
     "exception": false,
     "start_time": "2022-05-15T16:33:24.757228",
     "status": "completed"
    },
    "tags": []
   },
   "outputs": [
    {
     "data": {
      "text/plain": [
       "(1749494, 4)"
      ]
     },
     "execution_count": 4,
     "metadata": {},
     "output_type": "execute_result"
    }
   ],
   "source": [
    "df.shape"
   ]
  },
  {
   "cell_type": "code",
   "execution_count": 5,
   "id": "291d118f",
   "metadata": {
    "execution": {
     "iopub.execute_input": "2022-05-15T16:33:25.035135Z",
     "iopub.status.busy": "2022-05-15T16:33:25.034428Z",
     "iopub.status.idle": "2022-05-15T16:33:25.049903Z",
     "shell.execute_reply": "2022-05-15T16:33:25.049297Z"
    },
    "papermill": {
     "duration": 0.108665,
     "end_time": "2022-05-15T16:33:25.052146",
     "exception": false,
     "start_time": "2022-05-15T16:33:24.943481",
     "status": "completed"
    },
    "tags": []
   },
   "outputs": [
    {
     "name": "stdout",
     "output_type": "stream",
     "text": [
      "<class 'pandas.core.frame.DataFrame'>\n",
      "RangeIndex: 1749494 entries, 0 to 1749493\n",
      "Data columns (total 4 columns):\n",
      " #   Column         Dtype         \n",
      "---  ------         -----         \n",
      " 0   building_id    int64         \n",
      " 1   timestamp      datetime64[ns]\n",
      " 2   meter_reading  float64       \n",
      " 3   anomaly        int64         \n",
      "dtypes: datetime64[ns](1), float64(1), int64(2)\n",
      "memory usage: 53.4 MB\n"
     ]
    }
   ],
   "source": [
    "df.info()"
   ]
  },
  {
   "cell_type": "code",
   "execution_count": 6,
   "id": "e0df1bae",
   "metadata": {
    "execution": {
     "iopub.execute_input": "2022-05-15T16:33:25.233571Z",
     "iopub.status.busy": "2022-05-15T16:33:25.232865Z",
     "iopub.status.idle": "2022-05-15T16:33:25.433537Z",
     "shell.execute_reply": "2022-05-15T16:33:25.432964Z"
    },
    "papermill": {
     "duration": 0.293947,
     "end_time": "2022-05-15T16:33:25.435165",
     "exception": false,
     "start_time": "2022-05-15T16:33:25.141218",
     "status": "completed"
    },
    "tags": []
   },
   "outputs": [
    {
     "data": {
      "text/html": [
       "<div>\n",
       "<style scoped>\n",
       "    .dataframe tbody tr th:only-of-type {\n",
       "        vertical-align: middle;\n",
       "    }\n",
       "\n",
       "    .dataframe tbody tr th {\n",
       "        vertical-align: top;\n",
       "    }\n",
       "\n",
       "    .dataframe thead th {\n",
       "        text-align: right;\n",
       "    }\n",
       "</style>\n",
       "<table border=\"1\" class=\"dataframe\">\n",
       "  <thead>\n",
       "    <tr style=\"text-align: right;\">\n",
       "      <th></th>\n",
       "      <th>building_id</th>\n",
       "      <th>meter_reading</th>\n",
       "      <th>anomaly</th>\n",
       "    </tr>\n",
       "  </thead>\n",
       "  <tbody>\n",
       "    <tr>\n",
       "      <th>count</th>\n",
       "      <td>1.749494e+06</td>\n",
       "      <td>1.641841e+06</td>\n",
       "      <td>1.749494e+06</td>\n",
       "    </tr>\n",
       "    <tr>\n",
       "      <th>mean</th>\n",
       "      <td>7.908894e+02</td>\n",
       "      <td>1.799018e+02</td>\n",
       "      <td>2.131816e-02</td>\n",
       "    </tr>\n",
       "    <tr>\n",
       "      <th>std</th>\n",
       "      <td>4.118085e+02</td>\n",
       "      <td>3.959129e+02</td>\n",
       "      <td>1.444428e-01</td>\n",
       "    </tr>\n",
       "    <tr>\n",
       "      <th>min</th>\n",
       "      <td>1.000000e+00</td>\n",
       "      <td>0.000000e+00</td>\n",
       "      <td>0.000000e+00</td>\n",
       "    </tr>\n",
       "    <tr>\n",
       "      <th>25%</th>\n",
       "      <td>3.450000e+02</td>\n",
       "      <td>3.000000e+01</td>\n",
       "      <td>0.000000e+00</td>\n",
       "    </tr>\n",
       "    <tr>\n",
       "      <th>50%</th>\n",
       "      <td>8.960000e+02</td>\n",
       "      <td>8.410000e+01</td>\n",
       "      <td>0.000000e+00</td>\n",
       "    </tr>\n",
       "    <tr>\n",
       "      <th>75%</th>\n",
       "      <td>1.147000e+03</td>\n",
       "      <td>1.990000e+02</td>\n",
       "      <td>0.000000e+00</td>\n",
       "    </tr>\n",
       "    <tr>\n",
       "      <th>max</th>\n",
       "      <td>1.353000e+03</td>\n",
       "      <td>6.596890e+03</td>\n",
       "      <td>1.000000e+00</td>\n",
       "    </tr>\n",
       "  </tbody>\n",
       "</table>\n",
       "</div>"
      ],
      "text/plain": [
       "        building_id  meter_reading       anomaly\n",
       "count  1.749494e+06   1.641841e+06  1.749494e+06\n",
       "mean   7.908894e+02   1.799018e+02  2.131816e-02\n",
       "std    4.118085e+02   3.959129e+02  1.444428e-01\n",
       "min    1.000000e+00   0.000000e+00  0.000000e+00\n",
       "25%    3.450000e+02   3.000000e+01  0.000000e+00\n",
       "50%    8.960000e+02   8.410000e+01  0.000000e+00\n",
       "75%    1.147000e+03   1.990000e+02  0.000000e+00\n",
       "max    1.353000e+03   6.596890e+03  1.000000e+00"
      ]
     },
     "execution_count": 6,
     "metadata": {},
     "output_type": "execute_result"
    }
   ],
   "source": [
    "df.describe()"
   ]
  },
  {
   "cell_type": "code",
   "execution_count": 7,
   "id": "13c2c4df",
   "metadata": {
    "execution": {
     "iopub.execute_input": "2022-05-15T16:33:25.615249Z",
     "iopub.status.busy": "2022-05-15T16:33:25.614509Z",
     "iopub.status.idle": "2022-05-15T16:33:25.630015Z",
     "shell.execute_reply": "2022-05-15T16:33:25.629386Z"
    },
    "papermill": {
     "duration": 0.107252,
     "end_time": "2022-05-15T16:33:25.631673",
     "exception": false,
     "start_time": "2022-05-15T16:33:25.524421",
     "status": "completed"
    },
    "tags": []
   },
   "outputs": [
    {
     "data": {
      "text/plain": [
       "0    1712198\n",
       "1      37296\n",
       "Name: anomaly, dtype: int64"
      ]
     },
     "execution_count": 7,
     "metadata": {},
     "output_type": "execute_result"
    }
   ],
   "source": [
    "df['anomaly'].value_counts()"
   ]
  },
  {
   "cell_type": "code",
   "execution_count": 8,
   "id": "d4db88a2",
   "metadata": {
    "execution": {
     "iopub.execute_input": "2022-05-15T16:33:25.814468Z",
     "iopub.status.busy": "2022-05-15T16:33:25.813684Z",
     "iopub.status.idle": "2022-05-15T16:33:25.884622Z",
     "shell.execute_reply": "2022-05-15T16:33:25.883794Z"
    },
    "papermill": {
     "duration": 0.163626,
     "end_time": "2022-05-15T16:33:25.886673",
     "exception": false,
     "start_time": "2022-05-15T16:33:25.723047",
     "status": "completed"
    },
    "tags": []
   },
   "outputs": [
    {
     "data": {
      "text/plain": [
       "1.000       17059\n",
       "18.000       8488\n",
       "20.000       7510\n",
       "21.000       6736\n",
       "19.000       6567\n",
       "            ...  \n",
       "1077.110        1\n",
       "1225.350        1\n",
       "766.380         1\n",
       "902.560         1\n",
       "202.893         1\n",
       "Name: meter_reading, Length: 191681, dtype: int64"
      ]
     },
     "execution_count": 8,
     "metadata": {},
     "output_type": "execute_result"
    }
   ],
   "source": [
    "df['meter_reading'].value_counts()"
   ]
  },
  {
   "cell_type": "code",
   "execution_count": 9,
   "id": "e96bc3e1",
   "metadata": {
    "execution": {
     "iopub.execute_input": "2022-05-15T16:33:26.069951Z",
     "iopub.status.busy": "2022-05-15T16:33:26.069262Z",
     "iopub.status.idle": "2022-05-15T16:33:26.498431Z",
     "shell.execute_reply": "2022-05-15T16:33:26.497742Z"
    },
    "papermill": {
     "duration": 0.523664,
     "end_time": "2022-05-15T16:33:26.500769",
     "exception": false,
     "start_time": "2022-05-15T16:33:25.977105",
     "status": "completed"
    },
    "tags": []
   },
   "outputs": [
    {
     "data": {
      "text/plain": [
       "<AxesSubplot:xlabel='meter_reading'>"
      ]
     },
     "execution_count": 9,
     "metadata": {},
     "output_type": "execute_result"
    },
    {
     "data": {
      "image/png": "[encoded data removed]",
      "text/plain": [
       "<Figure size 432x288 with 1 Axes>"
      ]
     },
     "metadata": {
      "needs_background": "light"
     },
     "output_type": "display_data"
    }
   ],
   "source": [
    "sns.boxplot(x=df['meter_reading'])"
   ]
  },
  {
   "cell_type": "code",
   "execution_count": 10,
   "id": "70479c6c",
   "metadata": {
    "execution": {
     "iopub.execute_input": "2022-05-15T16:33:26.684053Z",
     "iopub.status.busy": "2022-05-15T16:33:26.683529Z",
     "iopub.status.idle": "2022-05-15T16:33:35.980181Z",
     "shell.execute_reply": "2022-05-15T16:33:35.979236Z"
    },
    "papermill": {
     "duration": 9.39059,
     "end_time": "2022-05-15T16:33:35.982105",
     "exception": false,
     "start_time": "2022-05-15T16:33:26.591515",
     "status": "completed"
    },
    "tags": []
   },
   "outputs": [
    {
     "data": {
      "image/png": "[encoded data removed]",
      "text/plain": [
       "<Figure size 432x288 with 1 Axes>"
      ]
     },
     "metadata": {
      "needs_background": "light"
     },
     "output_type": "display_data"
    },
    {
     "data": {
      "image/png": "[encoded data removed]",
      "text/plain": [
       "<Figure size 432x288 with 1 Axes>"
      ]
     },
     "metadata": {
      "needs_background": "light"
     },
     "output_type": "display_data"
    }
   ],
   "source": [
    "fig = plt.figure()\n",
    "ax = fig.gca()\n",
    "sns.distplot(df['meter_reading'])\n",
    "plt.show()\n",
    "\n",
    "#Probability plot\n",
    "fig = plt.figure()\n",
    "res = stats.probplot(df['meter_reading'], plot=plt)"
   ]
  },
  {
   "cell_type": "code",
   "execution_count": 11,
   "id": "5402ad91",
   "metadata": {
    "execution": {
     "iopub.execute_input": "2022-05-15T16:33:36.168866Z",
     "iopub.status.busy": "2022-05-15T16:33:36.168389Z",
     "iopub.status.idle": "2022-05-15T16:33:36.186653Z",
     "shell.execute_reply": "2022-05-15T16:33:36.185531Z"
    },
    "papermill": {
     "duration": 0.114629,
     "end_time": "2022-05-15T16:33:36.188688",
     "exception": false,
     "start_time": "2022-05-15T16:33:36.074059",
     "status": "completed"
    },
    "tags": []
   },
   "outputs": [
    {
     "name": "stdout",
     "output_type": "stream",
     "text": [
      "meter_reading    107653\n",
      "dtype: int64\n"
     ]
    }
   ],
   "source": [
    "missing_val_count_by_column = (df.isnull().sum())\n",
    "print(missing_val_count_by_column[missing_val_count_by_column > 0])"
   ]
  },
  {
   "cell_type": "code",
   "execution_count": 12,
   "id": "67316dac",
   "metadata": {
    "execution": {
     "iopub.execute_input": "2022-05-15T16:33:36.376628Z",
     "iopub.status.busy": "2022-05-15T16:33:36.376184Z",
     "iopub.status.idle": "2022-05-15T16:33:36.387682Z",
     "shell.execute_reply": "2022-05-15T16:33:36.387005Z"
    },
    "papermill": {
     "duration": 0.107623,
     "end_time": "2022-05-15T16:33:36.389570",
     "exception": false,
     "start_time": "2022-05-15T16:33:36.281947",
     "status": "completed"
    },
    "tags": []
   },
   "outputs": [],
   "source": [
    "df_name = df.iloc[:,[0,2]].columns"
   ]
  },
  {
   "cell_type": "code",
   "execution_count": 13,
   "id": "57378dbd",
   "metadata": {
    "execution": {
     "iopub.execute_input": "2022-05-15T16:33:36.575362Z",
     "iopub.status.busy": "2022-05-15T16:33:36.574959Z",
     "iopub.status.idle": "2022-05-15T16:33:36.860527Z",
     "shell.execute_reply": "2022-05-15T16:33:36.859470Z"
    },
    "papermill": {
     "duration": 0.381381,
     "end_time": "2022-05-15T16:33:36.862701",
     "exception": false,
     "start_time": "2022-05-15T16:33:36.481320",
     "status": "completed"
    },
    "tags": []
   },
   "outputs": [
    {
     "name": "stdout",
     "output_type": "stream",
     "text": [
      "building_id      0\n",
      "meter_reading    0\n",
      "dtype: int64\n"
     ]
    }
   ],
   "source": [
    "\n",
    "# there is a problem with missing values so i will try to handel it.\n",
    "\n",
    "from sklearn.impute import SimpleImputer\n",
    "\n",
    "my_imputer = SimpleImputer()\n",
    "df_clean = my_imputer.fit_transform(df.iloc[:,[0,2]])\n",
    "\n",
    "df_clean = pd.DataFrame(df_clean,columns = df_name)\n",
    "\n",
    "missing_val_count_by_column = (df_clean.isnull().sum())\n",
    "print(missing_val_count_by_column)"
   ]
  },
  {
   "cell_type": "code",
   "execution_count": 14,
   "id": "49e0f44d",
   "metadata": {
    "execution": {
     "iopub.execute_input": "2022-05-15T16:33:37.050530Z",
     "iopub.status.busy": "2022-05-15T16:33:37.050246Z",
     "iopub.status.idle": "2022-05-15T16:33:37.061306Z",
     "shell.execute_reply": "2022-05-15T16:33:37.060764Z"
    },
    "papermill": {
     "duration": 0.106121,
     "end_time": "2022-05-15T16:33:37.062947",
     "exception": false,
     "start_time": "2022-05-15T16:33:36.956826",
     "status": "completed"
    },
    "tags": []
   },
   "outputs": [
    {
     "data": {
      "text/plain": [
       "(1749494, 2)"
      ]
     },
     "execution_count": 14,
     "metadata": {},
     "output_type": "execute_result"
    }
   ],
   "source": [
    "df.iloc[:,[1,3]].shape"
   ]
  },
  {
   "cell_type": "code",
   "execution_count": 15,
   "id": "f8a2dd1f",
   "metadata": {
    "execution": {
     "iopub.execute_input": "2022-05-15T16:33:37.253162Z",
     "iopub.status.busy": "2022-05-15T16:33:37.252587Z",
     "iopub.status.idle": "2022-05-15T16:33:37.258030Z",
     "shell.execute_reply": "2022-05-15T16:33:37.257299Z"
    },
    "papermill": {
     "duration": 0.103856,
     "end_time": "2022-05-15T16:33:37.259870",
     "exception": false,
     "start_time": "2022-05-15T16:33:37.156014",
     "status": "completed"
    },
    "tags": []
   },
   "outputs": [
    {
     "data": {
      "text/plain": [
       "(1749494, 2)"
      ]
     },
     "execution_count": 15,
     "metadata": {},
     "output_type": "execute_result"
    }
   ],
   "source": [
    "df_clean.shape"
   ]
  },
  {
   "cell_type": "code",
   "execution_count": 16,
   "id": "e0e7e1bf",
   "metadata": {
    "execution": {
     "iopub.execute_input": "2022-05-15T16:33:37.447114Z",
     "iopub.status.busy": "2022-05-15T16:33:37.446554Z",
     "iopub.status.idle": "2022-05-15T16:33:37.474572Z",
     "shell.execute_reply": "2022-05-15T16:33:37.474004Z"
    },
    "papermill": {
     "duration": 0.124591,
     "end_time": "2022-05-15T16:33:37.476737",
     "exception": false,
     "start_time": "2022-05-15T16:33:37.352146",
     "status": "completed"
    },
    "tags": []
   },
   "outputs": [],
   "source": [
    "df = pd.concat([df.iloc[:,[1,3]], df_clean], axis=1)\n"
   ]
  },
  {
   "cell_type": "code",
   "execution_count": 17,
   "id": "88b0add1",
   "metadata": {
    "execution": {
     "iopub.execute_input": "2022-05-15T16:33:37.664775Z",
     "iopub.status.busy": "2022-05-15T16:33:37.664451Z",
     "iopub.status.idle": "2022-05-15T16:33:37.674554Z",
     "shell.execute_reply": "2022-05-15T16:33:37.674043Z"
    },
    "papermill": {
     "duration": 0.106072,
     "end_time": "2022-05-15T16:33:37.676427",
     "exception": false,
     "start_time": "2022-05-15T16:33:37.570355",
     "status": "completed"
    },
    "tags": []
   },
   "outputs": [
    {
     "data": {
      "text/html": [
       "<div>\n",
       "<style scoped>\n",
       "    .dataframe tbody tr th:only-of-type {\n",
       "        vertical-align: middle;\n",
       "    }\n",
       "\n",
       "    .dataframe tbody tr th {\n",
       "        vertical-align: top;\n",
       "    }\n",
       "\n",
       "    .dataframe thead th {\n",
       "        text-align: right;\n",
       "    }\n",
       "</style>\n",
       "<table border=\"1\" class=\"dataframe\">\n",
       "  <thead>\n",
       "    <tr style=\"text-align: right;\">\n",
       "      <th></th>\n",
       "      <th>timestamp</th>\n",
       "      <th>anomaly</th>\n",
       "      <th>building_id</th>\n",
       "      <th>meter_reading</th>\n",
       "    </tr>\n",
       "  </thead>\n",
       "  <tbody>\n",
       "    <tr>\n",
       "      <th>0</th>\n",
       "      <td>2016-01-01</td>\n",
       "      <td>0</td>\n",
       "      <td>1.0</td>\n",
       "      <td>179.901838</td>\n",
       "    </tr>\n",
       "    <tr>\n",
       "      <th>1</th>\n",
       "      <td>2016-01-01</td>\n",
       "      <td>0</td>\n",
       "      <td>32.0</td>\n",
       "      <td>179.901838</td>\n",
       "    </tr>\n",
       "    <tr>\n",
       "      <th>2</th>\n",
       "      <td>2016-01-01</td>\n",
       "      <td>0</td>\n",
       "      <td>41.0</td>\n",
       "      <td>179.901838</td>\n",
       "    </tr>\n",
       "    <tr>\n",
       "      <th>3</th>\n",
       "      <td>2016-01-01</td>\n",
       "      <td>0</td>\n",
       "      <td>55.0</td>\n",
       "      <td>179.901838</td>\n",
       "    </tr>\n",
       "    <tr>\n",
       "      <th>4</th>\n",
       "      <td>2016-01-01</td>\n",
       "      <td>0</td>\n",
       "      <td>69.0</td>\n",
       "      <td>179.901838</td>\n",
       "    </tr>\n",
       "  </tbody>\n",
       "</table>\n",
       "</div>"
      ],
      "text/plain": [
       "   timestamp  anomaly  building_id  meter_reading\n",
       "0 2016-01-01        0          1.0     179.901838\n",
       "1 2016-01-01        0         32.0     179.901838\n",
       "2 2016-01-01        0         41.0     179.901838\n",
       "3 2016-01-01        0         55.0     179.901838\n",
       "4 2016-01-01        0         69.0     179.901838"
      ]
     },
     "execution_count": 17,
     "metadata": {},
     "output_type": "execute_result"
    }
   ],
   "source": [
    "df.head()"
   ]
  },
  {
   "cell_type": "code",
   "execution_count": 18,
   "id": "8f1b5bde",
   "metadata": {
    "execution": {
     "iopub.execute_input": "2022-05-15T16:33:37.866089Z",
     "iopub.status.busy": "2022-05-15T16:33:37.865575Z",
     "iopub.status.idle": "2022-05-15T16:33:37.870162Z",
     "shell.execute_reply": "2022-05-15T16:33:37.869644Z"
    },
    "papermill": {
     "duration": 0.10172,
     "end_time": "2022-05-15T16:33:37.871693",
     "exception": false,
     "start_time": "2022-05-15T16:33:37.769973",
     "status": "completed"
    },
    "tags": []
   },
   "outputs": [
    {
     "data": {
      "text/plain": [
       "Index(['timestamp', 'anomaly', 'building_id', 'meter_reading'], dtype='object')"
      ]
     },
     "execution_count": 18,
     "metadata": {},
     "output_type": "execute_result"
    }
   ],
   "source": [
    "df.columns"
   ]
  },
  {
   "cell_type": "code",
   "execution_count": 19,
   "id": "c253ec81",
   "metadata": {
    "execution": {
     "iopub.execute_input": "2022-05-15T16:33:38.063256Z",
     "iopub.status.busy": "2022-05-15T16:33:38.062732Z",
     "iopub.status.idle": "2022-05-15T16:33:38.088956Z",
     "shell.execute_reply": "2022-05-15T16:33:38.088322Z"
    },
    "papermill": {
     "duration": 0.124256,
     "end_time": "2022-05-15T16:33:38.090959",
     "exception": false,
     "start_time": "2022-05-15T16:33:37.966703",
     "status": "completed"
    },
    "tags": []
   },
   "outputs": [],
   "source": [
    "df = df[['timestamp',  'building_id', 'meter_reading','anomaly']]"
   ]
  },
  {
   "cell_type": "code",
   "execution_count": 20,
   "id": "a83af6a7",
   "metadata": {
    "execution": {
     "iopub.execute_input": "2022-05-15T16:33:38.282699Z",
     "iopub.status.busy": "2022-05-15T16:33:38.282415Z",
     "iopub.status.idle": "2022-05-15T16:33:38.292071Z",
     "shell.execute_reply": "2022-05-15T16:33:38.291216Z"
    },
    "papermill": {
     "duration": 0.108142,
     "end_time": "2022-05-15T16:33:38.293656",
     "exception": false,
     "start_time": "2022-05-15T16:33:38.185514",
     "status": "completed"
    },
    "tags": []
   },
   "outputs": [
    {
     "name": "stdout",
     "output_type": "stream",
     "text": [
      "<class 'pandas.core.frame.DataFrame'>\n",
      "RangeIndex: 1749494 entries, 0 to 1749493\n",
      "Data columns (total 4 columns):\n",
      " #   Column         Dtype         \n",
      "---  ------         -----         \n",
      " 0   timestamp      datetime64[ns]\n",
      " 1   building_id    float64       \n",
      " 2   meter_reading  float64       \n",
      " 3   anomaly        int64         \n",
      "dtypes: datetime64[ns](1), float64(2), int64(1)\n",
      "memory usage: 53.4 MB\n"
     ]
    }
   ],
   "source": [
    "df.info()"
   ]
  },
  {
   "cell_type": "code",
   "execution_count": 21,
   "id": "d7be4dfa",
   "metadata": {
    "execution": {
     "iopub.execute_input": "2022-05-15T16:33:38.483567Z",
     "iopub.status.busy": "2022-05-15T16:33:38.483131Z",
     "iopub.status.idle": "2022-05-15T16:33:39.580953Z",
     "shell.execute_reply": "2022-05-15T16:33:39.580050Z"
    },
    "papermill": {
     "duration": 1.195337,
     "end_time": "2022-05-15T16:33:39.583221",
     "exception": false,
     "start_time": "2022-05-15T16:33:38.387884",
     "status": "completed"
    },
    "tags": []
   },
   "outputs": [],
   "source": [
    "df['building_id'] = df['building_id'].apply(np.int64)"
   ]
  },
  {
   "cell_type": "code",
   "execution_count": 22,
   "id": "6ce2e2c8",
   "metadata": {
    "execution": {
     "iopub.execute_input": "2022-05-15T16:33:39.774562Z",
     "iopub.status.busy": "2022-05-15T16:33:39.773932Z",
     "iopub.status.idle": "2022-05-15T16:33:39.783745Z",
     "shell.execute_reply": "2022-05-15T16:33:39.782957Z"
    },
    "papermill": {
     "duration": 0.107525,
     "end_time": "2022-05-15T16:33:39.785561",
     "exception": false,
     "start_time": "2022-05-15T16:33:39.678036",
     "status": "completed"
    },
    "tags": []
   },
   "outputs": [
    {
     "name": "stdout",
     "output_type": "stream",
     "text": [
      "<class 'pandas.core.frame.DataFrame'>\n",
      "RangeIndex: 1749494 entries, 0 to 1749493\n",
      "Data columns (total 4 columns):\n",
      " #   Column         Dtype         \n",
      "---  ------         -----         \n",
      " 0   timestamp      datetime64[ns]\n",
      " 1   building_id    int64         \n",
      " 2   meter_reading  float64       \n",
      " 3   anomaly        int64         \n",
      "dtypes: datetime64[ns](1), float64(1), int64(2)\n",
      "memory usage: 53.4 MB\n"
     ]
    }
   ],
   "source": [
    "df.info()"
   ]
  },
  {
   "cell_type": "markdown",
   "id": "005c7dd7",
   "metadata": {
    "papermill": {
     "duration": 0.095496,
     "end_time": "2022-05-15T16:33:39.975485",
     "exception": false,
     "start_time": "2022-05-15T16:33:39.879989",
     "status": "completed"
    },
    "tags": []
   },
   "source": [
    "## <h3> 1- Tukey’s box plot method</h3>\n",
    "<a id=\"m1\"></a>\n",
    "\n",
    "<img src=\"https://raw.githubusercontent.com/abdallah-elsawy/Time-Series-Anomaly-Detection/main/Outputs/Tukeys-Box-plot-method/Tukey%E2%80%99s-box.jpg\">\n",
    "\n",
    "in this method we depend on the pox plot to determine if the point is outlier or not and not \n",
    "only that it gives us the ability to decide if this outlier is possible or probable outlier point; by \n",
    "calculate the following parameters: \n",
    "- 25th percentile (Q1) \n",
    "- 75th percentile (Q3) \n",
    "- interquartile range (IQR = Q3 – Q1) \n",
    "- Lower inner fence: Q1 – (1.5 * IQR) \n",
    "- Upper inner fence: Q3 + (1.5 * IQR) \n",
    "- Lower outer fence: Q1 – (3 * IQR) \n",
    "- Upper outer fence: Q3 + (3 * IQR) \n",
    "\n",
    "Then decide if the point between the inner fence and outer fence it considered as a possible \n",
    "outlier point. And if the point lies outside the outer fence, it will be considered as probable \n",
    "outlier. "
   ]
  },
  {
   "cell_type": "markdown",
   "id": "66478759",
   "metadata": {
    "papermill": {
     "duration": 0.094612,
     "end_time": "2022-05-15T16:33:40.164917",
     "exception": false,
     "start_time": "2022-05-15T16:33:40.070305",
     "status": "completed"
    },
    "tags": []
   },
   "source": [
    "#### First apply on a random grid"
   ]
  },
  {
   "cell_type": "code",
   "execution_count": 23,
   "id": "47f08912",
   "metadata": {
    "execution": {
     "iopub.execute_input": "2022-05-15T16:33:40.354737Z",
     "iopub.status.busy": "2022-05-15T16:33:40.354437Z",
     "iopub.status.idle": "2022-05-15T16:33:40.359473Z",
     "shell.execute_reply": "2022-05-15T16:33:40.358947Z"
    },
    "papermill": {
     "duration": 0.10194,
     "end_time": "2022-05-15T16:33:40.361119",
     "exception": false,
     "start_time": "2022-05-15T16:33:40.259179",
     "status": "completed"
    },
    "tags": []
   },
   "outputs": [
    {
     "data": {
      "text/plain": [
       "Index(['timestamp', 'building_id', 'meter_reading', 'anomaly'], dtype='object')"
      ]
     },
     "execution_count": 23,
     "metadata": {},
     "output_type": "execute_result"
    }
   ],
   "source": [
    "df.columns"
   ]
  },
  {
   "cell_type": "code",
   "execution_count": 24,
   "id": "6f9d9718",
   "metadata": {
    "execution": {
     "iopub.execute_input": "2022-05-15T16:33:40.558011Z",
     "iopub.status.busy": "2022-05-15T16:33:40.557567Z",
     "iopub.status.idle": "2022-05-15T16:33:40.574562Z",
     "shell.execute_reply": "2022-05-15T16:33:40.573807Z"
    },
    "papermill": {
     "duration": 0.114409,
     "end_time": "2022-05-15T16:33:40.576412",
     "exception": false,
     "start_time": "2022-05-15T16:33:40.462003",
     "status": "completed"
    },
    "tags": []
   },
   "outputs": [
    {
     "data": {
      "text/plain": [
       "1       8784\n",
       "1278    8784\n",
       "1283    8784\n",
       "1284    8784\n",
       "1285    8784\n",
       "        ... \n",
       "848     8351\n",
       "844     7959\n",
       "827     7799\n",
       "1232    7779\n",
       "1353    7471\n",
       "Name: building_id, Length: 200, dtype: int64"
      ]
     },
     "execution_count": 24,
     "metadata": {},
     "output_type": "execute_result"
    }
   ],
   "source": [
    "df['building_id'].value_counts()"
   ]
  },
  {
   "cell_type": "code",
   "execution_count": 25,
   "id": "fa50e517",
   "metadata": {
    "execution": {
     "iopub.execute_input": "2022-05-15T16:33:40.767260Z",
     "iopub.status.busy": "2022-05-15T16:33:40.766978Z",
     "iopub.status.idle": "2022-05-15T16:33:40.771557Z",
     "shell.execute_reply": "2022-05-15T16:33:40.770783Z"
    },
    "papermill": {
     "duration": 0.102797,
     "end_time": "2022-05-15T16:33:40.773373",
     "exception": false,
     "start_time": "2022-05-15T16:33:40.670576",
     "status": "completed"
    },
    "tags": []
   },
   "outputs": [],
   "source": [
    "df.set_index('timestamp',inplace=True)"
   ]
  },
  {
   "cell_type": "code",
   "execution_count": 26,
   "id": "4417bae4",
   "metadata": {
    "execution": {
     "iopub.execute_input": "2022-05-15T16:33:40.965566Z",
     "iopub.status.busy": "2022-05-15T16:33:40.965287Z",
     "iopub.status.idle": "2022-05-15T16:33:41.101353Z",
     "shell.execute_reply": "2022-05-15T16:33:41.100779Z"
    },
    "papermill": {
     "duration": 0.234551,
     "end_time": "2022-05-15T16:33:41.103060",
     "exception": false,
     "start_time": "2022-05-15T16:33:40.868509",
     "status": "completed"
    },
    "tags": []
   },
   "outputs": [
    {
     "data": {
      "text/html": [
       "<div>\n",
       "<style scoped>\n",
       "    .dataframe tbody tr th:only-of-type {\n",
       "        vertical-align: middle;\n",
       "    }\n",
       "\n",
       "    .dataframe tbody tr th {\n",
       "        vertical-align: top;\n",
       "    }\n",
       "\n",
       "    .dataframe thead th {\n",
       "        text-align: right;\n",
       "    }\n",
       "</style>\n",
       "<table border=\"1\" class=\"dataframe\">\n",
       "  <thead>\n",
       "    <tr style=\"text-align: right;\">\n",
       "      <th></th>\n",
       "      <th>building_id</th>\n",
       "      <th>meter_reading</th>\n",
       "      <th>anomaly</th>\n",
       "    </tr>\n",
       "    <tr>\n",
       "      <th>timestamp</th>\n",
       "      <th></th>\n",
       "      <th></th>\n",
       "      <th></th>\n",
       "    </tr>\n",
       "  </thead>\n",
       "  <tbody>\n",
       "    <tr>\n",
       "      <th>2016-01-01 00:00:00</th>\n",
       "      <td>108</td>\n",
       "      <td>179.901838</td>\n",
       "      <td>0</td>\n",
       "    </tr>\n",
       "    <tr>\n",
       "      <th>2016-01-01 01:00:00</th>\n",
       "      <td>108</td>\n",
       "      <td>182.531000</td>\n",
       "      <td>1</td>\n",
       "    </tr>\n",
       "    <tr>\n",
       "      <th>2016-01-01 02:00:00</th>\n",
       "      <td>108</td>\n",
       "      <td>1.000000</td>\n",
       "      <td>1</td>\n",
       "    </tr>\n",
       "    <tr>\n",
       "      <th>2016-01-01 03:00:00</th>\n",
       "      <td>108</td>\n",
       "      <td>1.000000</td>\n",
       "      <td>1</td>\n",
       "    </tr>\n",
       "    <tr>\n",
       "      <th>2016-01-01 04:00:00</th>\n",
       "      <td>108</td>\n",
       "      <td>1.000000</td>\n",
       "      <td>1</td>\n",
       "    </tr>\n",
       "    <tr>\n",
       "      <th>...</th>\n",
       "      <td>...</td>\n",
       "      <td>...</td>\n",
       "      <td>...</td>\n",
       "    </tr>\n",
       "    <tr>\n",
       "      <th>2016-12-31 19:00:00</th>\n",
       "      <td>108</td>\n",
       "      <td>179.500000</td>\n",
       "      <td>0</td>\n",
       "    </tr>\n",
       "    <tr>\n",
       "      <th>2016-12-31 20:00:00</th>\n",
       "      <td>108</td>\n",
       "      <td>178.000000</td>\n",
       "      <td>0</td>\n",
       "    </tr>\n",
       "    <tr>\n",
       "      <th>2016-12-31 21:00:00</th>\n",
       "      <td>108</td>\n",
       "      <td>176.500000</td>\n",
       "      <td>0</td>\n",
       "    </tr>\n",
       "    <tr>\n",
       "      <th>2016-12-31 22:00:00</th>\n",
       "      <td>108</td>\n",
       "      <td>178.000000</td>\n",
       "      <td>0</td>\n",
       "    </tr>\n",
       "    <tr>\n",
       "      <th>2016-12-31 23:00:00</th>\n",
       "      <td>108</td>\n",
       "      <td>177.500000</td>\n",
       "      <td>0</td>\n",
       "    </tr>\n",
       "  </tbody>\n",
       "</table>\n",
       "<p>8784 rows × 3 columns</p>\n",
       "</div>"
      ],
      "text/plain": [
       "                     building_id  meter_reading  anomaly\n",
       "timestamp                                               \n",
       "2016-01-01 00:00:00          108     179.901838        0\n",
       "2016-01-01 01:00:00          108     182.531000        1\n",
       "2016-01-01 02:00:00          108       1.000000        1\n",
       "2016-01-01 03:00:00          108       1.000000        1\n",
       "2016-01-01 04:00:00          108       1.000000        1\n",
       "...                          ...            ...      ...\n",
       "2016-12-31 19:00:00          108     179.500000        0\n",
       "2016-12-31 20:00:00          108     178.000000        0\n",
       "2016-12-31 21:00:00          108     176.500000        0\n",
       "2016-12-31 22:00:00          108     178.000000        0\n",
       "2016-12-31 23:00:00          108     177.500000        0\n",
       "\n",
       "[8784 rows x 3 columns]"
      ]
     },
     "execution_count": 26,
     "metadata": {},
     "output_type": "execute_result"
    }
   ],
   "source": [
    "df.groupby(\"building_id\").get_group(108)"
   ]
  },
  {
   "cell_type": "code",
   "execution_count": 27,
   "id": "d0c14008",
   "metadata": {
    "execution": {
     "iopub.execute_input": "2022-05-15T16:33:41.302377Z",
     "iopub.status.busy": "2022-05-15T16:33:41.301475Z",
     "iopub.status.idle": "2022-05-15T16:33:41.813058Z",
     "shell.execute_reply": "2022-05-15T16:33:41.812244Z"
    },
    "papermill": {
     "duration": 0.615674,
     "end_time": "2022-05-15T16:33:41.816113",
     "exception": false,
     "start_time": "2022-05-15T16:33:41.200439",
     "status": "completed"
    },
    "tags": []
   },
   "outputs": [
    {
     "data": {
      "image/png": "[encoded data removed]",
      "text/plain": [
       "<Figure size 2160x720 with 1 Axes>"
      ]
     },
     "metadata": {
      "needs_background": "light"
     },
     "output_type": "display_data"
    }
   ],
   "source": [
    "fig, ax = plt.subplots(figsize=(30,10))\n",
    "ax.plot(df.groupby(\"building_id\").get_group(108)['meter_reading'].index, \n",
    "        df.groupby(\"building_id\").get_group(108)['meter_reading'], color='blue', label = 'Normal')\n",
    "ax.set_title('Random building_id(108) ', fontsize=20)\n",
    "plt.legend()\n",
    "plt.show();"
   ]
  },
  {
   "cell_type": "code",
   "execution_count": 28,
   "id": "65805a6d",
   "metadata": {
    "execution": {
     "iopub.execute_input": "2022-05-15T16:33:42.022702Z",
     "iopub.status.busy": "2022-05-15T16:33:42.021623Z",
     "iopub.status.idle": "2022-05-15T16:33:42.029225Z",
     "shell.execute_reply": "2022-05-15T16:33:42.028618Z"
    },
    "papermill": {
     "duration": 0.113672,
     "end_time": "2022-05-15T16:33:42.031091",
     "exception": false,
     "start_time": "2022-05-15T16:33:41.917419",
     "status": "completed"
    },
    "tags": []
   },
   "outputs": [],
   "source": [
    "def tukeys_method(df, variable):\n",
    "    #Takes two parameters: dataframe & variable of interest as string\n",
    "    q1 = df[variable].quantile(0.25)\n",
    "    q3 = df[variable].quantile(0.75)\n",
    "    iqr = q3-q1\n",
    "    inner_fence = 1.5*iqr\n",
    "    outer_fence = 3*iqr\n",
    "    \n",
    "    #inner fence lower and upper end\n",
    "    inner_fence_le = q1-inner_fence\n",
    "    inner_fence_ue = q3+inner_fence\n",
    "    \n",
    "    #outer fence lower and upper end\n",
    "    outer_fence_le = q1-outer_fence\n",
    "    outer_fence_ue = q3+outer_fence\n",
    "    \n",
    "    outliers_prob = []\n",
    "    outliers_poss = []\n",
    "    for index, x in enumerate(df[variable]):\n",
    "        if x <= outer_fence_le or x >= outer_fence_ue:\n",
    "            outliers_prob.append(index)\n",
    "    for index, x in enumerate(df[variable]):\n",
    "        if x <= inner_fence_le or x >= inner_fence_ue:\n",
    "            outliers_poss.append(index)\n",
    "    return outliers_prob, outliers_poss\n"
   ]
  },
  {
   "cell_type": "code",
   "execution_count": 29,
   "id": "66aafe7e",
   "metadata": {
    "execution": {
     "iopub.execute_input": "2022-05-15T16:33:42.235334Z",
     "iopub.status.busy": "2022-05-15T16:33:42.234756Z",
     "iopub.status.idle": "2022-05-15T16:33:42.339355Z",
     "shell.execute_reply": "2022-05-15T16:33:42.338504Z"
    },
    "papermill": {
     "duration": 0.208603,
     "end_time": "2022-05-15T16:33:42.341359",
     "exception": false,
     "start_time": "2022-05-15T16:33:42.132756",
     "status": "completed"
    },
    "tags": []
   },
   "outputs": [
    {
     "name": "stdout",
     "output_type": "stream",
     "text": [
      "[]\n",
      "*****************************************************************************************\n",
      "[2, 3, 4, 5, 6, 7, 8, 9, 10, 11, 12, 13, 14, 15, 16, 17, 18, 19, 20, 21, 22, 23, 1298, 1299, 1300, 1301, 1302, 1303, 1304, 1305, 1306, 1307, 1308, 1309, 1310, 1311, 1312, 1313, 1314, 1315, 1316, 1317, 1318, 1319, 2858, 2859, 2860, 2861, 2862, 2863, 2864, 2865, 2866, 2867, 2868, 2869, 2870, 2871, 2872, 2873, 2874, 2875, 2876, 2877, 2878, 2879, 2964, 2965, 2968, 2988, 2989, 2990, 2991, 2992, 3013, 3014, 3015, 3016, 3017, 3035, 3036, 3037, 3038, 3039, 3040, 3108, 3280, 3377, 3445, 3446, 3447, 3448, 3449, 3518, 3519, 3520, 3521, 3544, 3780, 3782, 3783, 3784, 3785, 3786, 3857, 3858, 3877, 3878, 3879, 3880, 3881, 3882, 4289, 4290, 4308, 4309, 4310, 4311, 4312, 4479, 4480, 4481, 4499, 4500, 4501, 4502, 4503, 4504, 4505, 4506, 4524, 4525, 4526, 4527, 4528, 4669, 4718, 4789, 4790, 4791, 4792, 4793, 4794, 4813, 4814, 4815, 4837, 4908, 5365, 5369, 5393, 5460, 5461, 5462, 5463, 5464, 5465, 5487, 5537, 5653, 5654, 5655, 5656, 5657, 5680, 5681, 5682, 5705, 5727, 5728, 5729, 5821, 5822, 5823, 5824, 5825, 5826, 5966, 5968, 5969, 5986, 5988, 5989, 5990, 5991, 5992, 6013, 6014, 6016, 6035, 6037, 6133, 6134, 6135, 6154, 6156, 6157, 6158, 6159, 6160, 6161, 6162, 6178, 6181, 6182, 6183, 6184, 6185, 6204, 6205, 6206, 6351, 6352, 6353, 6396, 6397, 6398, 6399, 6400, 6401, 6423, 6424, 6472, 6473, 6543, 6544, 6545, 6564, 6567, 6568, 6569, 6638, 6639, 6640, 6641, 6688, 6697, 6698, 6699, 6700, 6701, 6702, 6703, 6704, 6705, 6706, 6707, 6708, 6709, 6710, 6711, 6712, 6713, 6714, 6715, 6716, 6717, 6718, 6719, 6831, 7009, 7010, 7011, 7012, 7013, 7014, 7015, 7016, 7017, 7018, 7019, 7020, 7021, 7022, 7023, 7024, 7025, 7026, 7027, 7028, 7029, 7030, 7031, 7153, 7154, 7155, 7156, 7157, 7158, 7159, 7160, 7161, 7162, 7163, 7164, 7165, 7166, 7167, 7168, 7169, 7170, 7171, 7172, 7173, 7174, 7175, 7273, 7682, 7683, 7684, 7685, 7686, 7687, 7688, 7689, 7690, 7691, 7692, 7693, 7694, 7695, 7696, 7697, 7698, 7699, 7700, 7701, 7702, 7703, 8737, 8738, 8739, 8740, 8741, 8742, 8743, 8744, 8745, 8746, 8747, 8748, 8749, 8750, 8751, 8752, 8753, 8754, 8755, 8756, 8757, 8758, 8759]\n"
     ]
    }
   ],
   "source": [
    "random_building_id = df.groupby(\"building_id\").get_group(108)\n",
    "\n",
    "probable_outliers_tm, possible_outliers_tm = tukeys_method(random_building_id, \"meter_reading\")\n",
    "\n",
    "print(probable_outliers_tm)\n",
    "print(\"*****************************************************************************************\")\n",
    "print(possible_outliers_tm)"
   ]
  },
  {
   "cell_type": "code",
   "execution_count": 30,
   "id": "b00c12da",
   "metadata": {
    "execution": {
     "iopub.execute_input": "2022-05-15T16:33:42.545512Z",
     "iopub.status.busy": "2022-05-15T16:33:42.544981Z",
     "iopub.status.idle": "2022-05-15T16:33:42.550288Z",
     "shell.execute_reply": "2022-05-15T16:33:42.549708Z"
    },
    "papermill": {
     "duration": 0.10945,
     "end_time": "2022-05-15T16:33:42.551983",
     "exception": false,
     "start_time": "2022-05-15T16:33:42.442533",
     "status": "completed"
    },
    "tags": []
   },
   "outputs": [
    {
     "data": {
      "text/plain": [
       "0"
      ]
     },
     "execution_count": 30,
     "metadata": {},
     "output_type": "execute_result"
    }
   ],
   "source": [
    "len(probable_outliers_tm)"
   ]
  },
  {
   "cell_type": "code",
   "execution_count": 31,
   "id": "f8cef65a",
   "metadata": {
    "execution": {
     "iopub.execute_input": "2022-05-15T16:33:42.755488Z",
     "iopub.status.busy": "2022-05-15T16:33:42.754954Z",
     "iopub.status.idle": "2022-05-15T16:33:42.760559Z",
     "shell.execute_reply": "2022-05-15T16:33:42.759756Z"
    },
    "papermill": {
     "duration": 0.109872,
     "end_time": "2022-05-15T16:33:42.762777",
     "exception": false,
     "start_time": "2022-05-15T16:33:42.652905",
     "status": "completed"
    },
    "tags": []
   },
   "outputs": [
    {
     "data": {
      "text/plain": [
       "352"
      ]
     },
     "execution_count": 31,
     "metadata": {},
     "output_type": "execute_result"
    }
   ],
   "source": [
    "len(possible_outliers_tm)"
   ]
  },
  {
   "cell_type": "code",
   "execution_count": 32,
   "id": "36ceb33a",
   "metadata": {
    "execution": {
     "iopub.execute_input": "2022-05-15T16:33:42.970379Z",
     "iopub.status.busy": "2022-05-15T16:33:42.969829Z",
     "iopub.status.idle": "2022-05-15T16:33:42.975730Z",
     "shell.execute_reply": "2022-05-15T16:33:42.975170Z"
    },
    "papermill": {
     "duration": 0.110068,
     "end_time": "2022-05-15T16:33:42.977590",
     "exception": false,
     "start_time": "2022-05-15T16:33:42.867522",
     "status": "completed"
    },
    "tags": []
   },
   "outputs": [],
   "source": [
    "anomaly = pd.DataFrame(possible_outliers_tm)\n",
    "anomaly['Anomaly'] = 1\n",
    "anomaly.set_index(0, inplace=True)"
   ]
  },
  {
   "cell_type": "code",
   "execution_count": 33,
   "id": "35c04457",
   "metadata": {
    "execution": {
     "iopub.execute_input": "2022-05-15T16:33:43.183557Z",
     "iopub.status.busy": "2022-05-15T16:33:43.182709Z",
     "iopub.status.idle": "2022-05-15T16:33:43.194205Z",
     "shell.execute_reply": "2022-05-15T16:33:43.193602Z"
    },
    "papermill": {
     "duration": 0.116015,
     "end_time": "2022-05-15T16:33:43.195971",
     "exception": false,
     "start_time": "2022-05-15T16:33:43.079956",
     "status": "completed"
    },
    "tags": []
   },
   "outputs": [],
   "source": [
    "random_building_id = pd.concat([random_building_id.reset_index(), anomaly], axis=1)"
   ]
  },
  {
   "cell_type": "code",
   "execution_count": 34,
   "id": "8f69b70b",
   "metadata": {
    "execution": {
     "iopub.execute_input": "2022-05-15T16:33:43.404283Z",
     "iopub.status.busy": "2022-05-15T16:33:43.403830Z",
     "iopub.status.idle": "2022-05-15T16:33:43.418414Z",
     "shell.execute_reply": "2022-05-15T16:33:43.417566Z"
    },
    "papermill": {
     "duration": 0.121989,
     "end_time": "2022-05-15T16:33:43.420663",
     "exception": false,
     "start_time": "2022-05-15T16:33:43.298674",
     "status": "completed"
    },
    "tags": []
   },
   "outputs": [
    {
     "data": {
      "text/html": [
       "<div>\n",
       "<style scoped>\n",
       "    .dataframe tbody tr th:only-of-type {\n",
       "        vertical-align: middle;\n",
       "    }\n",
       "\n",
       "    .dataframe tbody tr th {\n",
       "        vertical-align: top;\n",
       "    }\n",
       "\n",
       "    .dataframe thead th {\n",
       "        text-align: right;\n",
       "    }\n",
       "</style>\n",
       "<table border=\"1\" class=\"dataframe\">\n",
       "  <thead>\n",
       "    <tr style=\"text-align: right;\">\n",
       "      <th></th>\n",
       "      <th>timestamp</th>\n",
       "      <th>building_id</th>\n",
       "      <th>meter_reading</th>\n",
       "      <th>anomaly</th>\n",
       "      <th>Anomaly</th>\n",
       "    </tr>\n",
       "  </thead>\n",
       "  <tbody>\n",
       "    <tr>\n",
       "      <th>0</th>\n",
       "      <td>2016-01-01 00:00:00</td>\n",
       "      <td>108</td>\n",
       "      <td>179.901838</td>\n",
       "      <td>0</td>\n",
       "      <td>NaN</td>\n",
       "    </tr>\n",
       "    <tr>\n",
       "      <th>1</th>\n",
       "      <td>2016-01-01 01:00:00</td>\n",
       "      <td>108</td>\n",
       "      <td>182.531000</td>\n",
       "      <td>1</td>\n",
       "      <td>NaN</td>\n",
       "    </tr>\n",
       "    <tr>\n",
       "      <th>2</th>\n",
       "      <td>2016-01-01 02:00:00</td>\n",
       "      <td>108</td>\n",
       "      <td>1.000000</td>\n",
       "      <td>1</td>\n",
       "      <td>1.0</td>\n",
       "    </tr>\n",
       "    <tr>\n",
       "      <th>3</th>\n",
       "      <td>2016-01-01 03:00:00</td>\n",
       "      <td>108</td>\n",
       "      <td>1.000000</td>\n",
       "      <td>1</td>\n",
       "      <td>1.0</td>\n",
       "    </tr>\n",
       "    <tr>\n",
       "      <th>4</th>\n",
       "      <td>2016-01-01 04:00:00</td>\n",
       "      <td>108</td>\n",
       "      <td>1.000000</td>\n",
       "      <td>1</td>\n",
       "      <td>1.0</td>\n",
       "    </tr>\n",
       "    <tr>\n",
       "      <th>...</th>\n",
       "      <td>...</td>\n",
       "      <td>...</td>\n",
       "      <td>...</td>\n",
       "      <td>...</td>\n",
       "      <td>...</td>\n",
       "    </tr>\n",
       "    <tr>\n",
       "      <th>8779</th>\n",
       "      <td>2016-12-31 19:00:00</td>\n",
       "      <td>108</td>\n",
       "      <td>179.500000</td>\n",
       "      <td>0</td>\n",
       "      <td>NaN</td>\n",
       "    </tr>\n",
       "    <tr>\n",
       "      <th>8780</th>\n",
       "      <td>2016-12-31 20:00:00</td>\n",
       "      <td>108</td>\n",
       "      <td>178.000000</td>\n",
       "      <td>0</td>\n",
       "      <td>NaN</td>\n",
       "    </tr>\n",
       "    <tr>\n",
       "      <th>8781</th>\n",
       "      <td>2016-12-31 21:00:00</td>\n",
       "      <td>108</td>\n",
       "      <td>176.500000</td>\n",
       "      <td>0</td>\n",
       "      <td>NaN</td>\n",
       "    </tr>\n",
       "    <tr>\n",
       "      <th>8782</th>\n",
       "      <td>2016-12-31 22:00:00</td>\n",
       "      <td>108</td>\n",
       "      <td>178.000000</td>\n",
       "      <td>0</td>\n",
       "      <td>NaN</td>\n",
       "    </tr>\n",
       "    <tr>\n",
       "      <th>8783</th>\n",
       "      <td>2016-12-31 23:00:00</td>\n",
       "      <td>108</td>\n",
       "      <td>177.500000</td>\n",
       "      <td>0</td>\n",
       "      <td>NaN</td>\n",
       "    </tr>\n",
       "  </tbody>\n",
       "</table>\n",
       "<p>8784 rows × 5 columns</p>\n",
       "</div>"
      ],
      "text/plain": [
       "               timestamp  building_id  meter_reading  anomaly  Anomaly\n",
       "0    2016-01-01 00:00:00          108     179.901838        0      NaN\n",
       "1    2016-01-01 01:00:00          108     182.531000        1      NaN\n",
       "2    2016-01-01 02:00:00          108       1.000000        1      1.0\n",
       "3    2016-01-01 03:00:00          108       1.000000        1      1.0\n",
       "4    2016-01-01 04:00:00          108       1.000000        1      1.0\n",
       "...                  ...          ...            ...      ...      ...\n",
       "8779 2016-12-31 19:00:00          108     179.500000        0      NaN\n",
       "8780 2016-12-31 20:00:00          108     178.000000        0      NaN\n",
       "8781 2016-12-31 21:00:00          108     176.500000        0      NaN\n",
       "8782 2016-12-31 22:00:00          108     178.000000        0      NaN\n",
       "8783 2016-12-31 23:00:00          108     177.500000        0      NaN\n",
       "\n",
       "[8784 rows x 5 columns]"
      ]
     },
     "execution_count": 34,
     "metadata": {},
     "output_type": "execute_result"
    }
   ],
   "source": [
    "random_building_id"
   ]
  },
  {
   "cell_type": "code",
   "execution_count": 35,
   "id": "258bf1e2",
   "metadata": {
    "execution": {
     "iopub.execute_input": "2022-05-15T16:33:43.631406Z",
     "iopub.status.busy": "2022-05-15T16:33:43.630921Z",
     "iopub.status.idle": "2022-05-15T16:33:43.638295Z",
     "shell.execute_reply": "2022-05-15T16:33:43.637750Z"
    },
    "papermill": {
     "duration": 0.112832,
     "end_time": "2022-05-15T16:33:43.639963",
     "exception": false,
     "start_time": "2022-05-15T16:33:43.527131",
     "status": "completed"
    },
    "tags": []
   },
   "outputs": [],
   "source": [
    "random_building_id['Anomaly'] = random_building_id['Anomaly'].replace(np.nan, False)\n",
    "random_building_id['Anomaly'] = random_building_id['Anomaly'].replace(1.0, True)"
   ]
  },
  {
   "cell_type": "code",
   "execution_count": 36,
   "id": "10b2c6ba",
   "metadata": {
    "execution": {
     "iopub.execute_input": "2022-05-15T16:33:43.846695Z",
     "iopub.status.busy": "2022-05-15T16:33:43.846197Z",
     "iopub.status.idle": "2022-05-15T16:33:43.853043Z",
     "shell.execute_reply": "2022-05-15T16:33:43.852102Z"
    },
    "papermill": {
     "duration": 0.112416,
     "end_time": "2022-05-15T16:33:43.854779",
     "exception": false,
     "start_time": "2022-05-15T16:33:43.742363",
     "status": "completed"
    },
    "tags": []
   },
   "outputs": [
    {
     "data": {
      "text/plain": [
       "False    8432\n",
       "True      352\n",
       "Name: Anomaly, dtype: int64"
      ]
     },
     "execution_count": 36,
     "metadata": {},
     "output_type": "execute_result"
    }
   ],
   "source": [
    "random_building_id['Anomaly'].value_counts()"
   ]
  },
  {
   "cell_type": "code",
   "execution_count": 37,
   "id": "3701d2d6",
   "metadata": {
    "execution": {
     "iopub.execute_input": "2022-05-15T16:33:44.085460Z",
     "iopub.status.busy": "2022-05-15T16:33:44.084943Z",
     "iopub.status.idle": "2022-05-15T16:33:44.440759Z",
     "shell.execute_reply": "2022-05-15T16:33:44.439794Z"
    },
    "papermill": {
     "duration": 0.473204,
     "end_time": "2022-05-15T16:33:44.444537",
     "exception": false,
     "start_time": "2022-05-15T16:33:43.971333",
     "status": "completed"
    },
    "tags": []
   },
   "outputs": [
    {
     "data": {
      "image/png": "[encoded data removed]",
      "text/plain": [
       "<Figure size 2160x720 with 1 Axes>"
      ]
     },
     "metadata": {
      "needs_background": "light"
     },
     "output_type": "display_data"
    }
   ],
   "source": [
    "fig, ax = plt.subplots(figsize=(30,10))\n",
    "\n",
    "anomaly = random_building_id.loc[random_building_id['Anomaly'] == True, ['meter_reading']] \n",
    "\n",
    "ax.plot(random_building_id.index, random_building_id['meter_reading'], color='blue', label = 'Normal')\n",
    "ax.scatter(anomaly.index,anomaly['meter_reading'], color='red', label = 'Anomaly')\n",
    "ax.set_title('Random Building Id(108) anomalies points for box blot method', fontsize=20)\n",
    "plt.legend()\n",
    "plt.show();"
   ]
  },
  {
   "cell_type": "code",
   "execution_count": 38,
   "id": "4e4907f8",
   "metadata": {
    "execution": {
     "iopub.execute_input": "2022-05-15T16:33:44.695501Z",
     "iopub.status.busy": "2022-05-15T16:33:44.695228Z",
     "iopub.status.idle": "2022-05-15T16:33:44.699119Z",
     "shell.execute_reply": "2022-05-15T16:33:44.698191Z"
    },
    "papermill": {
     "duration": 0.117499,
     "end_time": "2022-05-15T16:33:44.701062",
     "exception": false,
     "start_time": "2022-05-15T16:33:44.583563",
     "status": "completed"
    },
    "tags": []
   },
   "outputs": [],
   "source": [
    "# fig1 = px.line(random_building_id,  y=\"meter_reading\")\n",
    "# fig1.update_traces(line=dict(color = 'magenta'))\n",
    "\n",
    "# anomaly = random_building_id.loc[random_building_id['Anomaly'] == True, ['meter_reading']] \n",
    "# fig2 = px.scatter(anomaly,y=\"meter_reading\")\n",
    "\n",
    "# fig3 = go.Figure(data=fig1.data + fig2.data)\n",
    "# fig3.update_layout(title=\"Random Building Id(108) anomalies points for box blot method\")\n",
    "# fig3.show()"
   ]
  },
  {
   "cell_type": "code",
   "execution_count": 39,
   "id": "803ca7cd",
   "metadata": {
    "execution": {
     "iopub.execute_input": "2022-05-15T16:33:44.931163Z",
     "iopub.status.busy": "2022-05-15T16:33:44.930376Z",
     "iopub.status.idle": "2022-05-15T16:33:44.937093Z",
     "shell.execute_reply": "2022-05-15T16:33:44.936424Z"
    },
    "papermill": {
     "duration": 0.126638,
     "end_time": "2022-05-15T16:33:44.938794",
     "exception": false,
     "start_time": "2022-05-15T16:33:44.812156",
     "status": "completed"
    },
    "tags": []
   },
   "outputs": [
    {
     "name": "stdout",
     "output_type": "stream",
     "text": [
      "my first model predication for only one building has accurcy  96.69 %\n"
     ]
    }
   ],
   "source": [
    "print(\"my first model predication for only one building has accurcy \",round((random_building_id[random_building_id['anomaly'] == random_building_id['Anomaly']].shape[0]/random_building_id.shape[0])*100,2),\"%\")"
   ]
  },
  {
   "cell_type": "markdown",
   "id": "b74ac07f",
   "metadata": {
    "papermill": {
     "duration": 0.108607,
     "end_time": "2022-05-15T16:33:45.156072",
     "exception": false,
     "start_time": "2022-05-15T16:33:45.047465",
     "status": "completed"
    },
    "tags": []
   },
   "source": [
    "#### Second apply on all grids"
   ]
  },
  {
   "cell_type": "code",
   "execution_count": 40,
   "id": "c9d9638b",
   "metadata": {
    "execution": {
     "iopub.execute_input": "2022-05-15T16:33:45.376937Z",
     "iopub.status.busy": "2022-05-15T16:33:45.376451Z",
     "iopub.status.idle": "2022-05-15T16:33:45.446821Z",
     "shell.execute_reply": "2022-05-15T16:33:45.445989Z"
    },
    "papermill": {
     "duration": 0.183465,
     "end_time": "2022-05-15T16:33:45.449089",
     "exception": false,
     "start_time": "2022-05-15T16:33:45.265624",
     "status": "completed"
    },
    "tags": []
   },
   "outputs": [],
   "source": [
    "All_buildings = df.groupby(\"building_id\")\n",
    "buildings = list(All_buildings.groups.keys())"
   ]
  },
  {
   "cell_type": "code",
   "execution_count": 41,
   "id": "e378438d",
   "metadata": {
    "execution": {
     "iopub.execute_input": "2022-05-15T16:33:45.672172Z",
     "iopub.status.busy": "2022-05-15T16:33:45.671571Z",
     "iopub.status.idle": "2022-05-15T16:34:03.521850Z",
     "shell.execute_reply": "2022-05-15T16:34:03.520979Z"
    },
    "papermill": {
     "duration": 17.963844,
     "end_time": "2022-05-15T16:34:03.524216",
     "exception": false,
     "start_time": "2022-05-15T16:33:45.560372",
     "status": "completed"
    },
    "tags": []
   },
   "outputs": [],
   "source": [
    "data=[]\n",
    "for building in buildings:\n",
    "    All_buildings = df.groupby(\"building_id\").get_group(building)\n",
    "    data.append(All_buildings)"
   ]
  },
  {
   "cell_type": "code",
   "execution_count": 42,
   "id": "a68fc698",
   "metadata": {
    "execution": {
     "iopub.execute_input": "2022-05-15T16:34:03.743626Z",
     "iopub.status.busy": "2022-05-15T16:34:03.743371Z",
     "iopub.status.idle": "2022-05-15T16:34:03.748277Z",
     "shell.execute_reply": "2022-05-15T16:34:03.747455Z"
    },
    "papermill": {
     "duration": 0.116869,
     "end_time": "2022-05-15T16:34:03.750239",
     "exception": false,
     "start_time": "2022-05-15T16:34:03.633370",
     "status": "completed"
    },
    "tags": []
   },
   "outputs": [
    {
     "data": {
      "text/plain": [
       "200"
      ]
     },
     "execution_count": 42,
     "metadata": {},
     "output_type": "execute_result"
    }
   ],
   "source": [
    "x=len(buildings)\n",
    "x"
   ]
  },
  {
   "cell_type": "code",
   "execution_count": 43,
   "id": "285f77a6",
   "metadata": {
    "execution": {
     "iopub.execute_input": "2022-05-15T16:34:03.972070Z",
     "iopub.status.busy": "2022-05-15T16:34:03.971640Z",
     "iopub.status.idle": "2022-05-15T16:34:03.979420Z",
     "shell.execute_reply": "2022-05-15T16:34:03.978642Z"
    },
    "papermill": {
     "duration": 0.121285,
     "end_time": "2022-05-15T16:34:03.981175",
     "exception": false,
     "start_time": "2022-05-15T16:34:03.859890",
     "status": "completed"
    },
    "tags": []
   },
   "outputs": [
    {
     "data": {
      "text/plain": [
       "[1,\n",
       " 32,\n",
       " 41,\n",
       " 55,\n",
       " 69,\n",
       " 79,\n",
       " 82,\n",
       " 91,\n",
       " 107,\n",
       " 108,\n",
       " 111,\n",
       " 112,\n",
       " 117,\n",
       " 118,\n",
       " 119,\n",
       " 121,\n",
       " 136,\n",
       " 137,\n",
       " 139,\n",
       " 141,\n",
       " 144,\n",
       " 147,\n",
       " 148,\n",
       " 149,\n",
       " 159,\n",
       " 171,\n",
       " 173,\n",
       " 174,\n",
       " 181,\n",
       " 183,\n",
       " 190,\n",
       " 235,\n",
       " 238,\n",
       " 240,\n",
       " 246,\n",
       " 247,\n",
       " 248,\n",
       " 253,\n",
       " 254,\n",
       " 263,\n",
       " 270,\n",
       " 275,\n",
       " 276,\n",
       " 278,\n",
       " 290,\n",
       " 293,\n",
       " 312,\n",
       " 318,\n",
       " 335,\n",
       " 345,\n",
       " 356,\n",
       " 423,\n",
       " 439,\n",
       " 492,\n",
       " 534,\n",
       " 560,\n",
       " 623,\n",
       " 653,\n",
       " 657,\n",
       " 658,\n",
       " 666,\n",
       " 667,\n",
       " 673,\n",
       " 675,\n",
       " 677,\n",
       " 680,\n",
       " 683,\n",
       " 685,\n",
       " 687,\n",
       " 693,\n",
       " 697,\n",
       " 698,\n",
       " 701,\n",
       " 708,\n",
       " 710,\n",
       " 721,\n",
       " 722,\n",
       " 729,\n",
       " 730,\n",
       " 732,\n",
       " 739,\n",
       " 742,\n",
       " 801,\n",
       " 827,\n",
       " 844,\n",
       " 848,\n",
       " 879,\n",
       " 880,\n",
       " 881,\n",
       " 882,\n",
       " 884,\n",
       " 886,\n",
       " 887,\n",
       " 889,\n",
       " 890,\n",
       " 892,\n",
       " 893,\n",
       " 894,\n",
       " 895,\n",
       " 896,\n",
       " 903,\n",
       " 905,\n",
       " 909,\n",
       " 914,\n",
       " 919,\n",
       " 922,\n",
       " 924,\n",
       " 925,\n",
       " 926,\n",
       " 928,\n",
       " 929,\n",
       " 931,\n",
       " 935,\n",
       " 936,\n",
       " 941,\n",
       " 942,\n",
       " 945,\n",
       " 948,\n",
       " 950,\n",
       " 952,\n",
       " 961,\n",
       " 966,\n",
       " 967,\n",
       " 968,\n",
       " 969,\n",
       " 970,\n",
       " 971,\n",
       " 973,\n",
       " 974,\n",
       " 975,\n",
       " 977,\n",
       " 978,\n",
       " 981,\n",
       " 988,\n",
       " 990,\n",
       " 992,\n",
       " 994,\n",
       " 996,\n",
       " 1001,\n",
       " 1007,\n",
       " 1068,\n",
       " 1073,\n",
       " 1074,\n",
       " 1106,\n",
       " 1120,\n",
       " 1128,\n",
       " 1137,\n",
       " 1141,\n",
       " 1143,\n",
       " 1147,\n",
       " 1172,\n",
       " 1219,\n",
       " 1225,\n",
       " 1226,\n",
       " 1230,\n",
       " 1232,\n",
       " 1234,\n",
       " 1238,\n",
       " 1239,\n",
       " 1241,\n",
       " 1242,\n",
       " 1245,\n",
       " 1246,\n",
       " 1247,\n",
       " 1249,\n",
       " 1251,\n",
       " 1252,\n",
       " 1253,\n",
       " 1255,\n",
       " 1257,\n",
       " 1258,\n",
       " 1259,\n",
       " 1260,\n",
       " 1261,\n",
       " 1264,\n",
       " 1266,\n",
       " 1267,\n",
       " 1272,\n",
       " 1275,\n",
       " 1278,\n",
       " 1279,\n",
       " 1283,\n",
       " 1284,\n",
       " 1285,\n",
       " 1296,\n",
       " 1297,\n",
       " 1300,\n",
       " 1302,\n",
       " 1303,\n",
       " 1304,\n",
       " 1306,\n",
       " 1309,\n",
       " 1310,\n",
       " 1311,\n",
       " 1315,\n",
       " 1316,\n",
       " 1318,\n",
       " 1319,\n",
       " 1323,\n",
       " 1353]"
      ]
     },
     "execution_count": 43,
     "metadata": {},
     "output_type": "execute_result"
    }
   ],
   "source": [
    "buildings"
   ]
  },
  {
   "cell_type": "code",
   "execution_count": 44,
   "id": "e684e52c",
   "metadata": {
    "execution": {
     "iopub.execute_input": "2022-05-15T16:34:04.203010Z",
     "iopub.status.busy": "2022-05-15T16:34:04.202579Z",
     "iopub.status.idle": "2022-05-15T16:34:08.096248Z",
     "shell.execute_reply": "2022-05-15T16:34:08.095239Z"
    },
    "papermill": {
     "duration": 4.007444,
     "end_time": "2022-05-15T16:34:08.098813",
     "exception": false,
     "start_time": "2022-05-15T16:34:04.091369",
     "status": "completed"
    },
    "tags": []
   },
   "outputs": [
    {
     "name": "stdout",
     "output_type": "stream",
     "text": [
      "================ NO Anomaly in building number 1 ================\n",
      "=================================================================\n",
      "================ NO Anomaly in building number 2 ================\n",
      "=================================================================\n",
      "================ NO Anomaly in building number 3 ================\n",
      "=================================================================\n",
      "================ NO Anomaly in building number 4 ================\n",
      "=================================================================\n",
      "================ NO Anomaly in building number 5 ================\n",
      "=================================================================\n",
      "==================== building number 6 done ====================\n",
      "-------------- have number of anomalies points  1.0 --------------\n",
      "=================================================================\n",
      "================ NO Anomaly in building number 7 ================\n",
      "=================================================================\n",
      "==================== building number 8 done ====================\n",
      "-------------- have number of anomalies points  1.0 --------------\n",
      "=================================================================\n",
      "================ NO Anomaly in building number 9 ================\n",
      "=================================================================\n",
      "==================== building number 10 done ====================\n",
      "-------------- have number of anomalies points  1.0 --------------\n",
      "=================================================================\n",
      "==================== building number 11 done ====================\n",
      "-------------- have number of anomalies points  1.0 --------------\n",
      "=================================================================\n",
      "================ NO Anomaly in building number 12 ================\n",
      "=================================================================\n",
      "==================== building number 13 done ====================\n",
      "-------------- have number of anomalies points  1.0 --------------\n",
      "=================================================================\n",
      "================ NO Anomaly in building number 14 ================\n",
      "=================================================================\n",
      "==================== building number 15 done ====================\n",
      "-------------- have number of anomalies points  1.0 --------------\n",
      "=================================================================\n",
      "==================== building number 16 done ====================\n",
      "-------------- have number of anomalies points  1.0 --------------\n",
      "=================================================================\n",
      "==================== building number 17 done ====================\n",
      "-------------- have number of anomalies points  1.0 --------------\n",
      "=================================================================\n",
      "================ NO Anomaly in building number 18 ================\n",
      "=================================================================\n",
      "==================== building number 19 done ====================\n",
      "-------------- have number of anomalies points  1.0 --------------\n",
      "=================================================================\n",
      "================ NO Anomaly in building number 20 ================\n",
      "=================================================================\n",
      "================ NO Anomaly in building number 21 ================\n",
      "=================================================================\n",
      "==================== building number 22 done ====================\n",
      "-------------- have number of anomalies points  1.0 --------------\n",
      "=================================================================\n",
      "================ NO Anomaly in building number 23 ================\n",
      "=================================================================\n",
      "==================== building number 24 done ====================\n",
      "-------------- have number of anomalies points  1.0 --------------\n",
      "=================================================================\n",
      "==================== building number 25 done ====================\n",
      "-------------- have number of anomalies points  1.0 --------------\n",
      "=================================================================\n",
      "================ NO Anomaly in building number 26 ================\n",
      "=================================================================\n",
      "==================== building number 27 done ====================\n",
      "-------------- have number of anomalies points  1.0 --------------\n",
      "=================================================================\n",
      "==================== building number 28 done ====================\n",
      "-------------- have number of anomalies points  1.0 --------------\n",
      "=================================================================\n",
      "==================== building number 29 done ====================\n",
      "-------------- have number of anomalies points  1.0 --------------\n",
      "=================================================================\n",
      "==================== building number 30 done ====================\n",
      "-------------- have number of anomalies points  1.0 --------------\n",
      "=================================================================\n",
      "==================== building number 31 done ====================\n",
      "-------------- have number of anomalies points  1.0 --------------\n",
      "=================================================================\n",
      "==================== building number 32 done ====================\n",
      "-------------- have number of anomalies points  1.0 --------------\n",
      "=================================================================\n",
      "==================== building number 33 done ====================\n",
      "-------------- have number of anomalies points  1.0 --------------\n",
      "=================================================================\n",
      "==================== building number 34 done ====================\n",
      "-------------- have number of anomalies points  1.0 --------------\n",
      "=================================================================\n",
      "==================== building number 35 done ====================\n",
      "-------------- have number of anomalies points  1.0 --------------\n",
      "=================================================================\n",
      "==================== building number 36 done ====================\n",
      "-------------- have number of anomalies points  1.0 --------------\n",
      "=================================================================\n",
      "==================== building number 37 done ====================\n",
      "-------------- have number of anomalies points  1.0 --------------\n",
      "=================================================================\n",
      "==================== building number 38 done ====================\n",
      "-------------- have number of anomalies points  1.0 --------------\n",
      "=================================================================\n",
      "================ NO Anomaly in building number 39 ================\n",
      "=================================================================\n",
      "==================== building number 40 done ====================\n",
      "-------------- have number of anomalies points  1.0 --------------\n",
      "=================================================================\n",
      "==================== building number 41 done ====================\n",
      "-------------- have number of anomalies points  1.0 --------------\n",
      "=================================================================\n",
      "==================== building number 42 done ====================\n",
      "-------------- have number of anomalies points  1.0 --------------\n",
      "=================================================================\n",
      "==================== building number 43 done ====================\n",
      "-------------- have number of anomalies points  1.0 --------------\n",
      "=================================================================\n",
      "==================== building number 44 done ====================\n",
      "-------------- have number of anomalies points  1.0 --------------\n",
      "=================================================================\n",
      "================ NO Anomaly in building number 45 ================\n",
      "=================================================================\n",
      "==================== building number 46 done ====================\n",
      "-------------- have number of anomalies points  1.0 --------------\n",
      "=================================================================\n",
      "==================== building number 47 done ====================\n",
      "-------------- have number of anomalies points  1.0 --------------\n",
      "=================================================================\n",
      "================ NO Anomaly in building number 48 ================\n",
      "=================================================================\n",
      "================ NO Anomaly in building number 49 ================\n",
      "=================================================================\n",
      "==================== building number 50 done ====================\n",
      "-------------- have number of anomalies points  1.0 --------------\n",
      "=================================================================\n",
      "==================== building number 51 done ====================\n",
      "-------------- have number of anomalies points  1.0 --------------\n",
      "=================================================================\n",
      "==================== building number 52 done ====================\n",
      "-------------- have number of anomalies points  1.0 --------------\n",
      "=================================================================\n",
      "================ NO Anomaly in building number 53 ================\n",
      "=================================================================\n",
      "================ NO Anomaly in building number 54 ================\n",
      "=================================================================\n",
      "==================== building number 55 done ====================\n",
      "-------------- have number of anomalies points  1.0 --------------\n",
      "=================================================================\n",
      "================ NO Anomaly in building number 56 ================\n",
      "=================================================================\n",
      "==================== building number 57 done ====================\n",
      "-------------- have number of anomalies points  1.0 --------------\n",
      "=================================================================\n",
      "==================== building number 58 done ====================\n",
      "-------------- have number of anomalies points  1.0 --------------\n",
      "=================================================================\n",
      "==================== building number 59 done ====================\n",
      "-------------- have number of anomalies points  1.0 --------------\n",
      "=================================================================\n",
      "==================== building number 60 done ====================\n",
      "-------------- have number of anomalies points  1.0 --------------\n",
      "=================================================================\n",
      "==================== building number 61 done ====================\n",
      "-------------- have number of anomalies points  1.0 --------------\n",
      "=================================================================\n",
      "==================== building number 62 done ====================\n",
      "-------------- have number of anomalies points  1.0 --------------\n",
      "=================================================================\n",
      "==================== building number 63 done ====================\n",
      "-------------- have number of anomalies points  1.0 --------------\n",
      "=================================================================\n",
      "==================== building number 64 done ====================\n",
      "-------------- have number of anomalies points  1.0 --------------\n",
      "=================================================================\n",
      "==================== building number 65 done ====================\n",
      "-------------- have number of anomalies points  1.0 --------------\n",
      "=================================================================\n",
      "==================== building number 66 done ====================\n",
      "-------------- have number of anomalies points  1.0 --------------\n",
      "=================================================================\n",
      "==================== building number 67 done ====================\n",
      "-------------- have number of anomalies points  1.0 --------------\n",
      "=================================================================\n",
      "==================== building number 68 done ====================\n",
      "-------------- have number of anomalies points  1.0 --------------\n",
      "=================================================================\n",
      "==================== building number 69 done ====================\n",
      "-------------- have number of anomalies points  1.0 --------------\n",
      "=================================================================\n",
      "================ NO Anomaly in building number 70 ================\n",
      "=================================================================\n",
      "==================== building number 71 done ====================\n",
      "-------------- have number of anomalies points  1.0 --------------\n",
      "=================================================================\n",
      "==================== building number 72 done ====================\n",
      "-------------- have number of anomalies points  1.0 --------------\n",
      "=================================================================\n",
      "==================== building number 73 done ====================\n",
      "-------------- have number of anomalies points  1.0 --------------\n",
      "=================================================================\n",
      "==================== building number 74 done ====================\n",
      "-------------- have number of anomalies points  1.0 --------------\n",
      "=================================================================\n",
      "==================== building number 75 done ====================\n",
      "-------------- have number of anomalies points  1.0 --------------\n",
      "=================================================================\n",
      "==================== building number 76 done ====================\n",
      "-------------- have number of anomalies points  1.0 --------------\n",
      "=================================================================\n",
      "==================== building number 77 done ====================\n",
      "-------------- have number of anomalies points  1.0 --------------\n",
      "=================================================================\n",
      "==================== building number 78 done ====================\n",
      "-------------- have number of anomalies points  1.0 --------------\n",
      "=================================================================\n",
      "==================== building number 79 done ====================\n",
      "-------------- have number of anomalies points  1.0 --------------\n",
      "=================================================================\n",
      "==================== building number 80 done ====================\n",
      "-------------- have number of anomalies points  1.0 --------------\n",
      "=================================================================\n",
      "==================== building number 81 done ====================\n",
      "-------------- have number of anomalies points  1.0 --------------\n",
      "=================================================================\n",
      "==================== building number 82 done ====================\n",
      "-------------- have number of anomalies points  1.0 --------------\n",
      "=================================================================\n",
      "==================== building number 83 done ====================\n",
      "-------------- have number of anomalies points  1.0 --------------\n",
      "=================================================================\n",
      "==================== building number 84 done ====================\n",
      "-------------- have number of anomalies points  1.0 --------------\n",
      "=================================================================\n",
      "==================== building number 85 done ====================\n",
      "-------------- have number of anomalies points  1.0 --------------\n",
      "=================================================================\n",
      "================ NO Anomaly in building number 86 ================\n",
      "=================================================================\n",
      "==================== building number 87 done ====================\n",
      "-------------- have number of anomalies points  1.0 --------------\n",
      "=================================================================\n",
      "==================== building number 88 done ====================\n",
      "-------------- have number of anomalies points  1.0 --------------\n",
      "=================================================================\n",
      "==================== building number 89 done ====================\n",
      "-------------- have number of anomalies points  1.0 --------------\n",
      "=================================================================\n",
      "==================== building number 90 done ====================\n",
      "-------------- have number of anomalies points  1.0 --------------\n",
      "=================================================================\n",
      "==================== building number 91 done ====================\n",
      "-------------- have number of anomalies points  1.0 --------------\n",
      "=================================================================\n",
      "==================== building number 92 done ====================\n",
      "-------------- have number of anomalies points  1.0 --------------\n",
      "=================================================================\n",
      "==================== building number 93 done ====================\n",
      "-------------- have number of anomalies points  1.0 --------------\n",
      "=================================================================\n",
      "==================== building number 94 done ====================\n",
      "-------------- have number of anomalies points  1.0 --------------\n",
      "=================================================================\n",
      "==================== building number 95 done ====================\n",
      "-------------- have number of anomalies points  1.0 --------------\n",
      "=================================================================\n",
      "==================== building number 96 done ====================\n",
      "-------------- have number of anomalies points  1.0 --------------\n",
      "=================================================================\n",
      "==================== building number 97 done ====================\n",
      "-------------- have number of anomalies points  1.0 --------------\n",
      "=================================================================\n",
      "==================== building number 98 done ====================\n",
      "-------------- have number of anomalies points  1.0 --------------\n",
      "=================================================================\n",
      "==================== building number 99 done ====================\n",
      "-------------- have number of anomalies points  1.0 --------------\n",
      "=================================================================\n",
      "==================== building number 100 done ====================\n",
      "-------------- have number of anomalies points  1.0 --------------\n",
      "=================================================================\n",
      "==================== building number 101 done ====================\n",
      "-------------- have number of anomalies points  1.0 --------------\n",
      "=================================================================\n",
      "==================== building number 102 done ====================\n",
      "-------------- have number of anomalies points  1.0 --------------\n",
      "=================================================================\n",
      "==================== building number 103 done ====================\n",
      "-------------- have number of anomalies points  1.0 --------------\n",
      "=================================================================\n",
      "==================== building number 104 done ====================\n",
      "-------------- have number of anomalies points  1.0 --------------\n",
      "=================================================================\n",
      "==================== building number 105 done ====================\n",
      "-------------- have number of anomalies points  1.0 --------------\n",
      "=================================================================\n",
      "==================== building number 106 done ====================\n",
      "-------------- have number of anomalies points  1.0 --------------\n",
      "=================================================================\n",
      "==================== building number 107 done ====================\n",
      "-------------- have number of anomalies points  1.0 --------------\n",
      "=================================================================\n",
      "==================== building number 108 done ====================\n",
      "-------------- have number of anomalies points  1.0 --------------\n",
      "=================================================================\n",
      "==================== building number 109 done ====================\n",
      "-------------- have number of anomalies points  1.0 --------------\n",
      "=================================================================\n",
      "==================== building number 110 done ====================\n",
      "-------------- have number of anomalies points  1.0 --------------\n",
      "=================================================================\n",
      "==================== building number 111 done ====================\n",
      "-------------- have number of anomalies points  1.0 --------------\n",
      "=================================================================\n",
      "==================== building number 112 done ====================\n",
      "-------------- have number of anomalies points  1.0 --------------\n",
      "=================================================================\n",
      "==================== building number 113 done ====================\n",
      "-------------- have number of anomalies points  1.0 --------------\n",
      "=================================================================\n",
      "==================== building number 114 done ====================\n",
      "-------------- have number of anomalies points  1.0 --------------\n",
      "=================================================================\n",
      "==================== building number 115 done ====================\n",
      "-------------- have number of anomalies points  1.0 --------------\n",
      "=================================================================\n",
      "==================== building number 116 done ====================\n",
      "-------------- have number of anomalies points  1.0 --------------\n",
      "=================================================================\n",
      "================ NO Anomaly in building number 117 ================\n",
      "=================================================================\n",
      "==================== building number 118 done ====================\n",
      "-------------- have number of anomalies points  1.0 --------------\n",
      "=================================================================\n",
      "==================== building number 119 done ====================\n",
      "-------------- have number of anomalies points  1.0 --------------\n",
      "=================================================================\n",
      "==================== building number 120 done ====================\n",
      "-------------- have number of anomalies points  1.0 --------------\n",
      "=================================================================\n",
      "==================== building number 121 done ====================\n",
      "-------------- have number of anomalies points  1.0 --------------\n",
      "=================================================================\n",
      "==================== building number 122 done ====================\n",
      "-------------- have number of anomalies points  1.0 --------------\n",
      "=================================================================\n",
      "================ NO Anomaly in building number 123 ================\n",
      "=================================================================\n",
      "================ NO Anomaly in building number 124 ================\n",
      "=================================================================\n",
      "==================== building number 125 done ====================\n",
      "-------------- have number of anomalies points  1.0 --------------\n",
      "=================================================================\n",
      "==================== building number 126 done ====================\n",
      "-------------- have number of anomalies points  1.0 --------------\n",
      "=================================================================\n",
      "==================== building number 127 done ====================\n",
      "-------------- have number of anomalies points  1.0 --------------\n",
      "=================================================================\n",
      "==================== building number 128 done ====================\n",
      "-------------- have number of anomalies points  1.0 --------------\n",
      "=================================================================\n",
      "==================== building number 129 done ====================\n",
      "-------------- have number of anomalies points  1.0 --------------\n",
      "=================================================================\n",
      "==================== building number 130 done ====================\n",
      "-------------- have number of anomalies points  1.0 --------------\n",
      "=================================================================\n",
      "==================== building number 131 done ====================\n",
      "-------------- have number of anomalies points  1.0 --------------\n",
      "=================================================================\n",
      "==================== building number 132 done ====================\n",
      "-------------- have number of anomalies points  1.0 --------------\n",
      "=================================================================\n",
      "==================== building number 133 done ====================\n",
      "-------------- have number of anomalies points  1.0 --------------\n",
      "=================================================================\n",
      "==================== building number 134 done ====================\n",
      "-------------- have number of anomalies points  1.0 --------------\n",
      "=================================================================\n",
      "================ NO Anomaly in building number 135 ================\n",
      "=================================================================\n",
      "==================== building number 136 done ====================\n",
      "-------------- have number of anomalies points  1.0 --------------\n",
      "=================================================================\n",
      "==================== building number 137 done ====================\n",
      "-------------- have number of anomalies points  1.0 --------------\n",
      "=================================================================\n",
      "==================== building number 138 done ====================\n",
      "-------------- have number of anomalies points  1.0 --------------\n",
      "=================================================================\n",
      "==================== building number 139 done ====================\n",
      "-------------- have number of anomalies points  1.0 --------------\n",
      "=================================================================\n",
      "==================== building number 140 done ====================\n",
      "-------------- have number of anomalies points  1.0 --------------\n",
      "=================================================================\n",
      "================ NO Anomaly in building number 141 ================\n",
      "=================================================================\n",
      "==================== building number 142 done ====================\n",
      "-------------- have number of anomalies points  1.0 --------------\n",
      "=================================================================\n",
      "==================== building number 143 done ====================\n",
      "-------------- have number of anomalies points  1.0 --------------\n",
      "=================================================================\n",
      "==================== building number 144 done ====================\n",
      "-------------- have number of anomalies points  1.0 --------------\n",
      "=================================================================\n",
      "==================== building number 145 done ====================\n",
      "-------------- have number of anomalies points  1.0 --------------\n",
      "=================================================================\n",
      "==================== building number 146 done ====================\n",
      "-------------- have number of anomalies points  1.0 --------------\n",
      "=================================================================\n",
      "==================== building number 147 done ====================\n",
      "-------------- have number of anomalies points  1.0 --------------\n",
      "=================================================================\n",
      "==================== building number 148 done ====================\n",
      "-------------- have number of anomalies points  1.0 --------------\n",
      "=================================================================\n",
      "==================== building number 149 done ====================\n",
      "-------------- have number of anomalies points  1.0 --------------\n",
      "=================================================================\n",
      "==================== building number 150 done ====================\n",
      "-------------- have number of anomalies points  1.0 --------------\n",
      "=================================================================\n",
      "================ NO Anomaly in building number 151 ================\n",
      "=================================================================\n",
      "==================== building number 152 done ====================\n",
      "-------------- have number of anomalies points  1.0 --------------\n",
      "=================================================================\n",
      "==================== building number 153 done ====================\n",
      "-------------- have number of anomalies points  1.0 --------------\n",
      "=================================================================\n",
      "==================== building number 154 done ====================\n",
      "-------------- have number of anomalies points  1.0 --------------\n",
      "=================================================================\n",
      "==================== building number 155 done ====================\n",
      "-------------- have number of anomalies points  1.0 --------------\n",
      "=================================================================\n",
      "==================== building number 156 done ====================\n",
      "-------------- have number of anomalies points  1.0 --------------\n",
      "=================================================================\n",
      "==================== building number 157 done ====================\n",
      "-------------- have number of anomalies points  1.0 --------------\n",
      "=================================================================\n",
      "==================== building number 158 done ====================\n",
      "-------------- have number of anomalies points  1.0 --------------\n",
      "=================================================================\n",
      "==================== building number 159 done ====================\n",
      "-------------- have number of anomalies points  1.0 --------------\n",
      "=================================================================\n",
      "==================== building number 160 done ====================\n",
      "-------------- have number of anomalies points  1.0 --------------\n",
      "=================================================================\n",
      "==================== building number 161 done ====================\n",
      "-------------- have number of anomalies points  1.0 --------------\n",
      "=================================================================\n",
      "==================== building number 162 done ====================\n",
      "-------------- have number of anomalies points  1.0 --------------\n",
      "=================================================================\n",
      "==================== building number 163 done ====================\n",
      "-------------- have number of anomalies points  1.0 --------------\n",
      "=================================================================\n",
      "================ NO Anomaly in building number 164 ================\n",
      "=================================================================\n",
      "==================== building number 165 done ====================\n",
      "-------------- have number of anomalies points  1.0 --------------\n",
      "=================================================================\n",
      "==================== building number 166 done ====================\n",
      "-------------- have number of anomalies points  1.0 --------------\n",
      "=================================================================\n",
      "==================== building number 167 done ====================\n",
      "-------------- have number of anomalies points  1.0 --------------\n",
      "=================================================================\n",
      "==================== building number 168 done ====================\n",
      "-------------- have number of anomalies points  1.0 --------------\n",
      "=================================================================\n",
      "==================== building number 169 done ====================\n",
      "-------------- have number of anomalies points  1.0 --------------\n",
      "=================================================================\n",
      "==================== building number 170 done ====================\n",
      "-------------- have number of anomalies points  1.0 --------------\n",
      "=================================================================\n",
      "==================== building number 171 done ====================\n",
      "-------------- have number of anomalies points  1.0 --------------\n",
      "=================================================================\n",
      "==================== building number 172 done ====================\n",
      "-------------- have number of anomalies points  1.0 --------------\n",
      "=================================================================\n",
      "==================== building number 173 done ====================\n",
      "-------------- have number of anomalies points  1.0 --------------\n",
      "=================================================================\n",
      "==================== building number 174 done ====================\n",
      "-------------- have number of anomalies points  1.0 --------------\n",
      "=================================================================\n",
      "================ NO Anomaly in building number 175 ================\n",
      "=================================================================\n",
      "==================== building number 176 done ====================\n",
      "-------------- have number of anomalies points  1.0 --------------\n",
      "=================================================================\n",
      "==================== building number 177 done ====================\n",
      "-------------- have number of anomalies points  1.0 --------------\n",
      "=================================================================\n",
      "================ NO Anomaly in building number 178 ================\n",
      "=================================================================\n",
      "==================== building number 179 done ====================\n",
      "-------------- have number of anomalies points  1.0 --------------\n",
      "=================================================================\n",
      "==================== building number 180 done ====================\n",
      "-------------- have number of anomalies points  1.0 --------------\n",
      "=================================================================\n",
      "==================== building number 181 done ====================\n",
      "-------------- have number of anomalies points  1.0 --------------\n",
      "=================================================================\n",
      "==================== building number 182 done ====================\n",
      "-------------- have number of anomalies points  1.0 --------------\n",
      "=================================================================\n",
      "==================== building number 183 done ====================\n",
      "-------------- have number of anomalies points  1.0 --------------\n",
      "=================================================================\n",
      "==================== building number 184 done ====================\n",
      "-------------- have number of anomalies points  1.0 --------------\n",
      "=================================================================\n",
      "==================== building number 185 done ====================\n",
      "-------------- have number of anomalies points  1.0 --------------\n",
      "=================================================================\n",
      "==================== building number 186 done ====================\n",
      "-------------- have number of anomalies points  1.0 --------------\n",
      "=================================================================\n",
      "==================== building number 187 done ====================\n",
      "-------------- have number of anomalies points  1.0 --------------\n",
      "=================================================================\n",
      "==================== building number 188 done ====================\n",
      "-------------- have number of anomalies points  1.0 --------------\n",
      "=================================================================\n",
      "================ NO Anomaly in building number 189 ================\n",
      "=================================================================\n",
      "==================== building number 190 done ====================\n",
      "-------------- have number of anomalies points  1.0 --------------\n",
      "=================================================================\n",
      "==================== building number 191 done ====================\n",
      "-------------- have number of anomalies points  1.0 --------------\n",
      "=================================================================\n",
      "==================== building number 192 done ====================\n",
      "-------------- have number of anomalies points  1.0 --------------\n",
      "=================================================================\n",
      "==================== building number 193 done ====================\n",
      "-------------- have number of anomalies points  1.0 --------------\n",
      "=================================================================\n",
      "==================== building number 194 done ====================\n",
      "-------------- have number of anomalies points  1.0 --------------\n",
      "=================================================================\n",
      "================ NO Anomaly in building number 195 ================\n",
      "=================================================================\n",
      "==================== building number 196 done ====================\n",
      "-------------- have number of anomalies points  1.0 --------------\n",
      "=================================================================\n",
      "================ NO Anomaly in building number 197 ================\n",
      "=================================================================\n",
      "==================== building number 198 done ====================\n",
      "-------------- have number of anomalies points  1.0 --------------\n",
      "=================================================================\n",
      "==================== building number 199 done ====================\n",
      "-------------- have number of anomalies points  1.0 --------------\n",
      "=================================================================\n",
      "================ NO Anomaly in building number 200 ================\n",
      "=================================================================\n"
     ]
    }
   ],
   "source": [
    "# test Tukey’s box plot method\n",
    "\n",
    "data_2=pd.DataFrame()\n",
    "anomalies= pd.DataFrame()\n",
    "for i in range(x):\n",
    "    probable_outliers_tm, possible_outliers_tm = tukeys_method(data[i], \"meter_reading\")\n",
    "    \n",
    "    if len(possible_outliers_tm)==0:\n",
    "        print(\"================ NO Anomaly in building number {} ================\".format(i+1))\n",
    "        print(\"=================================================================\")\n",
    "        anomaly = pd.DataFrame(possible_outliers_tm)\n",
    "        data_2 = pd.concat([data[i].reset_index(drop=True), anomaly], axis=1)\n",
    "        anomalies=anomalies.append(data_2)\n",
    "        continue\n",
    "\n",
    "    \n",
    "    anomaly = pd.DataFrame(possible_outliers_tm)\n",
    "    anomaly['Anomaly'] = 1\n",
    "    anomaly.set_index(0, inplace=True)\n",
    "\n",
    "    data_2 = pd.concat([data[i].reset_index(drop=True), anomaly], axis=1)\n",
    "    \n",
    "    print(\"==================== building number {} done ====================\".format(i+1))\n",
    "\n",
    "    print(\"-\" *14,\"have number of anomalies points \",data_2['Anomaly'].value_counts().index[0],\"-\" *14)\n",
    "    print(\"=================================================================\")\n",
    "    \n",
    "    anomalies=anomalies.append(data_2)\n",
    "    #print(data_2)\n",
    "    #print(anomalies)"
   ]
  },
  {
   "cell_type": "markdown",
   "id": "06743b92",
   "metadata": {
    "papermill": {
     "duration": 0.118491,
     "end_time": "2022-05-15T16:34:08.334768",
     "exception": false,
     "start_time": "2022-05-15T16:34:08.216277",
     "status": "completed"
    },
    "tags": []
   },
   "source": [
    "check if the results are true"
   ]
  },
  {
   "cell_type": "code",
   "execution_count": 45,
   "id": "49e88808",
   "metadata": {
    "execution": {
     "iopub.execute_input": "2022-05-15T16:34:08.568341Z",
     "iopub.status.busy": "2022-05-15T16:34:08.568075Z",
     "iopub.status.idle": "2022-05-15T16:34:08.572613Z",
     "shell.execute_reply": "2022-05-15T16:34:08.572094Z"
    },
    "papermill": {
     "duration": 0.123108,
     "end_time": "2022-05-15T16:34:08.574270",
     "exception": false,
     "start_time": "2022-05-15T16:34:08.451162",
     "status": "completed"
    },
    "tags": []
   },
   "outputs": [
    {
     "data": {
      "text/plain": [
       "(1749494, 4)"
      ]
     },
     "execution_count": 45,
     "metadata": {},
     "output_type": "execute_result"
    }
   ],
   "source": [
    "anomalies.shape"
   ]
  },
  {
   "cell_type": "code",
   "execution_count": 46,
   "id": "43f28f20",
   "metadata": {
    "execution": {
     "iopub.execute_input": "2022-05-15T16:34:08.810023Z",
     "iopub.status.busy": "2022-05-15T16:34:08.809779Z",
     "iopub.status.idle": "2022-05-15T16:34:08.814507Z",
     "shell.execute_reply": "2022-05-15T16:34:08.813750Z"
    },
    "papermill": {
     "duration": 0.125089,
     "end_time": "2022-05-15T16:34:08.816181",
     "exception": false,
     "start_time": "2022-05-15T16:34:08.691092",
     "status": "completed"
    },
    "tags": []
   },
   "outputs": [
    {
     "data": {
      "text/plain": [
       "(1749494, 3)"
      ]
     },
     "execution_count": 46,
     "metadata": {},
     "output_type": "execute_result"
    }
   ],
   "source": [
    "df.shape"
   ]
  },
  {
   "cell_type": "code",
   "execution_count": 47,
   "id": "5ac5b702",
   "metadata": {
    "execution": {
     "iopub.execute_input": "2022-05-15T16:34:09.054599Z",
     "iopub.status.busy": "2022-05-15T16:34:09.054303Z",
     "iopub.status.idle": "2022-05-15T16:34:09.165531Z",
     "shell.execute_reply": "2022-05-15T16:34:09.164680Z"
    },
    "papermill": {
     "duration": 0.233241,
     "end_time": "2022-05-15T16:34:09.167532",
     "exception": false,
     "start_time": "2022-05-15T16:34:08.934291",
     "status": "completed"
    },
    "tags": []
   },
   "outputs": [
    {
     "data": {
      "text/plain": [
       "1.0    148\n",
       "Name: Anomaly, dtype: int64"
      ]
     },
     "execution_count": 47,
     "metadata": {},
     "output_type": "execute_result"
    }
   ],
   "source": [
    "anomalies.groupby(\"building_id\").get_group(1323)[\"Anomaly\"].value_counts()"
   ]
  },
  {
   "cell_type": "code",
   "execution_count": 48,
   "id": "4b2223bc",
   "metadata": {
    "execution": {
     "iopub.execute_input": "2022-05-15T16:34:09.402670Z",
     "iopub.status.busy": "2022-05-15T16:34:09.402371Z",
     "iopub.status.idle": "2022-05-15T16:34:09.467319Z",
     "shell.execute_reply": "2022-05-15T16:34:09.466467Z"
    },
    "papermill": {
     "duration": 0.18501,
     "end_time": "2022-05-15T16:34:09.469301",
     "exception": false,
     "start_time": "2022-05-15T16:34:09.284291",
     "status": "completed"
    },
    "tags": []
   },
   "outputs": [
    {
     "data": {
      "text/plain": [
       "1.0    318\n",
       "Name: Anomaly, dtype: int64"
      ]
     },
     "execution_count": 48,
     "metadata": {},
     "output_type": "execute_result"
    }
   ],
   "source": [
    "anomalies.groupby(\"building_id\").get_group(1007)[\"Anomaly\"].value_counts()"
   ]
  },
  {
   "cell_type": "code",
   "execution_count": 49,
   "id": "1a9292d1",
   "metadata": {
    "execution": {
     "iopub.execute_input": "2022-05-15T16:34:09.704267Z",
     "iopub.status.busy": "2022-05-15T16:34:09.703960Z",
     "iopub.status.idle": "2022-05-15T16:34:09.796181Z",
     "shell.execute_reply": "2022-05-15T16:34:09.795293Z"
    },
    "papermill": {
     "duration": 0.21224,
     "end_time": "2022-05-15T16:34:09.798319",
     "exception": false,
     "start_time": "2022-05-15T16:34:09.586079",
     "status": "completed"
    },
    "tags": []
   },
   "outputs": [
    {
     "data": {
      "text/plain": [
       "(8649, 3)"
      ]
     },
     "execution_count": 49,
     "metadata": {},
     "output_type": "execute_result"
    }
   ],
   "source": [
    "df.groupby(\"building_id\").get_group(1007).shape"
   ]
  },
  {
   "cell_type": "code",
   "execution_count": 50,
   "id": "ff7a4b40",
   "metadata": {
    "execution": {
     "iopub.execute_input": "2022-05-15T16:34:10.037620Z",
     "iopub.status.busy": "2022-05-15T16:34:10.037373Z",
     "iopub.status.idle": "2022-05-15T16:34:10.099552Z",
     "shell.execute_reply": "2022-05-15T16:34:10.098775Z"
    },
    "papermill": {
     "duration": 0.18275,
     "end_time": "2022-05-15T16:34:10.101443",
     "exception": false,
     "start_time": "2022-05-15T16:34:09.918693",
     "status": "completed"
    },
    "tags": []
   },
   "outputs": [
    {
     "data": {
      "text/plain": [
       "(8649, 4)"
      ]
     },
     "execution_count": 50,
     "metadata": {},
     "output_type": "execute_result"
    }
   ],
   "source": [
    "anomalies.groupby(\"building_id\").get_group(1007).shape"
   ]
  },
  {
   "cell_type": "code",
   "execution_count": 51,
   "id": "44e9b3d8",
   "metadata": {
    "execution": {
     "iopub.execute_input": "2022-05-15T16:34:10.347606Z",
     "iopub.status.busy": "2022-05-15T16:34:10.347346Z",
     "iopub.status.idle": "2022-05-15T16:34:10.351279Z",
     "shell.execute_reply": "2022-05-15T16:34:10.350456Z"
    },
    "papermill": {
     "duration": 0.134289,
     "end_time": "2022-05-15T16:34:10.353258",
     "exception": false,
     "start_time": "2022-05-15T16:34:10.218969",
     "status": "completed"
    },
    "tags": []
   },
   "outputs": [],
   "source": [
    "anomalies.reset_index(drop=True,inplace=True)"
   ]
  },
  {
   "cell_type": "code",
   "execution_count": 52,
   "id": "6694745d",
   "metadata": {
    "execution": {
     "iopub.execute_input": "2022-05-15T16:34:10.593111Z",
     "iopub.status.busy": "2022-05-15T16:34:10.592807Z",
     "iopub.status.idle": "2022-05-15T16:34:10.925990Z",
     "shell.execute_reply": "2022-05-15T16:34:10.925052Z"
    },
    "papermill": {
     "duration": 0.454498,
     "end_time": "2022-05-15T16:34:10.928364",
     "exception": false,
     "start_time": "2022-05-15T16:34:10.473866",
     "status": "completed"
    },
    "tags": []
   },
   "outputs": [],
   "source": [
    "anomalies['Anomaly'] = anomalies['Anomaly'].replace(np.nan, False)\n",
    "anomalies['Anomaly'] = anomalies['Anomaly'].replace(1.0, True)"
   ]
  },
  {
   "cell_type": "code",
   "execution_count": 53,
   "id": "144760da",
   "metadata": {
    "execution": {
     "iopub.execute_input": "2022-05-15T16:34:11.166002Z",
     "iopub.status.busy": "2022-05-15T16:34:11.165706Z",
     "iopub.status.idle": "2022-05-15T16:34:11.181492Z",
     "shell.execute_reply": "2022-05-15T16:34:11.180700Z"
    },
    "papermill": {
     "duration": 0.136437,
     "end_time": "2022-05-15T16:34:11.183205",
     "exception": false,
     "start_time": "2022-05-15T16:34:11.046768",
     "status": "completed"
    },
    "tags": []
   },
   "outputs": [
    {
     "data": {
      "text/plain": [
       "False    1679890\n",
       "True       69604\n",
       "Name: Anomaly, dtype: int64"
      ]
     },
     "execution_count": 53,
     "metadata": {},
     "output_type": "execute_result"
    }
   ],
   "source": [
    "anomalies['Anomaly'].value_counts()"
   ]
  },
  {
   "cell_type": "code",
   "execution_count": 54,
   "id": "ed7a3771",
   "metadata": {
    "execution": {
     "iopub.execute_input": "2022-05-15T16:34:11.422507Z",
     "iopub.status.busy": "2022-05-15T16:34:11.422029Z",
     "iopub.status.idle": "2022-05-15T16:34:11.438193Z",
     "shell.execute_reply": "2022-05-15T16:34:11.437377Z"
    },
    "papermill": {
     "duration": 0.138786,
     "end_time": "2022-05-15T16:34:11.439941",
     "exception": false,
     "start_time": "2022-05-15T16:34:11.301155",
     "status": "completed"
    },
    "tags": []
   },
   "outputs": [
    {
     "data": {
      "text/plain": [
       "0    1712198\n",
       "1      37296\n",
       "Name: anomaly, dtype: int64"
      ]
     },
     "execution_count": 54,
     "metadata": {},
     "output_type": "execute_result"
    }
   ],
   "source": [
    "anomalies['anomaly'].value_counts()"
   ]
  },
  {
   "cell_type": "code",
   "execution_count": 55,
   "id": "e68f9c21",
   "metadata": {
    "execution": {
     "iopub.execute_input": "2022-05-15T16:34:11.682744Z",
     "iopub.status.busy": "2022-05-15T16:34:11.682430Z",
     "iopub.status.idle": "2022-05-15T16:34:11.912123Z",
     "shell.execute_reply": "2022-05-15T16:34:11.911233Z"
    },
    "papermill": {
     "duration": 0.353606,
     "end_time": "2022-05-15T16:34:11.914266",
     "exception": false,
     "start_time": "2022-05-15T16:34:11.560660",
     "status": "completed"
    },
    "tags": []
   },
   "outputs": [],
   "source": [
    "anomalies['anomaly'] = anomalies['anomaly'].replace(0, False)\n",
    "anomalies['anomaly'] = anomalies['anomaly'].replace(1, True)"
   ]
  },
  {
   "cell_type": "code",
   "execution_count": 56,
   "id": "52199ee0",
   "metadata": {
    "execution": {
     "iopub.execute_input": "2022-05-15T16:34:12.155587Z",
     "iopub.status.busy": "2022-05-15T16:34:12.155321Z",
     "iopub.status.idle": "2022-05-15T16:34:12.170582Z",
     "shell.execute_reply": "2022-05-15T16:34:12.170026Z"
    },
    "papermill": {
     "duration": 0.137315,
     "end_time": "2022-05-15T16:34:12.172161",
     "exception": false,
     "start_time": "2022-05-15T16:34:12.034846",
     "status": "completed"
    },
    "tags": []
   },
   "outputs": [
    {
     "data": {
      "text/plain": [
       "False    1712198\n",
       "True       37296\n",
       "Name: anomaly, dtype: int64"
      ]
     },
     "execution_count": 56,
     "metadata": {},
     "output_type": "execute_result"
    }
   ],
   "source": [
    "anomalies['anomaly'].value_counts()"
   ]
  },
  {
   "cell_type": "code",
   "execution_count": 57,
   "id": "1a3d7d12",
   "metadata": {
    "execution": {
     "iopub.execute_input": "2022-05-15T16:34:12.411636Z",
     "iopub.status.busy": "2022-05-15T16:34:12.411132Z",
     "iopub.status.idle": "2022-05-15T16:34:12.414396Z",
     "shell.execute_reply": "2022-05-15T16:34:12.413705Z"
    },
    "papermill": {
     "duration": 0.125721,
     "end_time": "2022-05-15T16:34:12.416125",
     "exception": false,
     "start_time": "2022-05-15T16:34:12.290404",
     "status": "completed"
    },
    "tags": []
   },
   "outputs": [],
   "source": [
    "# fig, ax = plt.subplots(figsize=(30,10))\n",
    "# ax.plot(df.index, df['meter_reading'], color='blue', label = 'Normal')\n",
    "# ax.set_title('Total grids', fontsize=20)\n",
    "# plt.show();"
   ]
  },
  {
   "cell_type": "code",
   "execution_count": 58,
   "id": "e54af3c5",
   "metadata": {
    "execution": {
     "iopub.execute_input": "2022-05-15T16:34:12.654778Z",
     "iopub.status.busy": "2022-05-15T16:34:12.654506Z",
     "iopub.status.idle": "2022-05-15T16:34:14.351781Z",
     "shell.execute_reply": "2022-05-15T16:34:14.350879Z"
    },
    "papermill": {
     "duration": 1.818778,
     "end_time": "2022-05-15T16:34:14.354215",
     "exception": false,
     "start_time": "2022-05-15T16:34:12.535437",
     "status": "completed"
    },
    "tags": []
   },
   "outputs": [
    {
     "data": {
      "image/png": "[encoded data removed]",
      "text/plain": [
       "<Figure size 2160x720 with 1 Axes>"
      ]
     },
     "metadata": {
      "needs_background": "light"
     },
     "output_type": "display_data"
    }
   ],
   "source": [
    "fig, ax = plt.subplots(figsize=(30,10))\n",
    "\n",
    "anomaly = anomalies.loc[anomalies['Anomaly'] == True, ['meter_reading']] \n",
    "\n",
    "ax.plot(anomalies.index, anomalies['meter_reading'], color='blue', label = 'Normal')\n",
    "ax.scatter(anomaly.index,anomaly['meter_reading'], color='red', label = 'Anomaly')\n",
    "ax.set_title('Total buldings anomalies points for box blot method', fontsize=20)\n",
    "plt.legend()\n",
    "plt.show();"
   ]
  },
  {
   "cell_type": "code",
   "execution_count": 59,
   "id": "fd3624d8",
   "metadata": {
    "execution": {
     "iopub.execute_input": "2022-05-15T16:34:14.599685Z",
     "iopub.status.busy": "2022-05-15T16:34:14.599402Z",
     "iopub.status.idle": "2022-05-15T16:34:14.603348Z",
     "shell.execute_reply": "2022-05-15T16:34:14.602477Z"
    },
    "papermill": {
     "duration": 0.128724,
     "end_time": "2022-05-15T16:34:14.605189",
     "exception": false,
     "start_time": "2022-05-15T16:34:14.476465",
     "status": "completed"
    },
    "tags": []
   },
   "outputs": [],
   "source": [
    "# fig1 = px.line(df,  y=\"meter_reading\")\n",
    "# fig1.update_traces(line=dict(color = 'rgba(250,100,10,0.2)'))\n",
    "# anomaly = anomalies.loc[anomalies['Anomaly'] == -1, ['meter_reading']] \n",
    "\n",
    "# fig2 = px.scatter(anomaly,y='meter_reading')\n",
    "\n",
    "# fig3 = go.Figure(data=fig1.data + fig2.data)\n",
    "# fig3.update_layout(title=\"Total buldings anomalies points for isolation forest\")\n",
    "# fig3.show()"
   ]
  },
  {
   "cell_type": "code",
   "execution_count": 60,
   "id": "0f6dd4d4",
   "metadata": {
    "execution": {
     "iopub.execute_input": "2022-05-15T16:34:14.849000Z",
     "iopub.status.busy": "2022-05-15T16:34:14.848433Z",
     "iopub.status.idle": "2022-05-15T16:34:14.893770Z",
     "shell.execute_reply": "2022-05-15T16:34:14.892861Z"
    },
    "papermill": {
     "duration": 0.169166,
     "end_time": "2022-05-15T16:34:14.895608",
     "exception": false,
     "start_time": "2022-05-15T16:34:14.726442",
     "status": "completed"
    },
    "tags": []
   },
   "outputs": [
    {
     "name": "stdout",
     "output_type": "stream",
     "text": [
      "my first model predication has accurcy  95.05 %\n"
     ]
    }
   ],
   "source": [
    "print(\"my first model predication has accurcy \",round((anomalies[anomalies['anomaly'] == anomalies['Anomaly']].shape[0]/anomalies.shape[0])*100,2),\"%\")"
   ]
  },
  {
   "cell_type": "markdown",
   "id": "b3d05fd5",
   "metadata": {
    "papermill": {
     "duration": 0.120644,
     "end_time": "2022-05-15T16:34:15.138142",
     "exception": false,
     "start_time": "2022-05-15T16:34:15.017498",
     "status": "completed"
    },
    "tags": []
   },
   "source": [
    "## <h3> 2- Isolation forest.</h3>\n",
    "<a id=\"m2\"></a>\n",
    "\n",
    "In this method we will depend on the detection using some Machine Learning algorithms. In the \n",
    "we will depend on Isolation Forest. \n",
    "\n",
    "One of those algorithms is the Isolation Forest method. Isolation Forest build using the decision \n",
    "trees which depend on the points that go deeper into the tree are not anomalies and points \n",
    "which go short distance have big probability to be anomalies, and it is unsupervised learning \n",
    "model which used without labeled data. \n",
    "\n",
    "The algorithm goes by selecting a sample of the dataset then branch it on the binary tress by \n",
    "setting a threshold if the sample we selected is less than this threshold it will be in the left \n",
    "branch and if it not it will be in the right branch. This process repeated until we every point in \n",
    "the dataset is isolated. "
   ]
  },
  {
   "cell_type": "code",
   "execution_count": 61,
   "id": "28843362",
   "metadata": {
    "execution": {
     "iopub.execute_input": "2022-05-15T16:34:15.385349Z",
     "iopub.status.busy": "2022-05-15T16:34:15.385089Z",
     "iopub.status.idle": "2022-05-15T16:34:15.479705Z",
     "shell.execute_reply": "2022-05-15T16:34:15.478882Z"
    },
    "papermill": {
     "duration": 0.219974,
     "end_time": "2022-05-15T16:34:15.481895",
     "exception": false,
     "start_time": "2022-05-15T16:34:15.261921",
     "status": "completed"
    },
    "tags": []
   },
   "outputs": [],
   "source": [
    "from sklearn.preprocessing import StandardScaler\n",
    "from sklearn.decomposition import PCA\n",
    "from sklearn.covariance import EllipticEnvelope\n",
    "from sklearn.ensemble import IsolationForest"
   ]
  },
  {
   "cell_type": "markdown",
   "id": "5dad84fb",
   "metadata": {
    "papermill": {
     "duration": 0.120293,
     "end_time": "2022-05-15T16:34:15.725764",
     "exception": false,
     "start_time": "2022-05-15T16:34:15.605471",
     "status": "completed"
    },
    "tags": []
   },
   "source": [
    "#### First apply on a random grid"
   ]
  },
  {
   "cell_type": "code",
   "execution_count": 62,
   "id": "5f39a96c",
   "metadata": {
    "execution": {
     "iopub.execute_input": "2022-05-15T16:34:15.973801Z",
     "iopub.status.busy": "2022-05-15T16:34:15.973471Z",
     "iopub.status.idle": "2022-05-15T16:34:16.079270Z",
     "shell.execute_reply": "2022-05-15T16:34:16.078081Z"
    },
    "papermill": {
     "duration": 0.232209,
     "end_time": "2022-05-15T16:34:16.081181",
     "exception": false,
     "start_time": "2022-05-15T16:34:15.848972",
     "status": "completed"
    },
    "tags": []
   },
   "outputs": [
    {
     "name": "stdout",
     "output_type": "stream",
     "text": [
      "<class 'pandas.core.frame.DataFrame'>\n",
      "DatetimeIndex: 8784 entries, 2016-01-01 00:00:00 to 2016-12-31 23:00:00\n",
      "Data columns (total 3 columns):\n",
      " #   Column         Non-Null Count  Dtype  \n",
      "---  ------         --------------  -----  \n",
      " 0   building_id    8784 non-null   int64  \n",
      " 1   meter_reading  8784 non-null   float64\n",
      " 2   anomaly        8784 non-null   int64  \n",
      "dtypes: float64(1), int64(2)\n",
      "memory usage: 274.5 KB\n"
     ]
    }
   ],
   "source": [
    "random_building_id = df.groupby(\"building_id\").get_group(108)\n",
    "random_building_id.info()"
   ]
  },
  {
   "cell_type": "code",
   "execution_count": 63,
   "id": "3e1a4bc6",
   "metadata": {
    "execution": {
     "iopub.execute_input": "2022-05-15T16:34:16.346052Z",
     "iopub.status.busy": "2022-05-15T16:34:16.345647Z",
     "iopub.status.idle": "2022-05-15T16:34:16.759034Z",
     "shell.execute_reply": "2022-05-15T16:34:16.758212Z"
    },
    "papermill": {
     "duration": 0.559427,
     "end_time": "2022-05-15T16:34:16.762685",
     "exception": false,
     "start_time": "2022-05-15T16:34:16.203258",
     "status": "completed"
    },
    "tags": []
   },
   "outputs": [
    {
     "data": {
      "text/plain": [
       "IsolationForest(contamination=0.01)"
      ]
     },
     "execution_count": 63,
     "metadata": {},
     "output_type": "execute_result"
    }
   ],
   "source": [
    "# train isolation forest\n",
    "outliers_fraction = float(.01)\n",
    "scaler = StandardScaler()\n",
    "np_scaled = scaler.fit_transform(random_building_id[\"meter_reading\"].values.reshape(-1, 1))\n",
    "df_data = pd.DataFrame(np_scaled)\n",
    "\n",
    "model =  IsolationForest(contamination=outliers_fraction)\n",
    "model.fit(df_data) "
   ]
  },
  {
   "cell_type": "code",
   "execution_count": 64,
   "id": "effe5e36",
   "metadata": {
    "execution": {
     "iopub.execute_input": "2022-05-15T16:34:17.022544Z",
     "iopub.status.busy": "2022-05-15T16:34:17.022184Z",
     "iopub.status.idle": "2022-05-15T16:34:17.231492Z",
     "shell.execute_reply": "2022-05-15T16:34:17.230882Z"
    },
    "papermill": {
     "duration": 0.338708,
     "end_time": "2022-05-15T16:34:17.233532",
     "exception": false,
     "start_time": "2022-05-15T16:34:16.894824",
     "status": "completed"
    },
    "tags": []
   },
   "outputs": [],
   "source": [
    "# predict isolation forest\n",
    "Anomaly = model.predict(df_data)"
   ]
  },
  {
   "cell_type": "code",
   "execution_count": 65,
   "id": "2253f743",
   "metadata": {
    "execution": {
     "iopub.execute_input": "2022-05-15T16:34:17.503340Z",
     "iopub.status.busy": "2022-05-15T16:34:17.502575Z",
     "iopub.status.idle": "2022-05-15T16:34:17.513291Z",
     "shell.execute_reply": "2022-05-15T16:34:17.512489Z"
    },
    "papermill": {
     "duration": 0.159043,
     "end_time": "2022-05-15T16:34:17.514975",
     "exception": false,
     "start_time": "2022-05-15T16:34:17.355932",
     "status": "completed"
    },
    "tags": []
   },
   "outputs": [
    {
     "data": {
      "text/html": [
       "<div>\n",
       "<style scoped>\n",
       "    .dataframe tbody tr th:only-of-type {\n",
       "        vertical-align: middle;\n",
       "    }\n",
       "\n",
       "    .dataframe tbody tr th {\n",
       "        vertical-align: top;\n",
       "    }\n",
       "\n",
       "    .dataframe thead th {\n",
       "        text-align: right;\n",
       "    }\n",
       "</style>\n",
       "<table border=\"1\" class=\"dataframe\">\n",
       "  <thead>\n",
       "    <tr style=\"text-align: right;\">\n",
       "      <th></th>\n",
       "      <th>Anomaly</th>\n",
       "    </tr>\n",
       "  </thead>\n",
       "  <tbody>\n",
       "    <tr>\n",
       "      <th>0</th>\n",
       "      <td>1</td>\n",
       "    </tr>\n",
       "    <tr>\n",
       "      <th>1</th>\n",
       "      <td>1</td>\n",
       "    </tr>\n",
       "    <tr>\n",
       "      <th>2</th>\n",
       "      <td>1</td>\n",
       "    </tr>\n",
       "    <tr>\n",
       "      <th>3</th>\n",
       "      <td>1</td>\n",
       "    </tr>\n",
       "    <tr>\n",
       "      <th>4</th>\n",
       "      <td>1</td>\n",
       "    </tr>\n",
       "    <tr>\n",
       "      <th>...</th>\n",
       "      <td>...</td>\n",
       "    </tr>\n",
       "    <tr>\n",
       "      <th>8779</th>\n",
       "      <td>1</td>\n",
       "    </tr>\n",
       "    <tr>\n",
       "      <th>8780</th>\n",
       "      <td>1</td>\n",
       "    </tr>\n",
       "    <tr>\n",
       "      <th>8781</th>\n",
       "      <td>1</td>\n",
       "    </tr>\n",
       "    <tr>\n",
       "      <th>8782</th>\n",
       "      <td>1</td>\n",
       "    </tr>\n",
       "    <tr>\n",
       "      <th>8783</th>\n",
       "      <td>1</td>\n",
       "    </tr>\n",
       "  </tbody>\n",
       "</table>\n",
       "<p>8784 rows × 1 columns</p>\n",
       "</div>"
      ],
      "text/plain": [
       "      Anomaly\n",
       "0           1\n",
       "1           1\n",
       "2           1\n",
       "3           1\n",
       "4           1\n",
       "...       ...\n",
       "8779        1\n",
       "8780        1\n",
       "8781        1\n",
       "8782        1\n",
       "8783        1\n",
       "\n",
       "[8784 rows x 1 columns]"
      ]
     },
     "execution_count": 65,
     "metadata": {},
     "output_type": "execute_result"
    }
   ],
   "source": [
    "Anomaly = pd.DataFrame(Anomaly,columns=['Anomaly'])\n",
    "Anomaly"
   ]
  },
  {
   "cell_type": "code",
   "execution_count": 66,
   "id": "e3d42a76",
   "metadata": {
    "execution": {
     "iopub.execute_input": "2022-05-15T16:34:17.761282Z",
     "iopub.status.busy": "2022-05-15T16:34:17.760862Z",
     "iopub.status.idle": "2022-05-15T16:34:17.775588Z",
     "shell.execute_reply": "2022-05-15T16:34:17.774788Z"
    },
    "papermill": {
     "duration": 0.140559,
     "end_time": "2022-05-15T16:34:17.777423",
     "exception": false,
     "start_time": "2022-05-15T16:34:17.636864",
     "status": "completed"
    },
    "tags": []
   },
   "outputs": [
    {
     "data": {
      "text/html": [
       "<div>\n",
       "<style scoped>\n",
       "    .dataframe tbody tr th:only-of-type {\n",
       "        vertical-align: middle;\n",
       "    }\n",
       "\n",
       "    .dataframe tbody tr th {\n",
       "        vertical-align: top;\n",
       "    }\n",
       "\n",
       "    .dataframe thead th {\n",
       "        text-align: right;\n",
       "    }\n",
       "</style>\n",
       "<table border=\"1\" class=\"dataframe\">\n",
       "  <thead>\n",
       "    <tr style=\"text-align: right;\">\n",
       "      <th></th>\n",
       "      <th>timestamp</th>\n",
       "      <th>building_id</th>\n",
       "      <th>meter_reading</th>\n",
       "      <th>anomaly</th>\n",
       "      <th>Anomaly</th>\n",
       "    </tr>\n",
       "  </thead>\n",
       "  <tbody>\n",
       "    <tr>\n",
       "      <th>0</th>\n",
       "      <td>2016-01-01 00:00:00</td>\n",
       "      <td>108</td>\n",
       "      <td>179.901838</td>\n",
       "      <td>0</td>\n",
       "      <td>1</td>\n",
       "    </tr>\n",
       "    <tr>\n",
       "      <th>1</th>\n",
       "      <td>2016-01-01 01:00:00</td>\n",
       "      <td>108</td>\n",
       "      <td>182.531000</td>\n",
       "      <td>1</td>\n",
       "      <td>1</td>\n",
       "    </tr>\n",
       "    <tr>\n",
       "      <th>2</th>\n",
       "      <td>2016-01-01 02:00:00</td>\n",
       "      <td>108</td>\n",
       "      <td>1.000000</td>\n",
       "      <td>1</td>\n",
       "      <td>1</td>\n",
       "    </tr>\n",
       "    <tr>\n",
       "      <th>3</th>\n",
       "      <td>2016-01-01 03:00:00</td>\n",
       "      <td>108</td>\n",
       "      <td>1.000000</td>\n",
       "      <td>1</td>\n",
       "      <td>1</td>\n",
       "    </tr>\n",
       "    <tr>\n",
       "      <th>4</th>\n",
       "      <td>2016-01-01 04:00:00</td>\n",
       "      <td>108</td>\n",
       "      <td>1.000000</td>\n",
       "      <td>1</td>\n",
       "      <td>1</td>\n",
       "    </tr>\n",
       "    <tr>\n",
       "      <th>...</th>\n",
       "      <td>...</td>\n",
       "      <td>...</td>\n",
       "      <td>...</td>\n",
       "      <td>...</td>\n",
       "      <td>...</td>\n",
       "    </tr>\n",
       "    <tr>\n",
       "      <th>8779</th>\n",
       "      <td>2016-12-31 19:00:00</td>\n",
       "      <td>108</td>\n",
       "      <td>179.500000</td>\n",
       "      <td>0</td>\n",
       "      <td>1</td>\n",
       "    </tr>\n",
       "    <tr>\n",
       "      <th>8780</th>\n",
       "      <td>2016-12-31 20:00:00</td>\n",
       "      <td>108</td>\n",
       "      <td>178.000000</td>\n",
       "      <td>0</td>\n",
       "      <td>1</td>\n",
       "    </tr>\n",
       "    <tr>\n",
       "      <th>8781</th>\n",
       "      <td>2016-12-31 21:00:00</td>\n",
       "      <td>108</td>\n",
       "      <td>176.500000</td>\n",
       "      <td>0</td>\n",
       "      <td>1</td>\n",
       "    </tr>\n",
       "    <tr>\n",
       "      <th>8782</th>\n",
       "      <td>2016-12-31 22:00:00</td>\n",
       "      <td>108</td>\n",
       "      <td>178.000000</td>\n",
       "      <td>0</td>\n",
       "      <td>1</td>\n",
       "    </tr>\n",
       "    <tr>\n",
       "      <th>8783</th>\n",
       "      <td>2016-12-31 23:00:00</td>\n",
       "      <td>108</td>\n",
       "      <td>177.500000</td>\n",
       "      <td>0</td>\n",
       "      <td>1</td>\n",
       "    </tr>\n",
       "  </tbody>\n",
       "</table>\n",
       "<p>8784 rows × 5 columns</p>\n",
       "</div>"
      ],
      "text/plain": [
       "               timestamp  building_id  meter_reading  anomaly  Anomaly\n",
       "0    2016-01-01 00:00:00          108     179.901838        0        1\n",
       "1    2016-01-01 01:00:00          108     182.531000        1        1\n",
       "2    2016-01-01 02:00:00          108       1.000000        1        1\n",
       "3    2016-01-01 03:00:00          108       1.000000        1        1\n",
       "4    2016-01-01 04:00:00          108       1.000000        1        1\n",
       "...                  ...          ...            ...      ...      ...\n",
       "8779 2016-12-31 19:00:00          108     179.500000        0        1\n",
       "8780 2016-12-31 20:00:00          108     178.000000        0        1\n",
       "8781 2016-12-31 21:00:00          108     176.500000        0        1\n",
       "8782 2016-12-31 22:00:00          108     178.000000        0        1\n",
       "8783 2016-12-31 23:00:00          108     177.500000        0        1\n",
       "\n",
       "[8784 rows x 5 columns]"
      ]
     },
     "execution_count": 66,
     "metadata": {},
     "output_type": "execute_result"
    }
   ],
   "source": [
    "random_building_id = pd.concat([random_building_id.reset_index(), Anomaly], axis=1)\n",
    "random_building_id"
   ]
  },
  {
   "cell_type": "code",
   "execution_count": 67,
   "id": "2b8bea7f",
   "metadata": {
    "execution": {
     "iopub.execute_input": "2022-05-15T16:34:18.024459Z",
     "iopub.status.busy": "2022-05-15T16:34:18.024057Z",
     "iopub.status.idle": "2022-05-15T16:34:18.030849Z",
     "shell.execute_reply": "2022-05-15T16:34:18.030063Z"
    },
    "papermill": {
     "duration": 0.132869,
     "end_time": "2022-05-15T16:34:18.032465",
     "exception": false,
     "start_time": "2022-05-15T16:34:17.899596",
     "status": "completed"
    },
    "tags": []
   },
   "outputs": [
    {
     "data": {
      "text/plain": [
       " 1    8772\n",
       "-1      12\n",
       "Name: Anomaly, dtype: int64"
      ]
     },
     "execution_count": 67,
     "metadata": {},
     "output_type": "execute_result"
    }
   ],
   "source": [
    "random_building_id['Anomaly'].value_counts()"
   ]
  },
  {
   "cell_type": "code",
   "execution_count": 68,
   "id": "e809a098",
   "metadata": {
    "execution": {
     "iopub.execute_input": "2022-05-15T16:34:18.280671Z",
     "iopub.status.busy": "2022-05-15T16:34:18.280290Z",
     "iopub.status.idle": "2022-05-15T16:34:18.590900Z",
     "shell.execute_reply": "2022-05-15T16:34:18.590107Z"
    },
    "papermill": {
     "duration": 0.438226,
     "end_time": "2022-05-15T16:34:18.594683",
     "exception": false,
     "start_time": "2022-05-15T16:34:18.156457",
     "status": "completed"
    },
    "tags": []
   },
   "outputs": [
    {
     "data": {
      "image/png": "[encoded data removed]",
      "text/plain": [
       "<Figure size 2160x720 with 1 Axes>"
      ]
     },
     "metadata": {
      "needs_background": "light"
     },
     "output_type": "display_data"
    }
   ],
   "source": [
    "\n",
    "fig, ax = plt.subplots(figsize=(30,10))\n",
    "\n",
    "anomaly = random_building_id.loc[random_building_id['Anomaly'] == -1, ['meter_reading']] \n",
    "\n",
    "ax.plot(random_building_id.index, random_building_id['meter_reading'], color='blue', label = 'Normal')\n",
    "ax.scatter(anomaly.index,anomaly['meter_reading'], color='red', label = 'Anomaly')\n",
    "ax.set_title('Random Building Id(108) anomalies points', fontsize=20)\n",
    "plt.legend()\n",
    "plt.show();"
   ]
  },
  {
   "cell_type": "code",
   "execution_count": 69,
   "id": "b2399e04",
   "metadata": {
    "execution": {
     "iopub.execute_input": "2022-05-15T16:34:18.852648Z",
     "iopub.status.busy": "2022-05-15T16:34:18.852260Z",
     "iopub.status.idle": "2022-05-15T16:34:18.859249Z",
     "shell.execute_reply": "2022-05-15T16:34:18.858596Z"
    },
    "papermill": {
     "duration": 0.137723,
     "end_time": "2022-05-15T16:34:18.860850",
     "exception": false,
     "start_time": "2022-05-15T16:34:18.723127",
     "status": "completed"
    },
    "tags": []
   },
   "outputs": [
    {
     "data": {
      "text/plain": [
       " 1    8772\n",
       "-1      12\n",
       "Name: Anomaly, dtype: int64"
      ]
     },
     "execution_count": 69,
     "metadata": {},
     "output_type": "execute_result"
    }
   ],
   "source": [
    "random_building_id['Anomaly'].value_counts()"
   ]
  },
  {
   "cell_type": "code",
   "execution_count": 70,
   "id": "6a96ab83",
   "metadata": {
    "execution": {
     "iopub.execute_input": "2022-05-15T16:34:19.120499Z",
     "iopub.status.busy": "2022-05-15T16:34:19.120024Z",
     "iopub.status.idle": "2022-05-15T16:34:19.125512Z",
     "shell.execute_reply": "2022-05-15T16:34:19.124926Z"
    },
    "papermill": {
     "duration": 0.136686,
     "end_time": "2022-05-15T16:34:19.127297",
     "exception": false,
     "start_time": "2022-05-15T16:34:18.990611",
     "status": "completed"
    },
    "tags": []
   },
   "outputs": [],
   "source": [
    "random_building_id['Anomaly'] = random_building_id['Anomaly'].replace(1, 0)\n",
    "random_building_id['Anomaly'] = random_building_id['Anomaly'].replace(-1, 1)"
   ]
  },
  {
   "cell_type": "code",
   "execution_count": 71,
   "id": "fa9d052c",
   "metadata": {
    "execution": {
     "iopub.execute_input": "2022-05-15T16:34:19.385694Z",
     "iopub.status.busy": "2022-05-15T16:34:19.385416Z",
     "iopub.status.idle": "2022-05-15T16:34:19.393822Z",
     "shell.execute_reply": "2022-05-15T16:34:19.392615Z"
    },
    "papermill": {
     "duration": 0.141744,
     "end_time": "2022-05-15T16:34:19.396997",
     "exception": false,
     "start_time": "2022-05-15T16:34:19.255253",
     "status": "completed"
    },
    "tags": []
   },
   "outputs": [
    {
     "name": "stdout",
     "output_type": "stream",
     "text": [
      "my first model predication for only one building has accurcy  96.44 %\n"
     ]
    }
   ],
   "source": [
    "print(\"my first model predication for only one building has accurcy \",round((random_building_id[random_building_id['anomaly'] == random_building_id['Anomaly']].shape[0]/random_building_id.shape[0])*100,2),\"%\")"
   ]
  },
  {
   "cell_type": "markdown",
   "id": "40600efd",
   "metadata": {
    "papermill": {
     "duration": 0.13337,
     "end_time": "2022-05-15T16:34:19.660224",
     "exception": false,
     "start_time": "2022-05-15T16:34:19.526854",
     "status": "completed"
    },
    "tags": []
   },
   "source": [
    "#### Second apply on all grids "
   ]
  },
  {
   "cell_type": "code",
   "execution_count": 72,
   "id": "802dc57b",
   "metadata": {
    "execution": {
     "iopub.execute_input": "2022-05-15T16:34:19.919924Z",
     "iopub.status.busy": "2022-05-15T16:34:19.919215Z",
     "iopub.status.idle": "2022-05-15T16:34:38.307900Z",
     "shell.execute_reply": "2022-05-15T16:34:38.307047Z"
    },
    "papermill": {
     "duration": 18.521372,
     "end_time": "2022-05-15T16:34:38.310148",
     "exception": false,
     "start_time": "2022-05-15T16:34:19.788776",
     "status": "completed"
    },
    "tags": []
   },
   "outputs": [],
   "source": [
    "data=[]\n",
    "for building in buildings:\n",
    "    All_buildings = df.groupby(\"building_id\").get_group(building)\n",
    "    data.append(All_buildings)\n",
    "#data"
   ]
  },
  {
   "cell_type": "code",
   "execution_count": 73,
   "id": "1f611247",
   "metadata": {
    "execution": {
     "iopub.execute_input": "2022-05-15T16:34:38.572036Z",
     "iopub.status.busy": "2022-05-15T16:34:38.571299Z",
     "iopub.status.idle": "2022-05-15T16:34:38.583194Z",
     "shell.execute_reply": "2022-05-15T16:34:38.582484Z"
    },
    "papermill": {
     "duration": 0.143524,
     "end_time": "2022-05-15T16:34:38.584928",
     "exception": false,
     "start_time": "2022-05-15T16:34:38.441404",
     "status": "completed"
    },
    "tags": []
   },
   "outputs": [
    {
     "data": {
      "text/html": [
       "<div>\n",
       "<style scoped>\n",
       "    .dataframe tbody tr th:only-of-type {\n",
       "        vertical-align: middle;\n",
       "    }\n",
       "\n",
       "    .dataframe tbody tr th {\n",
       "        vertical-align: top;\n",
       "    }\n",
       "\n",
       "    .dataframe thead th {\n",
       "        text-align: right;\n",
       "    }\n",
       "</style>\n",
       "<table border=\"1\" class=\"dataframe\">\n",
       "  <thead>\n",
       "    <tr style=\"text-align: right;\">\n",
       "      <th></th>\n",
       "      <th>building_id</th>\n",
       "      <th>meter_reading</th>\n",
       "      <th>anomaly</th>\n",
       "    </tr>\n",
       "    <tr>\n",
       "      <th>timestamp</th>\n",
       "      <th></th>\n",
       "      <th></th>\n",
       "      <th></th>\n",
       "    </tr>\n",
       "  </thead>\n",
       "  <tbody>\n",
       "    <tr>\n",
       "      <th>2016-01-01 00:00:00</th>\n",
       "      <td>1</td>\n",
       "      <td>179.901838</td>\n",
       "      <td>0</td>\n",
       "    </tr>\n",
       "    <tr>\n",
       "      <th>2016-01-01 01:00:00</th>\n",
       "      <td>1</td>\n",
       "      <td>179.901838</td>\n",
       "      <td>0</td>\n",
       "    </tr>\n",
       "    <tr>\n",
       "      <th>2016-01-01 02:00:00</th>\n",
       "      <td>1</td>\n",
       "      <td>179.901838</td>\n",
       "      <td>0</td>\n",
       "    </tr>\n",
       "    <tr>\n",
       "      <th>2016-01-01 03:00:00</th>\n",
       "      <td>1</td>\n",
       "      <td>179.901838</td>\n",
       "      <td>0</td>\n",
       "    </tr>\n",
       "    <tr>\n",
       "      <th>2016-01-01 04:00:00</th>\n",
       "      <td>1</td>\n",
       "      <td>179.901838</td>\n",
       "      <td>0</td>\n",
       "    </tr>\n",
       "    <tr>\n",
       "      <th>...</th>\n",
       "      <td>...</td>\n",
       "      <td>...</td>\n",
       "      <td>...</td>\n",
       "    </tr>\n",
       "    <tr>\n",
       "      <th>2016-12-31 19:00:00</th>\n",
       "      <td>1</td>\n",
       "      <td>20.006000</td>\n",
       "      <td>0</td>\n",
       "    </tr>\n",
       "    <tr>\n",
       "      <th>2016-12-31 20:00:00</th>\n",
       "      <td>1</td>\n",
       "      <td>15.364000</td>\n",
       "      <td>0</td>\n",
       "    </tr>\n",
       "    <tr>\n",
       "      <th>2016-12-31 21:00:00</th>\n",
       "      <td>1</td>\n",
       "      <td>15.685000</td>\n",
       "      <td>0</td>\n",
       "    </tr>\n",
       "    <tr>\n",
       "      <th>2016-12-31 22:00:00</th>\n",
       "      <td>1</td>\n",
       "      <td>15.925000</td>\n",
       "      <td>0</td>\n",
       "    </tr>\n",
       "    <tr>\n",
       "      <th>2016-12-31 23:00:00</th>\n",
       "      <td>1</td>\n",
       "      <td>14.964000</td>\n",
       "      <td>0</td>\n",
       "    </tr>\n",
       "  </tbody>\n",
       "</table>\n",
       "<p>8784 rows × 3 columns</p>\n",
       "</div>"
      ],
      "text/plain": [
       "                     building_id  meter_reading  anomaly\n",
       "timestamp                                               \n",
       "2016-01-01 00:00:00            1     179.901838        0\n",
       "2016-01-01 01:00:00            1     179.901838        0\n",
       "2016-01-01 02:00:00            1     179.901838        0\n",
       "2016-01-01 03:00:00            1     179.901838        0\n",
       "2016-01-01 04:00:00            1     179.901838        0\n",
       "...                          ...            ...      ...\n",
       "2016-12-31 19:00:00            1      20.006000        0\n",
       "2016-12-31 20:00:00            1      15.364000        0\n",
       "2016-12-31 21:00:00            1      15.685000        0\n",
       "2016-12-31 22:00:00            1      15.925000        0\n",
       "2016-12-31 23:00:00            1      14.964000        0\n",
       "\n",
       "[8784 rows x 3 columns]"
      ]
     },
     "execution_count": 73,
     "metadata": {},
     "output_type": "execute_result"
    }
   ],
   "source": [
    "data[0]"
   ]
  },
  {
   "cell_type": "code",
   "execution_count": 74,
   "id": "2c063892",
   "metadata": {
    "execution": {
     "iopub.execute_input": "2022-05-15T16:34:38.848770Z",
     "iopub.status.busy": "2022-05-15T16:34:38.848237Z",
     "iopub.status.idle": "2022-05-15T16:36:34.211427Z",
     "shell.execute_reply": "2022-05-15T16:36:34.210623Z"
    },
    "papermill": {
     "duration": 115.499164,
     "end_time": "2022-05-15T16:36:34.213818",
     "exception": false,
     "start_time": "2022-05-15T16:34:38.714654",
     "status": "completed"
    },
    "tags": []
   },
   "outputs": [
    {
     "name": "stdout",
     "output_type": "stream",
     "text": [
      "========== building number 1 predicted ==========\n",
      "========== building number 2 predicted ==========\n",
      "========== building number 3 predicted ==========\n",
      "========== building number 4 predicted ==========\n",
      "========== building number 5 predicted ==========\n",
      "========== building number 6 predicted ==========\n",
      "========== building number 7 predicted ==========\n",
      "========== building number 8 predicted ==========\n",
      "========== building number 9 predicted ==========\n",
      "========== building number 10 predicted ==========\n",
      "========== building number 11 predicted ==========\n",
      "========== building number 12 predicted ==========\n",
      "========== building number 13 predicted ==========\n",
      "========== building number 14 predicted ==========\n",
      "========== building number 15 predicted ==========\n",
      "========== building number 16 predicted ==========\n",
      "========== building number 17 predicted ==========\n",
      "========== building number 18 predicted ==========\n",
      "========== building number 19 predicted ==========\n",
      "========== building number 20 predicted ==========\n",
      "========== building number 21 predicted ==========\n",
      "========== building number 22 predicted ==========\n",
      "========== building number 23 predicted ==========\n",
      "========== building number 24 predicted ==========\n",
      "========== building number 25 predicted ==========\n",
      "========== building number 26 predicted ==========\n",
      "========== building number 27 predicted ==========\n",
      "========== building number 28 predicted ==========\n",
      "========== building number 29 predicted ==========\n",
      "========== building number 30 predicted ==========\n",
      "========== building number 31 predicted ==========\n",
      "========== building number 32 predicted ==========\n",
      "========== building number 33 predicted ==========\n",
      "========== building number 34 predicted ==========\n",
      "========== building number 35 predicted ==========\n",
      "========== building number 36 predicted ==========\n",
      "========== building number 37 predicted ==========\n",
      "========== building number 38 predicted ==========\n",
      "========== building number 39 predicted ==========\n",
      "========== building number 40 predicted ==========\n",
      "========== building number 41 predicted ==========\n",
      "========== building number 42 predicted ==========\n",
      "========== building number 43 predicted ==========\n",
      "========== building number 44 predicted ==========\n",
      "========== building number 45 predicted ==========\n",
      "========== building number 46 predicted ==========\n",
      "========== building number 47 predicted ==========\n",
      "========== building number 48 predicted ==========\n",
      "========== building number 49 predicted ==========\n",
      "========== building number 50 predicted ==========\n",
      "========== building number 51 predicted ==========\n",
      "========== building number 52 predicted ==========\n",
      "========== building number 53 predicted ==========\n",
      "========== building number 54 predicted ==========\n",
      "========== building number 55 predicted ==========\n",
      "========== building number 56 predicted ==========\n",
      "========== building number 57 predicted ==========\n",
      "========== building number 58 predicted ==========\n",
      "========== building number 59 predicted ==========\n",
      "========== building number 60 predicted ==========\n",
      "========== building number 61 predicted ==========\n",
      "========== building number 62 predicted ==========\n",
      "========== building number 63 predicted ==========\n",
      "========== building number 64 predicted ==========\n",
      "========== building number 65 predicted ==========\n",
      "========== building number 66 predicted ==========\n",
      "========== building number 67 predicted ==========\n",
      "========== building number 68 predicted ==========\n",
      "========== building number 69 predicted ==========\n",
      "========== building number 70 predicted ==========\n",
      "========== building number 71 predicted ==========\n",
      "========== building number 72 predicted ==========\n",
      "========== building number 73 predicted ==========\n",
      "========== building number 74 predicted ==========\n",
      "========== building number 75 predicted ==========\n",
      "========== building number 76 predicted ==========\n",
      "========== building number 77 predicted ==========\n",
      "========== building number 78 predicted ==========\n",
      "========== building number 79 predicted ==========\n",
      "========== building number 80 predicted ==========\n",
      "========== building number 81 predicted ==========\n",
      "========== building number 82 predicted ==========\n",
      "========== building number 83 predicted ==========\n",
      "========== building number 84 predicted ==========\n",
      "========== building number 85 predicted ==========\n",
      "========== building number 86 predicted ==========\n",
      "========== building number 87 predicted ==========\n",
      "========== building number 88 predicted ==========\n",
      "========== building number 89 predicted ==========\n",
      "========== building number 90 predicted ==========\n",
      "========== building number 91 predicted ==========\n",
      "========== building number 92 predicted ==========\n",
      "========== building number 93 predicted ==========\n",
      "========== building number 94 predicted ==========\n",
      "========== building number 95 predicted ==========\n",
      "========== building number 96 predicted ==========\n",
      "========== building number 97 predicted ==========\n",
      "========== building number 98 predicted ==========\n",
      "========== building number 99 predicted ==========\n",
      "========== building number 100 predicted ==========\n",
      "========== building number 101 predicted ==========\n",
      "========== building number 102 predicted ==========\n",
      "========== building number 103 predicted ==========\n",
      "========== building number 104 predicted ==========\n",
      "========== building number 105 predicted ==========\n",
      "========== building number 106 predicted ==========\n",
      "========== building number 107 predicted ==========\n",
      "========== building number 108 predicted ==========\n",
      "========== building number 109 predicted ==========\n",
      "========== building number 110 predicted ==========\n",
      "========== building number 111 predicted ==========\n",
      "========== building number 112 predicted ==========\n",
      "========== building number 113 predicted ==========\n",
      "========== building number 114 predicted ==========\n",
      "========== building number 115 predicted ==========\n",
      "========== building number 116 predicted ==========\n",
      "========== building number 117 predicted ==========\n",
      "========== building number 118 predicted ==========\n",
      "========== building number 119 predicted ==========\n",
      "========== building number 120 predicted ==========\n",
      "========== building number 121 predicted ==========\n",
      "========== building number 122 predicted ==========\n",
      "========== building number 123 predicted ==========\n",
      "========== building number 124 predicted ==========\n",
      "========== building number 125 predicted ==========\n",
      "========== building number 126 predicted ==========\n",
      "========== building number 127 predicted ==========\n",
      "========== building number 128 predicted ==========\n",
      "========== building number 129 predicted ==========\n",
      "========== building number 130 predicted ==========\n",
      "========== building number 131 predicted ==========\n",
      "========== building number 132 predicted ==========\n",
      "========== building number 133 predicted ==========\n",
      "========== building number 134 predicted ==========\n",
      "========== building number 135 predicted ==========\n",
      "========== building number 136 predicted ==========\n",
      "========== building number 137 predicted ==========\n",
      "========== building number 138 predicted ==========\n",
      "========== building number 139 predicted ==========\n",
      "========== building number 140 predicted ==========\n",
      "========== building number 141 predicted ==========\n",
      "========== building number 142 predicted ==========\n",
      "========== building number 143 predicted ==========\n",
      "========== building number 144 predicted ==========\n",
      "========== building number 145 predicted ==========\n",
      "========== building number 146 predicted ==========\n",
      "========== building number 147 predicted ==========\n",
      "========== building number 148 predicted ==========\n",
      "========== building number 149 predicted ==========\n",
      "========== building number 150 predicted ==========\n",
      "========== building number 151 predicted ==========\n",
      "========== building number 152 predicted ==========\n",
      "========== building number 153 predicted ==========\n",
      "========== building number 154 predicted ==========\n",
      "========== building number 155 predicted ==========\n",
      "========== building number 156 predicted ==========\n",
      "========== building number 157 predicted ==========\n",
      "========== building number 158 predicted ==========\n",
      "========== building number 159 predicted ==========\n",
      "========== building number 160 predicted ==========\n",
      "========== building number 161 predicted ==========\n",
      "========== building number 162 predicted ==========\n",
      "========== building number 163 predicted ==========\n",
      "========== building number 164 predicted ==========\n",
      "========== building number 165 predicted ==========\n",
      "========== building number 166 predicted ==========\n",
      "========== building number 167 predicted ==========\n",
      "========== building number 168 predicted ==========\n",
      "========== building number 169 predicted ==========\n",
      "========== building number 170 predicted ==========\n",
      "========== building number 171 predicted ==========\n",
      "========== building number 172 predicted ==========\n",
      "========== building number 173 predicted ==========\n",
      "========== building number 174 predicted ==========\n",
      "========== building number 175 predicted ==========\n",
      "========== building number 176 predicted ==========\n",
      "========== building number 177 predicted ==========\n",
      "========== building number 178 predicted ==========\n",
      "========== building number 179 predicted ==========\n",
      "========== building number 180 predicted ==========\n",
      "========== building number 181 predicted ==========\n",
      "========== building number 182 predicted ==========\n",
      "========== building number 183 predicted ==========\n",
      "========== building number 184 predicted ==========\n",
      "========== building number 185 predicted ==========\n",
      "========== building number 186 predicted ==========\n",
      "========== building number 187 predicted ==========\n",
      "========== building number 188 predicted ==========\n",
      "========== building number 189 predicted ==========\n",
      "========== building number 190 predicted ==========\n",
      "========== building number 191 predicted ==========\n",
      "========== building number 192 predicted ==========\n",
      "========== building number 193 predicted ==========\n",
      "========== building number 194 predicted ==========\n",
      "========== building number 195 predicted ==========\n",
      "========== building number 196 predicted ==========\n",
      "========== building number 197 predicted ==========\n",
      "========== building number 198 predicted ==========\n",
      "========== building number 199 predicted ==========\n",
      "========== building number 200 predicted ==========\n"
     ]
    }
   ],
   "source": [
    "# train isolation forest\n",
    "full_anomaly = pd.DataFrame()\n",
    "for i in range (x):\n",
    "    \n",
    "    All_buildings = data[i]\n",
    "    \n",
    "    outliers_fraction = float(.01)\n",
    "\n",
    "    scaler = StandardScaler()\n",
    "    np_scaled = scaler.fit_transform(All_buildings[\"meter_reading\"].values.reshape(-1, 1))\n",
    "    df_data = pd.DataFrame(np_scaled)\n",
    "\n",
    "    model =  IsolationForest(contamination=outliers_fraction)\n",
    "    model.fit(df_data) \n",
    "    Anomaly = model.predict(df_data)\n",
    "    Anomaly = pd.DataFrame(Anomaly,columns=['Anomaly'])\n",
    "    print(\"========== building number {} predicted ==========\".format(i+1))\n",
    "    full_anomaly = full_anomaly.append(Anomaly)"
   ]
  },
  {
   "cell_type": "code",
   "execution_count": 75,
   "id": "777be97c",
   "metadata": {
    "execution": {
     "iopub.execute_input": "2022-05-15T16:36:34.586232Z",
     "iopub.status.busy": "2022-05-15T16:36:34.585947Z",
     "iopub.status.idle": "2022-05-15T16:36:34.619055Z",
     "shell.execute_reply": "2022-05-15T16:36:34.618247Z"
    },
    "papermill": {
     "duration": 0.221778,
     "end_time": "2022-05-15T16:36:34.620989",
     "exception": false,
     "start_time": "2022-05-15T16:36:34.399211",
     "status": "completed"
    },
    "tags": []
   },
   "outputs": [
    {
     "data": {
      "text/html": [
       "<div>\n",
       "<style scoped>\n",
       "    .dataframe tbody tr th:only-of-type {\n",
       "        vertical-align: middle;\n",
       "    }\n",
       "\n",
       "    .dataframe tbody tr th {\n",
       "        vertical-align: top;\n",
       "    }\n",
       "\n",
       "    .dataframe thead th {\n",
       "        text-align: right;\n",
       "    }\n",
       "</style>\n",
       "<table border=\"1\" class=\"dataframe\">\n",
       "  <thead>\n",
       "    <tr style=\"text-align: right;\">\n",
       "      <th></th>\n",
       "      <th>Anomaly</th>\n",
       "    </tr>\n",
       "  </thead>\n",
       "  <tbody>\n",
       "    <tr>\n",
       "      <th>0</th>\n",
       "      <td>1</td>\n",
       "    </tr>\n",
       "    <tr>\n",
       "      <th>1</th>\n",
       "      <td>1</td>\n",
       "    </tr>\n",
       "    <tr>\n",
       "      <th>2</th>\n",
       "      <td>1</td>\n",
       "    </tr>\n",
       "    <tr>\n",
       "      <th>3</th>\n",
       "      <td>1</td>\n",
       "    </tr>\n",
       "    <tr>\n",
       "      <th>4</th>\n",
       "      <td>1</td>\n",
       "    </tr>\n",
       "    <tr>\n",
       "      <th>...</th>\n",
       "      <td>...</td>\n",
       "    </tr>\n",
       "    <tr>\n",
       "      <th>1749489</th>\n",
       "      <td>1</td>\n",
       "    </tr>\n",
       "    <tr>\n",
       "      <th>1749490</th>\n",
       "      <td>1</td>\n",
       "    </tr>\n",
       "    <tr>\n",
       "      <th>1749491</th>\n",
       "      <td>1</td>\n",
       "    </tr>\n",
       "    <tr>\n",
       "      <th>1749492</th>\n",
       "      <td>1</td>\n",
       "    </tr>\n",
       "    <tr>\n",
       "      <th>1749493</th>\n",
       "      <td>1</td>\n",
       "    </tr>\n",
       "  </tbody>\n",
       "</table>\n",
       "<p>1749494 rows × 1 columns</p>\n",
       "</div>"
      ],
      "text/plain": [
       "         Anomaly\n",
       "0              1\n",
       "1              1\n",
       "2              1\n",
       "3              1\n",
       "4              1\n",
       "...          ...\n",
       "1749489        1\n",
       "1749490        1\n",
       "1749491        1\n",
       "1749492        1\n",
       "1749493        1\n",
       "\n",
       "[1749494 rows x 1 columns]"
      ]
     },
     "execution_count": 75,
     "metadata": {},
     "output_type": "execute_result"
    }
   ],
   "source": [
    "full_anomaly.reset_index(inplace= True)\n",
    "full_anomaly.drop('index', axis=1, inplace=True)\n",
    "full_anomaly"
   ]
  },
  {
   "cell_type": "code",
   "execution_count": 76,
   "id": "8db284e7",
   "metadata": {
    "execution": {
     "iopub.execute_input": "2022-05-15T16:36:34.994920Z",
     "iopub.status.busy": "2022-05-15T16:36:34.994391Z",
     "iopub.status.idle": "2022-05-15T16:36:35.059545Z",
     "shell.execute_reply": "2022-05-15T16:36:35.058709Z"
    },
    "papermill": {
     "duration": 0.253263,
     "end_time": "2022-05-15T16:36:35.061491",
     "exception": false,
     "start_time": "2022-05-15T16:36:34.808228",
     "status": "completed"
    },
    "tags": []
   },
   "outputs": [
    {
     "data": {
      "text/html": [
       "<div>\n",
       "<style scoped>\n",
       "    .dataframe tbody tr th:only-of-type {\n",
       "        vertical-align: middle;\n",
       "    }\n",
       "\n",
       "    .dataframe tbody tr th {\n",
       "        vertical-align: top;\n",
       "    }\n",
       "\n",
       "    .dataframe thead th {\n",
       "        text-align: right;\n",
       "    }\n",
       "</style>\n",
       "<table border=\"1\" class=\"dataframe\">\n",
       "  <thead>\n",
       "    <tr style=\"text-align: right;\">\n",
       "      <th></th>\n",
       "      <th>timestamp</th>\n",
       "      <th>building_id</th>\n",
       "      <th>meter_reading</th>\n",
       "      <th>anomaly</th>\n",
       "      <th>Anomaly</th>\n",
       "    </tr>\n",
       "  </thead>\n",
       "  <tbody>\n",
       "    <tr>\n",
       "      <th>0</th>\n",
       "      <td>2016-01-01 00:00:00</td>\n",
       "      <td>1</td>\n",
       "      <td>179.901838</td>\n",
       "      <td>0</td>\n",
       "      <td>1</td>\n",
       "    </tr>\n",
       "    <tr>\n",
       "      <th>1</th>\n",
       "      <td>2016-01-01 00:00:00</td>\n",
       "      <td>32</td>\n",
       "      <td>179.901838</td>\n",
       "      <td>0</td>\n",
       "      <td>1</td>\n",
       "    </tr>\n",
       "    <tr>\n",
       "      <th>2</th>\n",
       "      <td>2016-01-01 00:00:00</td>\n",
       "      <td>41</td>\n",
       "      <td>179.901838</td>\n",
       "      <td>0</td>\n",
       "      <td>1</td>\n",
       "    </tr>\n",
       "    <tr>\n",
       "      <th>3</th>\n",
       "      <td>2016-01-01 00:00:00</td>\n",
       "      <td>55</td>\n",
       "      <td>179.901838</td>\n",
       "      <td>0</td>\n",
       "      <td>1</td>\n",
       "    </tr>\n",
       "    <tr>\n",
       "      <th>4</th>\n",
       "      <td>2016-01-01 00:00:00</td>\n",
       "      <td>69</td>\n",
       "      <td>179.901838</td>\n",
       "      <td>0</td>\n",
       "      <td>1</td>\n",
       "    </tr>\n",
       "    <tr>\n",
       "      <th>...</th>\n",
       "      <td>...</td>\n",
       "      <td>...</td>\n",
       "      <td>...</td>\n",
       "      <td>...</td>\n",
       "      <td>...</td>\n",
       "    </tr>\n",
       "    <tr>\n",
       "      <th>1749489</th>\n",
       "      <td>2016-12-31 23:00:00</td>\n",
       "      <td>1316</td>\n",
       "      <td>38.844000</td>\n",
       "      <td>0</td>\n",
       "      <td>1</td>\n",
       "    </tr>\n",
       "    <tr>\n",
       "      <th>1749490</th>\n",
       "      <td>2016-12-31 23:00:00</td>\n",
       "      <td>1318</td>\n",
       "      <td>202.893000</td>\n",
       "      <td>0</td>\n",
       "      <td>1</td>\n",
       "    </tr>\n",
       "    <tr>\n",
       "      <th>1749491</th>\n",
       "      <td>2016-12-31 23:00:00</td>\n",
       "      <td>1319</td>\n",
       "      <td>179.901838</td>\n",
       "      <td>0</td>\n",
       "      <td>1</td>\n",
       "    </tr>\n",
       "    <tr>\n",
       "      <th>1749492</th>\n",
       "      <td>2016-12-31 23:00:00</td>\n",
       "      <td>1323</td>\n",
       "      <td>172.000000</td>\n",
       "      <td>0</td>\n",
       "      <td>1</td>\n",
       "    </tr>\n",
       "    <tr>\n",
       "      <th>1749493</th>\n",
       "      <td>2016-12-31 23:00:00</td>\n",
       "      <td>1353</td>\n",
       "      <td>2.400000</td>\n",
       "      <td>0</td>\n",
       "      <td>1</td>\n",
       "    </tr>\n",
       "  </tbody>\n",
       "</table>\n",
       "<p>1749494 rows × 5 columns</p>\n",
       "</div>"
      ],
      "text/plain": [
       "                  timestamp  building_id  meter_reading  anomaly  Anomaly\n",
       "0       2016-01-01 00:00:00            1     179.901838        0        1\n",
       "1       2016-01-01 00:00:00           32     179.901838        0        1\n",
       "2       2016-01-01 00:00:00           41     179.901838        0        1\n",
       "3       2016-01-01 00:00:00           55     179.901838        0        1\n",
       "4       2016-01-01 00:00:00           69     179.901838        0        1\n",
       "...                     ...          ...            ...      ...      ...\n",
       "1749489 2016-12-31 23:00:00         1316      38.844000        0        1\n",
       "1749490 2016-12-31 23:00:00         1318     202.893000        0        1\n",
       "1749491 2016-12-31 23:00:00         1319     179.901838        0        1\n",
       "1749492 2016-12-31 23:00:00         1323     172.000000        0        1\n",
       "1749493 2016-12-31 23:00:00         1353       2.400000        0        1\n",
       "\n",
       "[1749494 rows x 5 columns]"
      ]
     },
     "execution_count": 76,
     "metadata": {},
     "output_type": "execute_result"
    }
   ],
   "source": [
    "df_full_anomaly = pd.concat([df.reset_index(), full_anomaly], axis=1)\n",
    "df_full_anomaly"
   ]
  },
  {
   "cell_type": "code",
   "execution_count": 77,
   "id": "f9e7b9fb",
   "metadata": {
    "execution": {
     "iopub.execute_input": "2022-05-15T16:36:35.434457Z",
     "iopub.status.busy": "2022-05-15T16:36:35.433960Z",
     "iopub.status.idle": "2022-05-15T16:36:35.436833Z",
     "shell.execute_reply": "2022-05-15T16:36:35.436303Z"
    },
    "papermill": {
     "duration": 0.191393,
     "end_time": "2022-05-15T16:36:35.438485",
     "exception": false,
     "start_time": "2022-05-15T16:36:35.247092",
     "status": "completed"
    },
    "tags": []
   },
   "outputs": [],
   "source": [
    "# fig1 = px.line(df_full_anomaly,  y=\"meter_reading\")\n",
    "# fig1.update_traces(line=dict(color = 'rgba(250,100,10,0.2)'))\n",
    "# fig1.update_layout(title=\"Total buildings\")\n",
    "# fig1.show()"
   ]
  },
  {
   "cell_type": "code",
   "execution_count": 78,
   "id": "9644f490",
   "metadata": {
    "execution": {
     "iopub.execute_input": "2022-05-15T16:36:35.811756Z",
     "iopub.status.busy": "2022-05-15T16:36:35.811232Z",
     "iopub.status.idle": "2022-05-15T16:36:35.814189Z",
     "shell.execute_reply": "2022-05-15T16:36:35.813731Z"
    },
    "papermill": {
     "duration": 0.190768,
     "end_time": "2022-05-15T16:36:35.815684",
     "exception": false,
     "start_time": "2022-05-15T16:36:35.624916",
     "status": "completed"
    },
    "tags": []
   },
   "outputs": [],
   "source": [
    "# fig1 = px.line(df_full_anomaly,  y=\"meter_reading\")\n",
    "# fig1.update_traces(line=dict(color = 'rgba(250,100,10,0.2)'))\n",
    "# anomaly = df_full_anomaly.loc[df_full_anomaly['Anomaly'] == -1, ['meter_reading']] \n",
    "\n",
    "# fig2 = px.scatter(anomaly,y='meter_reading')\n",
    "\n",
    "# fig3 = go.Figure(data=fig1.data + fig2.data)\n",
    "# fig3.update_layout(title=\"Total buildings anomalies points for isolation forest\")\n",
    "# fig3.show()"
   ]
  },
  {
   "cell_type": "code",
   "execution_count": 79,
   "id": "535f4211",
   "metadata": {
    "execution": {
     "iopub.execute_input": "2022-05-15T16:36:36.185846Z",
     "iopub.status.busy": "2022-05-15T16:36:36.185526Z",
     "iopub.status.idle": "2022-05-15T16:36:40.350278Z",
     "shell.execute_reply": "2022-05-15T16:36:40.349461Z"
    },
    "papermill": {
     "duration": 4.35212,
     "end_time": "2022-05-15T16:36:40.352184",
     "exception": false,
     "start_time": "2022-05-15T16:36:36.000064",
     "status": "completed"
    },
    "tags": []
   },
   "outputs": [
    {
     "data": {
      "image/png": "[encoded data removed]",
      "text/plain": [
       "<Figure size 2160x720 with 1 Axes>"
      ]
     },
     "metadata": {
      "needs_background": "light"
     },
     "output_type": "display_data"
    }
   ],
   "source": [
    "\n",
    "fig, ax = plt.subplots(figsize=(30,10))\n",
    "\n",
    "anomaly = df_full_anomaly.loc[df_full_anomaly['Anomaly'] == -1, ['meter_reading']] \n",
    "\n",
    "ax.plot(df_full_anomaly.index, df_full_anomaly['meter_reading'], color='blue', label = 'Normal')\n",
    "ax.scatter(anomaly.index,anomaly['meter_reading'], color='red', label = 'Anomaly')\n",
    "ax.set_title('All buildings anomalies points', fontsize=20)\n",
    "plt.legend()\n",
    "plt.show();"
   ]
  },
  {
   "cell_type": "code",
   "execution_count": 80,
   "id": "24c93f2e",
   "metadata": {
    "execution": {
     "iopub.execute_input": "2022-05-15T16:36:40.759834Z",
     "iopub.status.busy": "2022-05-15T16:36:40.759520Z",
     "iopub.status.idle": "2022-05-15T16:36:40.774689Z",
     "shell.execute_reply": "2022-05-15T16:36:40.774083Z"
    },
    "papermill": {
     "duration": 0.204953,
     "end_time": "2022-05-15T16:36:40.776488",
     "exception": false,
     "start_time": "2022-05-15T16:36:40.571535",
     "status": "completed"
    },
    "tags": []
   },
   "outputs": [
    {
     "data": {
      "text/plain": [
       " 1    1738521\n",
       "-1      10973\n",
       "Name: Anomaly, dtype: int64"
      ]
     },
     "execution_count": 80,
     "metadata": {},
     "output_type": "execute_result"
    }
   ],
   "source": [
    "df_full_anomaly['Anomaly'].value_counts()"
   ]
  },
  {
   "cell_type": "code",
   "execution_count": 81,
   "id": "33418e42",
   "metadata": {
    "execution": {
     "iopub.execute_input": "2022-05-15T16:36:41.156589Z",
     "iopub.status.busy": "2022-05-15T16:36:41.156180Z",
     "iopub.status.idle": "2022-05-15T16:36:41.188686Z",
     "shell.execute_reply": "2022-05-15T16:36:41.188052Z"
    },
    "papermill": {
     "duration": 0.224332,
     "end_time": "2022-05-15T16:36:41.190786",
     "exception": false,
     "start_time": "2022-05-15T16:36:40.966454",
     "status": "completed"
    },
    "tags": []
   },
   "outputs": [],
   "source": [
    "df_full_anomaly['Anomaly'] = df_full_anomaly['Anomaly'].replace(1, 0)\n",
    "df_full_anomaly['Anomaly'] = df_full_anomaly['Anomaly'].replace(-1, 1)"
   ]
  },
  {
   "cell_type": "code",
   "execution_count": 82,
   "id": "cbf6369f",
   "metadata": {
    "execution": {
     "iopub.execute_input": "2022-05-15T16:36:41.568295Z",
     "iopub.status.busy": "2022-05-15T16:36:41.567810Z",
     "iopub.status.idle": "2022-05-15T16:36:41.638698Z",
     "shell.execute_reply": "2022-05-15T16:36:41.637764Z"
    },
    "papermill": {
     "duration": 0.263319,
     "end_time": "2022-05-15T16:36:41.640609",
     "exception": false,
     "start_time": "2022-05-15T16:36:41.377290",
     "status": "completed"
    },
    "tags": []
   },
   "outputs": [
    {
     "name": "stdout",
     "output_type": "stream",
     "text": [
      "my first model predication for only one building has accurcy  97.27 %\n"
     ]
    }
   ],
   "source": [
    "print(\"my first model predication for only one building has accurcy \",round((df_full_anomaly[df_full_anomaly['anomaly'] == df_full_anomaly['Anomaly']].shape[0]/df.shape[0])*100,2),\"%\")"
   ]
  },
  {
   "cell_type": "markdown",
   "id": "a3d6eaaa",
   "metadata": {
    "papermill": {
     "duration": 0.190839,
     "end_time": "2022-05-15T16:36:42.018170",
     "exception": false,
     "start_time": "2022-05-15T16:36:41.827331",
     "status": "completed"
    },
    "tags": []
   },
   "source": [
    "<h3> 3- Anomly based on Machine learning Predication.</h3>\n",
    "<a id=\"m3\"></a>"
   ]
  },
  {
   "cell_type": "code",
   "execution_count": 83,
   "id": "89aee9cc",
   "metadata": {
    "execution": {
     "iopub.execute_input": "2022-05-15T16:36:42.394379Z",
     "iopub.status.busy": "2022-05-15T16:36:42.394127Z",
     "iopub.status.idle": "2022-05-15T16:36:42.407424Z",
     "shell.execute_reply": "2022-05-15T16:36:42.406788Z"
    },
    "papermill": {
     "duration": 0.204281,
     "end_time": "2022-05-15T16:36:42.409385",
     "exception": false,
     "start_time": "2022-05-15T16:36:42.205104",
     "status": "completed"
    },
    "tags": []
   },
   "outputs": [],
   "source": [
    "# Load libraries\n",
    "\n",
    "from pandas import set_option\n",
    "from pandas.plotting import scatter_matrix\n",
    "\n",
    "from sklearn.preprocessing import StandardScaler\n",
    "\n",
    "from sklearn.model_selection import train_test_split\n",
    "from sklearn.model_selection import KFold\n",
    "from sklearn.model_selection import StratifiedKFold\n",
    "from sklearn.model_selection import cross_val_score\n",
    "from sklearn.model_selection import GridSearchCV\n",
    "\n",
    "from sklearn.metrics import classification_report\n",
    "from sklearn.metrics import f1_score\n",
    "from sklearn.metrics import confusion_matrix\n",
    "from sklearn.metrics import accuracy_score\n",
    "\n",
    "from sklearn.pipeline import Pipeline\n",
    "from sklearn.linear_model import LogisticRegression\n",
    "from sklearn.tree import DecisionTreeClassifier\n",
    "from sklearn.neighbors import KNeighborsClassifier\n",
    "from sklearn.discriminant_analysis import LinearDiscriminantAnalysis\n",
    "from sklearn.naive_bayes import GaussianNB\n",
    "from sklearn.svm import SVC\n",
    "from sklearn.ensemble import AdaBoostClassifier\n",
    "from sklearn.ensemble import GradientBoostingClassifier\n",
    "from sklearn.ensemble import RandomForestClassifier\n",
    "from sklearn.ensemble import ExtraTreesClassifier\n",
    "\n",
    "SEED = 7\n",
    "np.random.seed(SEED)"
   ]
  },
  {
   "cell_type": "code",
   "execution_count": 84,
   "id": "087de1f8",
   "metadata": {
    "execution": {
     "iopub.execute_input": "2022-05-15T16:36:42.786945Z",
     "iopub.status.busy": "2022-05-15T16:36:42.786449Z",
     "iopub.status.idle": "2022-05-15T16:37:17.522640Z",
     "shell.execute_reply": "2022-05-15T16:37:17.521255Z"
    },
    "papermill": {
     "duration": 34.92968,
     "end_time": "2022-05-15T16:37:17.527908",
     "exception": false,
     "start_time": "2022-05-15T16:36:42.598228",
     "status": "completed"
    },
    "tags": []
   },
   "outputs": [],
   "source": [
    "train = pd.read_csv('../input/energy-anomaly-detection/train_features.csv')\n",
    "test = pd.read_csv('../input/energy-anomaly-detection/test_features.csv')\n",
    "\n",
    "#take sample to test the code quickly\n",
    "# train = train.iloc[:train.shape[0]//1500,:]\n",
    "# test = test.iloc[:test.shape[0]//1500,:]\n"
   ]
  },
  {
   "cell_type": "code",
   "execution_count": 85,
   "id": "4da83538",
   "metadata": {
    "execution": {
     "iopub.execute_input": "2022-05-15T16:37:17.917096Z",
     "iopub.status.busy": "2022-05-15T16:37:17.916737Z",
     "iopub.status.idle": "2022-05-15T16:37:17.947098Z",
     "shell.execute_reply": "2022-05-15T16:37:17.946271Z"
    },
    "papermill": {
     "duration": 0.223338,
     "end_time": "2022-05-15T16:37:17.948924",
     "exception": false,
     "start_time": "2022-05-15T16:37:17.725586",
     "status": "completed"
    },
    "tags": []
   },
   "outputs": [
    {
     "data": {
      "text/html": [
       "<div>\n",
       "<style scoped>\n",
       "    .dataframe tbody tr th:only-of-type {\n",
       "        vertical-align: middle;\n",
       "    }\n",
       "\n",
       "    .dataframe tbody tr th {\n",
       "        vertical-align: top;\n",
       "    }\n",
       "\n",
       "    .dataframe thead th {\n",
       "        text-align: right;\n",
       "    }\n",
       "</style>\n",
       "<table border=\"1\" class=\"dataframe\">\n",
       "  <thead>\n",
       "    <tr style=\"text-align: right;\">\n",
       "      <th></th>\n",
       "      <th>building_id</th>\n",
       "      <th>timestamp</th>\n",
       "      <th>meter_reading</th>\n",
       "      <th>anomaly</th>\n",
       "      <th>site_id</th>\n",
       "      <th>primary_use</th>\n",
       "      <th>square_feet</th>\n",
       "      <th>year_built</th>\n",
       "      <th>floor_count</th>\n",
       "      <th>air_temperature</th>\n",
       "      <th>...</th>\n",
       "      <th>gte_meter</th>\n",
       "      <th>gte_meter_hour</th>\n",
       "      <th>gte_meter_weekday</th>\n",
       "      <th>gte_meter_month</th>\n",
       "      <th>gte_meter_building_id</th>\n",
       "      <th>gte_meter_primary_use</th>\n",
       "      <th>gte_meter_site_id</th>\n",
       "      <th>gte_meter_building_id_hour</th>\n",
       "      <th>gte_meter_building_id_weekday</th>\n",
       "      <th>gte_meter_building_id_month</th>\n",
       "    </tr>\n",
       "  </thead>\n",
       "  <tbody>\n",
       "    <tr>\n",
       "      <th>0</th>\n",
       "      <td>1</td>\n",
       "      <td>2016-01-01 00:00:00</td>\n",
       "      <td>NaN</td>\n",
       "      <td>0</td>\n",
       "      <td>0</td>\n",
       "      <td>Education</td>\n",
       "      <td>2720</td>\n",
       "      <td>104</td>\n",
       "      <td>0</td>\n",
       "      <td>19.4</td>\n",
       "      <td>...</td>\n",
       "      <td>4.116</td>\n",
       "      <td>3.981</td>\n",
       "      <td>4.146</td>\n",
       "      <td>4.12</td>\n",
       "      <td>3.569</td>\n",
       "      <td>4.489</td>\n",
       "      <td>4.079</td>\n",
       "      <td>3.554</td>\n",
       "      <td>3.538</td>\n",
       "      <td>3.845</td>\n",
       "    </tr>\n",
       "    <tr>\n",
       "      <th>1</th>\n",
       "      <td>32</td>\n",
       "      <td>2016-01-01 00:00:00</td>\n",
       "      <td>NaN</td>\n",
       "      <td>0</td>\n",
       "      <td>0</td>\n",
       "      <td>Office</td>\n",
       "      <td>48392</td>\n",
       "      <td>105</td>\n",
       "      <td>0</td>\n",
       "      <td>19.4</td>\n",
       "      <td>...</td>\n",
       "      <td>4.116</td>\n",
       "      <td>3.981</td>\n",
       "      <td>4.146</td>\n",
       "      <td>4.12</td>\n",
       "      <td>4.513</td>\n",
       "      <td>4.211</td>\n",
       "      <td>4.079</td>\n",
       "      <td>4.128</td>\n",
       "      <td>4.579</td>\n",
       "      <td>4.317</td>\n",
       "    </tr>\n",
       "    <tr>\n",
       "      <th>2</th>\n",
       "      <td>41</td>\n",
       "      <td>2016-01-01 00:00:00</td>\n",
       "      <td>NaN</td>\n",
       "      <td>0</td>\n",
       "      <td>0</td>\n",
       "      <td>Office</td>\n",
       "      <td>93860</td>\n",
       "      <td>68</td>\n",
       "      <td>0</td>\n",
       "      <td>19.4</td>\n",
       "      <td>...</td>\n",
       "      <td>4.116</td>\n",
       "      <td>3.981</td>\n",
       "      <td>4.146</td>\n",
       "      <td>4.12</td>\n",
       "      <td>4.108</td>\n",
       "      <td>4.211</td>\n",
       "      <td>4.079</td>\n",
       "      <td>4.103</td>\n",
       "      <td>4.140</td>\n",
       "      <td>4.114</td>\n",
       "    </tr>\n",
       "    <tr>\n",
       "      <th>3</th>\n",
       "      <td>55</td>\n",
       "      <td>2016-01-01 00:00:00</td>\n",
       "      <td>NaN</td>\n",
       "      <td>0</td>\n",
       "      <td>0</td>\n",
       "      <td>Office</td>\n",
       "      <td>16726</td>\n",
       "      <td>111</td>\n",
       "      <td>0</td>\n",
       "      <td>19.4</td>\n",
       "      <td>...</td>\n",
       "      <td>4.116</td>\n",
       "      <td>3.981</td>\n",
       "      <td>4.146</td>\n",
       "      <td>4.12</td>\n",
       "      <td>3.506</td>\n",
       "      <td>4.211</td>\n",
       "      <td>4.079</td>\n",
       "      <td>3.308</td>\n",
       "      <td>3.565</td>\n",
       "      <td>3.813</td>\n",
       "    </tr>\n",
       "    <tr>\n",
       "      <th>4</th>\n",
       "      <td>69</td>\n",
       "      <td>2016-01-01 00:00:00</td>\n",
       "      <td>NaN</td>\n",
       "      <td>0</td>\n",
       "      <td>0</td>\n",
       "      <td>Parking</td>\n",
       "      <td>387638</td>\n",
       "      <td>100</td>\n",
       "      <td>0</td>\n",
       "      <td>19.4</td>\n",
       "      <td>...</td>\n",
       "      <td>4.116</td>\n",
       "      <td>3.981</td>\n",
       "      <td>4.146</td>\n",
       "      <td>4.12</td>\n",
       "      <td>3.035</td>\n",
       "      <td>3.623</td>\n",
       "      <td>4.079</td>\n",
       "      <td>3.892</td>\n",
       "      <td>3.090</td>\n",
       "      <td>3.577</td>\n",
       "    </tr>\n",
       "  </tbody>\n",
       "</table>\n",
       "<p>5 rows × 57 columns</p>\n",
       "</div>"
      ],
      "text/plain": [
       "   building_id            timestamp  meter_reading  anomaly  site_id  \\\n",
       "0            1  2016-01-01 00:00:00            NaN        0        0   \n",
       "1           32  2016-01-01 00:00:00            NaN        0        0   \n",
       "2           41  2016-01-01 00:00:00            NaN        0        0   \n",
       "3           55  2016-01-01 00:00:00            NaN        0        0   \n",
       "4           69  2016-01-01 00:00:00            NaN        0        0   \n",
       "\n",
       "  primary_use  square_feet  year_built  floor_count  air_temperature  ...  \\\n",
       "0   Education         2720         104            0             19.4  ...   \n",
       "1      Office        48392         105            0             19.4  ...   \n",
       "2      Office        93860          68            0             19.4  ...   \n",
       "3      Office        16726         111            0             19.4  ...   \n",
       "4     Parking       387638         100            0             19.4  ...   \n",
       "\n",
       "   gte_meter  gte_meter_hour  gte_meter_weekday  gte_meter_month  \\\n",
       "0      4.116           3.981              4.146             4.12   \n",
       "1      4.116           3.981              4.146             4.12   \n",
       "2      4.116           3.981              4.146             4.12   \n",
       "3      4.116           3.981              4.146             4.12   \n",
       "4      4.116           3.981              4.146             4.12   \n",
       "\n",
       "   gte_meter_building_id  gte_meter_primary_use  gte_meter_site_id  \\\n",
       "0                  3.569                  4.489              4.079   \n",
       "1                  4.513                  4.211              4.079   \n",
       "2                  4.108                  4.211              4.079   \n",
       "3                  3.506                  4.211              4.079   \n",
       "4                  3.035                  3.623              4.079   \n",
       "\n",
       "   gte_meter_building_id_hour  gte_meter_building_id_weekday  \\\n",
       "0                       3.554                          3.538   \n",
       "1                       4.128                          4.579   \n",
       "2                       4.103                          4.140   \n",
       "3                       3.308                          3.565   \n",
       "4                       3.892                          3.090   \n",
       "\n",
       "   gte_meter_building_id_month  \n",
       "0                        3.845  \n",
       "1                        4.317  \n",
       "2                        4.114  \n",
       "3                        3.813  \n",
       "4                        3.577  \n",
       "\n",
       "[5 rows x 57 columns]"
      ]
     },
     "execution_count": 85,
     "metadata": {},
     "output_type": "execute_result"
    }
   ],
   "source": [
    "train.head()"
   ]
  },
  {
   "cell_type": "code",
   "execution_count": 86,
   "id": "0cabb88a",
   "metadata": {
    "execution": {
     "iopub.execute_input": "2022-05-15T16:37:18.326978Z",
     "iopub.status.busy": "2022-05-15T16:37:18.326002Z",
     "iopub.status.idle": "2022-05-15T16:37:18.332272Z",
     "shell.execute_reply": "2022-05-15T16:37:18.331395Z"
    },
    "papermill": {
     "duration": 0.197251,
     "end_time": "2022-05-15T16:37:18.334235",
     "exception": false,
     "start_time": "2022-05-15T16:37:18.136984",
     "status": "completed"
    },
    "tags": []
   },
   "outputs": [
    {
     "data": {
      "text/plain": [
       "(1749494, 57)"
      ]
     },
     "execution_count": 86,
     "metadata": {},
     "output_type": "execute_result"
    }
   ],
   "source": [
    "train.shape"
   ]
  },
  {
   "cell_type": "markdown",
   "id": "32cc48f6",
   "metadata": {
    "papermill": {
     "duration": 0.191118,
     "end_time": "2022-05-15T16:37:18.715098",
     "exception": false,
     "start_time": "2022-05-15T16:37:18.523980",
     "status": "completed"
    },
    "tags": []
   },
   "source": [
    "### Feature Engineering"
   ]
  },
  {
   "cell_type": "markdown",
   "id": "f59783ff",
   "metadata": {
    "papermill": {
     "duration": 0.191189,
     "end_time": "2022-05-15T16:37:19.097370",
     "exception": false,
     "start_time": "2022-05-15T16:37:18.906181",
     "status": "completed"
    },
    "tags": []
   },
   "source": [
    "take only important features"
   ]
  },
  {
   "cell_type": "code",
   "execution_count": 87,
   "id": "a5c93b1c",
   "metadata": {
    "execution": {
     "iopub.execute_input": "2022-05-15T16:37:19.482980Z",
     "iopub.status.busy": "2022-05-15T16:37:19.482665Z",
     "iopub.status.idle": "2022-05-15T16:37:19.489257Z",
     "shell.execute_reply": "2022-05-15T16:37:19.488411Z"
    },
    "papermill": {
     "duration": 0.200591,
     "end_time": "2022-05-15T16:37:19.491237",
     "exception": false,
     "start_time": "2022-05-15T16:37:19.290646",
     "status": "completed"
    },
    "tags": []
   },
   "outputs": [
    {
     "data": {
      "text/plain": [
       "Index(['building_id', 'timestamp', 'meter_reading', 'anomaly', 'site_id',\n",
       "       'primary_use', 'square_feet', 'year_built', 'floor_count',\n",
       "       'air_temperature', 'cloud_coverage', 'dew_temperature',\n",
       "       'precip_depth_1_hr', 'sea_level_pressure', 'wind_direction',\n",
       "       'wind_speed', 'air_temperature_mean_lag7', 'air_temperature_max_lag7',\n",
       "       'air_temperature_min_lag7', 'air_temperature_std_lag7',\n",
       "       'air_temperature_mean_lag73', 'air_temperature_max_lag73',\n",
       "       'air_temperature_min_lag73', 'air_temperature_std_lag73', 'hour',\n",
       "       'weekday', 'month', 'year', 'weekday_hour', 'hour_x', 'hour_y',\n",
       "       'month_x', 'month_y', 'weekday_x', 'weekday_y', 'building_weekday_hour',\n",
       "       'building_weekday', 'building_month', 'building_hour', 'building_meter',\n",
       "       'is_holiday', 'gte_hour', 'gte_weekday', 'gte_month', 'gte_building_id',\n",
       "       'gte_primary_use', 'gte_site_id', 'gte_meter', 'gte_meter_hour',\n",
       "       'gte_meter_weekday', 'gte_meter_month', 'gte_meter_building_id',\n",
       "       'gte_meter_primary_use', 'gte_meter_site_id',\n",
       "       'gte_meter_building_id_hour', 'gte_meter_building_id_weekday',\n",
       "       'gte_meter_building_id_month'],\n",
       "      dtype='object')"
      ]
     },
     "execution_count": 87,
     "metadata": {},
     "output_type": "execute_result"
    }
   ],
   "source": [
    "train.columns"
   ]
  },
  {
   "cell_type": "code",
   "execution_count": 88,
   "id": "b1c5727a",
   "metadata": {
    "execution": {
     "iopub.execute_input": "2022-05-15T16:37:19.874064Z",
     "iopub.status.busy": "2022-05-15T16:37:19.873797Z",
     "iopub.status.idle": "2022-05-15T16:37:20.096014Z",
     "shell.execute_reply": "2022-05-15T16:37:20.095185Z"
    },
    "papermill": {
     "duration": 0.415605,
     "end_time": "2022-05-15T16:37:20.098038",
     "exception": false,
     "start_time": "2022-05-15T16:37:19.682433",
     "status": "completed"
    },
    "tags": []
   },
   "outputs": [],
   "source": [
    "train = train[['building_id', 'meter_reading', 'square_feet',\n",
    "       'year_built', 'floor_count','air_temperature', 'dew_temperature',\n",
    "       'precip_depth_1_hr', 'sea_level_pressure','is_holiday','anomaly']]\n",
    "\n",
    "test = test[['building_id',  'meter_reading','square_feet',\n",
    "       'year_built', 'floor_count','air_temperature', 'dew_temperature',\n",
    "       'precip_depth_1_hr', 'sea_level_pressure','is_holiday']]"
   ]
  },
  {
   "cell_type": "code",
   "execution_count": 89,
   "id": "2387c853",
   "metadata": {
    "execution": {
     "iopub.execute_input": "2022-05-15T16:37:20.480298Z",
     "iopub.status.busy": "2022-05-15T16:37:20.479805Z",
     "iopub.status.idle": "2022-05-15T16:37:22.077227Z",
     "shell.execute_reply": "2022-05-15T16:37:22.076281Z"
    },
    "papermill": {
     "duration": 1.793402,
     "end_time": "2022-05-15T16:37:22.079396",
     "exception": false,
     "start_time": "2022-05-15T16:37:20.285994",
     "status": "completed"
    },
    "tags": []
   },
   "outputs": [
    {
     "data": {
      "image/png": "[encoded data removed]",
      "text/plain": [
       "<Figure size 720x720 with 2 Axes>"
      ]
     },
     "metadata": {
      "needs_background": "light"
     },
     "output_type": "display_data"
    }
   ],
   "source": [
    "def HeatMap(df,x=True):\n",
    "        correlations = df.corr()\n",
    "        ## Create color map ranging between two colors\n",
    "        cmap = sns.diverging_palette(220, 10, as_cmap=True)\n",
    "        fig, ax = plt.subplots(figsize=(10, 10))\n",
    "        fig = sns.heatmap(correlations, cmap=cmap, vmax=1.0, center=0, fmt='.2f',square=True, linewidths=.5, annot=x, cbar_kws={\"shrink\": .75})\n",
    "        fig.set_xticklabels(fig.get_xticklabels(), rotation = 90, fontsize = 10)\n",
    "        fig.set_yticklabels(fig.get_yticklabels(), rotation = 0, fontsize = 10)\n",
    "        plt.tight_layout()\n",
    "        plt.show()\n",
    "\n",
    "HeatMap(train,x=True)"
   ]
  },
  {
   "cell_type": "markdown",
   "id": "73aa0ae7",
   "metadata": {
    "papermill": {
     "duration": 0.192271,
     "end_time": "2022-05-15T16:37:22.464459",
     "exception": false,
     "start_time": "2022-05-15T16:37:22.272188",
     "status": "completed"
    },
    "tags": []
   },
   "source": [
    " There is no highly corrolated feature in the data set to remove it."
   ]
  },
  {
   "cell_type": "markdown",
   "id": "db636cee",
   "metadata": {
    "papermill": {
     "duration": 0.190495,
     "end_time": "2022-05-15T16:37:22.846621",
     "exception": false,
     "start_time": "2022-05-15T16:37:22.656126",
     "status": "completed"
    },
    "tags": []
   },
   "source": [
    "there is a problem with missing values so i will try to handel it."
   ]
  },
  {
   "cell_type": "code",
   "execution_count": 90,
   "id": "2dacf2e6",
   "metadata": {
    "execution": {
     "iopub.execute_input": "2022-05-15T16:37:23.232841Z",
     "iopub.status.busy": "2022-05-15T16:37:23.232316Z",
     "iopub.status.idle": "2022-05-15T16:37:23.268591Z",
     "shell.execute_reply": "2022-05-15T16:37:23.267958Z"
    },
    "papermill": {
     "duration": 0.231671,
     "end_time": "2022-05-15T16:37:23.270807",
     "exception": false,
     "start_time": "2022-05-15T16:37:23.039136",
     "status": "completed"
    },
    "tags": []
   },
   "outputs": [
    {
     "name": "stdout",
     "output_type": "stream",
     "text": [
      "meter_reading    107653\n",
      "dtype: int64\n"
     ]
    }
   ],
   "source": [
    "missing_val_count_by_column = (train.isnull().sum())\n",
    "print(missing_val_count_by_column[missing_val_count_by_column > 0])"
   ]
  },
  {
   "cell_type": "code",
   "execution_count": 91,
   "id": "942c98ec",
   "metadata": {
    "execution": {
     "iopub.execute_input": "2022-05-15T16:37:23.662515Z",
     "iopub.status.busy": "2022-05-15T16:37:23.662239Z",
     "iopub.status.idle": "2022-05-15T16:37:23.719776Z",
     "shell.execute_reply": "2022-05-15T16:37:23.719134Z"
    },
    "papermill": {
     "duration": 0.253135,
     "end_time": "2022-05-15T16:37:23.721520",
     "exception": false,
     "start_time": "2022-05-15T16:37:23.468385",
     "status": "completed"
    },
    "tags": []
   },
   "outputs": [
    {
     "name": "stdout",
     "output_type": "stream",
     "text": [
      "meter_reading    0\n",
      "dtype: int64\n"
     ]
    }
   ],
   "source": [
    "\n",
    "from sklearn.impute import SimpleImputer\n",
    "\n",
    "my_imputer = SimpleImputer()\n",
    "df_clean = my_imputer.fit_transform(train.iloc[:,1:2])\n",
    "df_name =train.iloc[:,1:2].columns\n",
    "df_clean = pd.DataFrame(df_clean,columns = df_name)\n",
    "\n",
    "missing_val_count_by_column = (df_clean.isnull().sum())\n",
    "print(missing_val_count_by_column)"
   ]
  },
  {
   "cell_type": "code",
   "execution_count": 92,
   "id": "c2f3eef3",
   "metadata": {
    "execution": {
     "iopub.execute_input": "2022-05-15T16:37:24.112959Z",
     "iopub.status.busy": "2022-05-15T16:37:24.112404Z",
     "iopub.status.idle": "2022-05-15T16:37:24.122829Z",
     "shell.execute_reply": "2022-05-15T16:37:24.122166Z"
    },
    "papermill": {
     "duration": 0.208682,
     "end_time": "2022-05-15T16:37:24.125017",
     "exception": false,
     "start_time": "2022-05-15T16:37:23.916335",
     "status": "completed"
    },
    "tags": []
   },
   "outputs": [],
   "source": [
    "train[\"meter_reading\"] = df_clean[\"meter_reading\"]"
   ]
  },
  {
   "cell_type": "code",
   "execution_count": 93,
   "id": "2d76d730",
   "metadata": {
    "execution": {
     "iopub.execute_input": "2022-05-15T16:37:24.531323Z",
     "iopub.status.busy": "2022-05-15T16:37:24.530421Z",
     "iopub.status.idle": "2022-05-15T16:37:24.566682Z",
     "shell.execute_reply": "2022-05-15T16:37:24.565553Z"
    },
    "papermill": {
     "duration": 0.251538,
     "end_time": "2022-05-15T16:37:24.568695",
     "exception": false,
     "start_time": "2022-05-15T16:37:24.317157",
     "status": "completed"
    },
    "tags": []
   },
   "outputs": [
    {
     "name": "stdout",
     "output_type": "stream",
     "text": [
      "meter_reading    94864\n",
      "dtype: int64\n"
     ]
    }
   ],
   "source": [
    "missing_val_count_by_column = (test.isnull().sum())\n",
    "print(missing_val_count_by_column[missing_val_count_by_column > 0])"
   ]
  },
  {
   "cell_type": "code",
   "execution_count": 94,
   "id": "86a71e5c",
   "metadata": {
    "execution": {
     "iopub.execute_input": "2022-05-15T16:37:24.970484Z",
     "iopub.status.busy": "2022-05-15T16:37:24.969580Z",
     "iopub.status.idle": "2022-05-15T16:37:25.027421Z",
     "shell.execute_reply": "2022-05-15T16:37:25.026213Z"
    },
    "papermill": {
     "duration": 0.257404,
     "end_time": "2022-05-15T16:37:25.029353",
     "exception": false,
     "start_time": "2022-05-15T16:37:24.771949",
     "status": "completed"
    },
    "tags": []
   },
   "outputs": [
    {
     "name": "stdout",
     "output_type": "stream",
     "text": [
      "meter_reading    0\n",
      "dtype: int64\n"
     ]
    }
   ],
   "source": [
    "from sklearn.impute import SimpleImputer\n",
    "\n",
    "my_imputer = SimpleImputer()\n",
    "df_clean = my_imputer.fit_transform(test.iloc[:,1:2])\n",
    "df_name =test.iloc[:,1:2].columns\n",
    "df_clean = pd.DataFrame(df_clean,columns = df_name)\n",
    "\n",
    "missing_val_count_by_column = (df_clean.isnull().sum())\n",
    "print(missing_val_count_by_column)"
   ]
  },
  {
   "cell_type": "code",
   "execution_count": 95,
   "id": "884c2b11",
   "metadata": {
    "execution": {
     "iopub.execute_input": "2022-05-15T16:37:25.415034Z",
     "iopub.status.busy": "2022-05-15T16:37:25.414583Z",
     "iopub.status.idle": "2022-05-15T16:37:25.425274Z",
     "shell.execute_reply": "2022-05-15T16:37:25.424675Z"
    },
    "papermill": {
     "duration": 0.206925,
     "end_time": "2022-05-15T16:37:25.427200",
     "exception": false,
     "start_time": "2022-05-15T16:37:25.220275",
     "status": "completed"
    },
    "tags": []
   },
   "outputs": [],
   "source": [
    "test[\"meter_reading\"] = df_clean[\"meter_reading\"]"
   ]
  },
  {
   "cell_type": "markdown",
   "id": "f1a17e66",
   "metadata": {
    "papermill": {
     "duration": 0.192517,
     "end_time": "2022-05-15T16:37:25.813046",
     "exception": false,
     "start_time": "2022-05-15T16:37:25.620529",
     "status": "completed"
    },
    "tags": []
   },
   "source": [
    "### Modeling"
   ]
  },
  {
   "cell_type": "code",
   "execution_count": 96,
   "id": "1d331d10",
   "metadata": {
    "execution": {
     "iopub.execute_input": "2022-05-15T16:37:26.201191Z",
     "iopub.status.busy": "2022-05-15T16:37:26.200917Z",
     "iopub.status.idle": "2022-05-15T16:37:33.855799Z",
     "shell.execute_reply": "2022-05-15T16:37:33.854903Z"
    },
    "papermill": {
     "duration": 7.85129,
     "end_time": "2022-05-15T16:37:33.858194",
     "exception": false,
     "start_time": "2022-05-15T16:37:26.006904",
     "status": "completed"
    },
    "tags": []
   },
   "outputs": [],
   "source": [
    "y = train[['anomaly']]\n",
    "X = train.drop(['anomaly'], axis = 1)\n",
    "\n",
    "X_train, X_test, y_train, y_test =train_test_split(X,y,\n",
    "                                                   test_size=0.25,\n",
    "                                                   random_state=0,\n",
    "                                                   stratify=y)"
   ]
  },
  {
   "cell_type": "code",
   "execution_count": 97,
   "id": "9934afdd",
   "metadata": {
    "execution": {
     "iopub.execute_input": "2022-05-15T16:37:34.246927Z",
     "iopub.status.busy": "2022-05-15T16:37:34.246419Z",
     "iopub.status.idle": "2022-05-15T16:37:34.257635Z",
     "shell.execute_reply": "2022-05-15T16:37:34.256780Z"
    },
    "papermill": {
     "duration": 0.207889,
     "end_time": "2022-05-15T16:37:34.259821",
     "exception": false,
     "start_time": "2022-05-15T16:37:34.051932",
     "status": "completed"
    },
    "tags": []
   },
   "outputs": [],
   "source": [
    "from sklearn.model_selection import GridSearchCV, RandomizedSearchCV\n",
    "from scipy.stats import uniform\n",
    "\n",
    "class GridSearch(object):\n",
    "    \n",
    "    def __init__(self,X_train,y_train,model,hyperparameters):\n",
    "        \n",
    "        self.X_train = X_train\n",
    "        self.y_train = y_train\n",
    "        self.model = model\n",
    "        self.hyperparameters = hyperparameters\n",
    "        \n",
    "    def GridSearch(self):\n",
    "        cv = 10\n",
    "        clf = GridSearchCV(self.model,\n",
    "                                 self.hyperparameters,\n",
    "                                 cv=cv,\n",
    "                                 verbose=0,\n",
    "                                 n_jobs=-1,\n",
    "                                 )\n",
    "        # Fit randomized search\n",
    "        best_model = clf.fit(self.X_train, self.y_train.values.ravel())\n",
    "        message = (best_model.best_score_, best_model.best_params_)\n",
    "        print(\"Best: %f using %s\" % (message))\n",
    "\n",
    "        return best_model,best_model.best_params_\n",
    "    \n",
    "    def BestModelPridict(self,X_test):\n",
    "        \n",
    "        best_model,_ = self.GridSearch()\n",
    "        pred = best_model.predict(X_test)\n",
    "        return pred\n",
    "    \n",
    "\n",
    "    \n",
    "class RandomSearch(object):\n",
    "    \n",
    "    def __init__(self,X_train,y_train,model,hyperparameters):\n",
    "        \n",
    "        self.X_train = X_train\n",
    "        self.y_train = y_train\n",
    "        self.model = model\n",
    "        self.hyperparameters = hyperparameters\n",
    "        \n",
    "    def RandomSearch(self):\n",
    "        # Create randomized search 10-fold cross validation and 100 iterations\n",
    "        cv = 10\n",
    "        clf = RandomizedSearchCV(self.model,\n",
    "                                 self.hyperparameters,\n",
    "                                 random_state=1,\n",
    "                                 n_iter=100,\n",
    "                                 cv=cv,\n",
    "                                 verbose=0,\n",
    "                                 n_jobs=-1,\n",
    "                                 )\n",
    "        # Fit randomized search\n",
    "        best_model = clf.fit(self.X_train, self.y_train.values.ravel())\n",
    "        message = (best_model.best_score_, best_model.best_params_)\n",
    "        print(\"Best: %f using %s\" % (message))\n",
    "\n",
    "        return best_model,best_model.best_params_\n",
    "    \n",
    "    def BestModelPridict(self,X_test):\n",
    "        \n",
    "        best_model,_ = self.RandomSearch()\n",
    "        pred = best_model.predict(X_test)\n",
    "        return pred"
   ]
  },
  {
   "cell_type": "code",
   "execution_count": 98,
   "id": "9a1fbca7",
   "metadata": {
    "execution": {
     "iopub.execute_input": "2022-05-15T16:37:34.652511Z",
     "iopub.status.busy": "2022-05-15T16:37:34.652220Z",
     "iopub.status.idle": "2022-05-15T16:52:52.379094Z",
     "shell.execute_reply": "2022-05-15T16:52:52.378028Z"
    },
    "papermill": {
     "duration": 917.924489,
     "end_time": "2022-05-15T16:52:52.382088",
     "exception": false,
     "start_time": "2022-05-15T16:37:34.457599",
     "status": "completed"
    },
    "tags": []
   },
   "outputs": [
    {
     "name": "stdout",
     "output_type": "stream",
     "text": [
      "Best: 0.991930 using {'n_neighbors': 2}\n"
     ]
    }
   ],
   "source": [
    "model_KNN = KNeighborsClassifier()\n",
    "\n",
    "neighbors = [1,2,3,4,5,6,7,8,9]\n",
    "param_grid = dict(n_neighbors=neighbors)\n",
    "\n",
    "KNN_GridSearch = GridSearch(X_train,y_train,model_KNN,param_grid)\n",
    "Prediction_KNN = KNN_GridSearch.BestModelPridict(test)"
   ]
  },
  {
   "cell_type": "code",
   "execution_count": 99,
   "id": "fce2f476",
   "metadata": {
    "execution": {
     "iopub.execute_input": "2022-05-15T16:52:52.777974Z",
     "iopub.status.busy": "2022-05-15T16:52:52.777679Z",
     "iopub.status.idle": "2022-05-15T16:52:52.822672Z",
     "shell.execute_reply": "2022-05-15T16:52:52.821641Z"
    },
    "papermill": {
     "duration": 0.246713,
     "end_time": "2022-05-15T16:52:52.824896",
     "exception": false,
     "start_time": "2022-05-15T16:52:52.578183",
     "status": "completed"
    },
    "tags": []
   },
   "outputs": [
    {
     "data": {
      "text/plain": [
       "anomaly\n",
       "0          1548300\n",
       "1           252267\n",
       "dtype: int64"
      ]
     },
     "execution_count": 99,
     "metadata": {},
     "output_type": "execute_result"
    }
   ],
   "source": [
    "Prediction_KNN = pd.DataFrame(data=Prediction_KNN, columns=[\"anomaly\"])\n",
    "Prediction_KNN.value_counts()"
   ]
  },
  {
   "cell_type": "code",
   "execution_count": 100,
   "id": "a78f6d7a",
   "metadata": {
    "execution": {
     "iopub.execute_input": "2022-05-15T16:52:53.228253Z",
     "iopub.status.busy": "2022-05-15T16:52:53.227598Z",
     "iopub.status.idle": "2022-05-15T16:57:27.057128Z",
     "shell.execute_reply": "2022-05-15T16:57:27.056197Z"
    },
    "papermill": {
     "duration": 274.125694,
     "end_time": "2022-05-15T16:57:27.149218",
     "exception": false,
     "start_time": "2022-05-15T16:52:53.023524",
     "status": "completed"
    },
    "tags": []
   },
   "outputs": [
    {
     "name": "stdout",
     "output_type": "stream",
     "text": [
      "Best: 0.991404 using {'criterion': 'gini', 'max_depth': None, 'max_features': 3, 'min_samples_leaf': 2}\n"
     ]
    }
   ],
   "source": [
    "from scipy.stats import randint\n",
    "max_depth_value = [3, None]\n",
    "max_features_value =  [1,2,3]\n",
    "min_samples_leaf_value = [1,2,3]\n",
    "criterion_value = [\"gini\", \"entropy\"]\n",
    "\n",
    "\n",
    "param_grid = dict(max_depth = max_depth_value,\n",
    "                  max_features = max_features_value,\n",
    "                  min_samples_leaf = min_samples_leaf_value,\n",
    "                  criterion = criterion_value)\n",
    "\n",
    "\n",
    "model_DT = DecisionTreeClassifier()\n",
    "DT_RandSearch = GridSearch(X_train,y_train,model_DT,param_grid)\n",
    "Prediction_DT = DT_RandSearch.BestModelPridict(test)"
   ]
  },
  {
   "cell_type": "code",
   "execution_count": 101,
   "id": "4174a06c",
   "metadata": {
    "execution": {
     "iopub.execute_input": "2022-05-15T16:57:27.540929Z",
     "iopub.status.busy": "2022-05-15T16:57:27.540397Z",
     "iopub.status.idle": "2022-05-15T16:57:27.579231Z",
     "shell.execute_reply": "2022-05-15T16:57:27.578706Z"
    },
    "papermill": {
     "duration": 0.236077,
     "end_time": "2022-05-15T16:57:27.580872",
     "exception": false,
     "start_time": "2022-05-15T16:57:27.344795",
     "status": "completed"
    },
    "tags": []
   },
   "outputs": [
    {
     "data": {
      "text/plain": [
       "anomaly\n",
       "0          1714205\n",
       "1            86362\n",
       "dtype: int64"
      ]
     },
     "execution_count": 101,
     "metadata": {},
     "output_type": "execute_result"
    }
   ],
   "source": [
    "Prediction_DT = pd.DataFrame(data=Prediction_DT, columns=[\"anomaly\"])\n",
    "Prediction_DT.value_counts()"
   ]
  },
  {
   "cell_type": "markdown",
   "id": "c1e853db",
   "metadata": {
    "papermill": {
     "duration": 0.19401,
     "end_time": "2022-05-15T16:57:27.968944",
     "exception": false,
     "start_time": "2022-05-15T16:57:27.774934",
     "status": "completed"
    },
    "tags": []
   },
   "source": [
    "### Ensemble method"
   ]
  },
  {
   "cell_type": "code",
   "execution_count": 102,
   "id": "958862d2",
   "metadata": {
    "execution": {
     "iopub.execute_input": "2022-05-15T16:57:28.362665Z",
     "iopub.status.busy": "2022-05-15T16:57:28.362074Z",
     "iopub.status.idle": "2022-05-15T16:57:28.367200Z",
     "shell.execute_reply": "2022-05-15T16:57:28.366643Z"
    },
    "papermill": {
     "duration": 0.203818,
     "end_time": "2022-05-15T16:57:28.368839",
     "exception": false,
     "start_time": "2022-05-15T16:57:28.165021",
     "status": "completed"
    },
    "tags": []
   },
   "outputs": [],
   "source": [
    "from sklearn.ensemble import VotingClassifier\n",
    "\n",
    "param = {'n_neighbors': 2}\n",
    "model1 = KNeighborsClassifier(**param)\n",
    "\n",
    "param = {'criterion': 'entropy', 'max_depth': None, 'max_features': 3, 'min_samples_leaf': 2}\n",
    "model2 = DecisionTreeClassifier(**param)\n",
    "\n",
    "model3 = ExtraTreesClassifier()\n",
    "\n",
    "estimators = [ ('KNN',model1),('DT',model2), ('ET',model3)]\n",
    "    "
   ]
  },
  {
   "cell_type": "code",
   "execution_count": 103,
   "id": "237a6be8",
   "metadata": {
    "execution": {
     "iopub.execute_input": "2022-05-15T16:57:28.756894Z",
     "iopub.status.busy": "2022-05-15T16:57:28.756457Z",
     "iopub.status.idle": "2022-05-15T17:37:18.471466Z",
     "shell.execute_reply": "2022-05-15T17:37:18.470102Z"
    },
    "papermill": {
     "duration": 2389.912575,
     "end_time": "2022-05-15T17:37:18.474264",
     "exception": false,
     "start_time": "2022-05-15T16:57:28.561689",
     "status": "completed"
    },
    "tags": []
   },
   "outputs": [
    {
     "name": "stdout",
     "output_type": "stream",
     "text": [
      "Accuracy on train:  0.9932\n"
     ]
    }
   ],
   "source": [
    "kfold = StratifiedKFold(n_splits=10,shuffle=True, random_state=SEED)\n",
    "ensemble = VotingClassifier(estimators)\n",
    "\n",
    "results = cross_val_score(ensemble, X_train,y_train, cv=kfold)\n",
    "print('Accuracy on train: ',round(results.mean(),4))\n",
    "\n",
    "ensemble_model = ensemble.fit(X,y)\n",
    "\n",
    "Prediction_EN = ensemble_model.predict(test)"
   ]
  },
  {
   "cell_type": "code",
   "execution_count": 104,
   "id": "3d1054aa",
   "metadata": {
    "execution": {
     "iopub.execute_input": "2022-05-15T17:37:18.865394Z",
     "iopub.status.busy": "2022-05-15T17:37:18.865103Z",
     "iopub.status.idle": "2022-05-15T17:37:18.912749Z",
     "shell.execute_reply": "2022-05-15T17:37:18.911912Z"
    },
    "papermill": {
     "duration": 0.24537,
     "end_time": "2022-05-15T17:37:18.914562",
     "exception": false,
     "start_time": "2022-05-15T17:37:18.669192",
     "status": "completed"
    },
    "tags": []
   },
   "outputs": [
    {
     "data": {
      "text/plain": [
       "anomaly\n",
       "0          1757028\n",
       "1            43539\n",
       "dtype: int64"
      ]
     },
     "execution_count": 104,
     "metadata": {},
     "output_type": "execute_result"
    }
   ],
   "source": [
    "Prediction_EN = pd.DataFrame(data=Prediction_EN, columns=[\"anomaly\"])\n",
    "Prediction_EN.value_counts()"
   ]
  },
  {
   "cell_type": "markdown",
   "id": "8a1848c3",
   "metadata": {
    "papermill": {
     "duration": 0.194506,
     "end_time": "2022-05-15T17:37:19.304811",
     "exception": false,
     "start_time": "2022-05-15T17:37:19.110305",
     "status": "completed"
    },
    "tags": []
   },
   "source": [
    "### Stacked model"
   ]
  },
  {
   "cell_type": "code",
   "execution_count": 105,
   "id": "d6f2ed23",
   "metadata": {
    "execution": {
     "iopub.execute_input": "2022-05-15T17:37:19.697157Z",
     "iopub.status.busy": "2022-05-15T17:37:19.696752Z",
     "iopub.status.idle": "2022-05-15T17:37:19.760370Z",
     "shell.execute_reply": "2022-05-15T17:37:19.759676Z"
    },
    "papermill": {
     "duration": 0.263503,
     "end_time": "2022-05-15T17:37:19.762551",
     "exception": false,
     "start_time": "2022-05-15T17:37:19.499048",
     "status": "completed"
    },
    "tags": []
   },
   "outputs": [],
   "source": [
    "from numpy import hstack\n",
    "from numpy import vstack\n",
    "from numpy import asarray\n",
    "from sklearn.datasets import make_blobs\n",
    "from sklearn.model_selection import KFold\n",
    "from sklearn.model_selection import train_test_split\n",
    "from sklearn.metrics import accuracy_score\n",
    "from sklearn.neighbors import KNeighborsClassifier\n",
    "from sklearn.linear_model import LogisticRegression\n",
    "from sklearn.tree import DecisionTreeClassifier\n",
    "from sklearn.svm import SVC\n",
    "from sklearn.naive_bayes import GaussianNB\n",
    "from sklearn.ensemble import AdaBoostClassifier\n",
    "from sklearn.ensemble import BaggingClassifier\n",
    "from sklearn.ensemble import RandomForestClassifier\n",
    "from sklearn.ensemble import ExtraTreesClassifier"
   ]
  },
  {
   "cell_type": "code",
   "execution_count": 106,
   "id": "b9e4966b",
   "metadata": {
    "execution": {
     "iopub.execute_input": "2022-05-15T17:37:20.160668Z",
     "iopub.status.busy": "2022-05-15T17:37:20.159471Z",
     "iopub.status.idle": "2022-05-15T17:37:20.172654Z",
     "shell.execute_reply": "2022-05-15T17:37:20.172028Z"
    },
    "papermill": {
     "duration": 0.216087,
     "end_time": "2022-05-15T17:37:20.174655",
     "exception": false,
     "start_time": "2022-05-15T17:37:19.958568",
     "status": "completed"
    },
    "tags": []
   },
   "outputs": [],
   "source": [
    "#  base-models\n",
    "def get_models():\n",
    "    models = list()\n",
    "#   models.append(LogisticRegression(solver='liblinear'))\n",
    "    models.append(DecisionTreeClassifier())\n",
    "#   models.append(SVC(gamma='scale', probability=True))\n",
    "#   models.append(GaussianNB())\n",
    "    models.append(KNeighborsClassifier())\n",
    "#   models.append(AdaBoostClassifier())\n",
    "    models.append(BaggingClassifier(n_estimators=10))\n",
    "    models.append(RandomForestClassifier(n_estimators=10))\n",
    "    models.append(ExtraTreesClassifier(n_estimators=10))\n",
    "    return models\n",
    "\n",
    "# collect out of fold predictions form k-fold cross validation\n",
    "def get_out_of_fold_predictions(X, y, models):\n",
    "    meta_X, meta_y = list(), list()\n",
    " \n",
    "    kfold = KFold(n_splits=10, shuffle=True)\n",
    "    # enumerate splits\n",
    "    for train_ix, test_ix in kfold.split(X):\n",
    "        fold_yhats = list()\n",
    "        # get data\n",
    "        train_X, test_X = X[train_ix], X[test_ix]\n",
    "        train_y, test_y = y[train_ix], y[test_ix]\n",
    "        meta_y.extend(test_y)\n",
    "        # fit and make predictions with each sub-model\n",
    "        for model in models:\n",
    "            model.fit(train_X, train_y)\n",
    "            yhat = model.predict_proba(test_X)\n",
    "            # store columns\n",
    "            fold_yhats.append(yhat)\n",
    "        # store fold yhats as columns\n",
    "        meta_X.append(hstack(fold_yhats))\n",
    "    return vstack(meta_X), asarray(meta_y)\n",
    "\n",
    "# fit all base models on the training dataset\n",
    "def fit_base_models(X, y, models):\n",
    "    for model in models:\n",
    "        model.fit(X, y)\n",
    "\n",
    "# fit a meta model\n",
    "def fit_meta_model(X, y):\n",
    "    model = RandomForestClassifier(n_estimators=10)\n",
    "    model.fit(X, y)\n",
    "    return model\n",
    "\n",
    "# evaluate a list of models on a dataset\n",
    "def evaluate_models(X, y, models):\n",
    "    for model in models:\n",
    "        yhat = model.predict(X)\n",
    "        acc = accuracy_score(y, yhat)\n",
    "        print('%s: %.3f' % (model.__class__.__name__, acc*100))\n",
    "\n",
    "# make predictions with stacked model\n",
    "def super_learner_predictions(X, models, meta_model):\n",
    "    meta_X = list()\n",
    "    for model in models:\n",
    "        yhat = model.predict_proba(X)\n",
    "        meta_X.append(yhat)\n",
    "    meta_X = hstack(meta_X)\n",
    "\n",
    "    return meta_model.predict(meta_X)"
   ]
  },
  {
   "cell_type": "code",
   "execution_count": 107,
   "id": "1165b3d0",
   "metadata": {
    "execution": {
     "iopub.execute_input": "2022-05-15T17:37:20.574417Z",
     "iopub.status.busy": "2022-05-15T17:37:20.573555Z",
     "iopub.status.idle": "2022-05-15T18:15:46.747638Z",
     "shell.execute_reply": "2022-05-15T18:15:46.745710Z"
    },
    "papermill": {
     "duration": 2306.577829,
     "end_time": "2022-05-15T18:15:46.948767",
     "exception": false,
     "start_time": "2022-05-15T17:37:20.370938",
     "status": "completed"
    },
    "tags": []
   },
   "outputs": [
    {
     "name": "stdout",
     "output_type": "stream",
     "text": [
      "DecisionTreeClassifier: 99.121\n",
      "KNeighborsClassifier: 99.165\n",
      "BaggingClassifier: 99.410\n",
      "RandomForestClassifier: 99.359\n",
      "ExtraTreesClassifier: 99.244\n",
      "====================================================================================================\n"
     ]
    }
   ],
   "source": [
    "models = get_models()\n",
    "\n",
    "meta_X, meta_y = get_out_of_fold_predictions(X_train.to_numpy(), y_train.to_numpy(), models)\n",
    "\n",
    "# fit base models\n",
    "fit_base_models(X_train, y_train, models)\n",
    "# fit the meta model\n",
    "meta_model = fit_meta_model(meta_X, meta_y)\n",
    "# evaluate base models\n",
    "evaluate_models(X_test, y_test, models)\n",
    "# evaluate meta model\n",
    "Prediction_ST = super_learner_predictions(test, models, meta_model)\n",
    "\n",
    "print(\"=\"*100)"
   ]
  },
  {
   "cell_type": "code",
   "execution_count": 108,
   "id": "4c6a140b",
   "metadata": {
    "execution": {
     "iopub.execute_input": "2022-05-15T18:15:47.347406Z",
     "iopub.status.busy": "2022-05-15T18:15:47.347102Z",
     "iopub.status.idle": "2022-05-15T18:15:47.396583Z",
     "shell.execute_reply": "2022-05-15T18:15:47.395504Z"
    },
    "papermill": {
     "duration": 0.252882,
     "end_time": "2022-05-15T18:15:47.398890",
     "exception": false,
     "start_time": "2022-05-15T18:15:47.146008",
     "status": "completed"
    },
    "tags": []
   },
   "outputs": [
    {
     "data": {
      "text/plain": [
       "anomaly\n",
       "0          1699250\n",
       "1           101317\n",
       "dtype: int64"
      ]
     },
     "execution_count": 108,
     "metadata": {},
     "output_type": "execute_result"
    }
   ],
   "source": [
    "Prediction_ST = pd.DataFrame(data=Prediction_ST, columns=[\"anomaly\"])\n",
    "Prediction_ST.value_counts()"
   ]
  },
  {
   "cell_type": "markdown",
   "id": "9497b9ac",
   "metadata": {
    "papermill": {
     "duration": 0.197904,
     "end_time": "2022-05-15T18:15:47.796409",
     "exception": false,
     "start_time": "2022-05-15T18:15:47.598505",
     "status": "completed"
    },
    "tags": []
   },
   "source": [
    "### Submission"
   ]
  },
  {
   "cell_type": "code",
   "execution_count": 109,
   "id": "068212aa",
   "metadata": {
    "execution": {
     "iopub.execute_input": "2022-05-15T18:15:48.194289Z",
     "iopub.status.busy": "2022-05-15T18:15:48.193402Z",
     "iopub.status.idle": "2022-05-15T18:15:48.556994Z",
     "shell.execute_reply": "2022-05-15T18:15:48.555586Z"
    },
    "papermill": {
     "duration": 0.564644,
     "end_time": "2022-05-15T18:15:48.558874",
     "exception": false,
     "start_time": "2022-05-15T18:15:47.994230",
     "status": "completed"
    },
    "tags": []
   },
   "outputs": [
    {
     "name": "stdout",
     "output_type": "stream",
     "text": [
      "(1800567, 2)\n",
      "(1800567, 1)\n"
     ]
    }
   ],
   "source": [
    "submission_df = pd.read_csv('../input/energy-anomaly-detection/sample_submission.csv')\n",
    "print(submission_df.shape)\n",
    "print(Prediction_EN.shape)"
   ]
  },
  {
   "cell_type": "code",
   "execution_count": 110,
   "id": "8730eaaa",
   "metadata": {
    "execution": {
     "iopub.execute_input": "2022-05-15T18:15:48.958054Z",
     "iopub.status.busy": "2022-05-15T18:15:48.957202Z",
     "iopub.status.idle": "2022-05-15T18:15:49.139888Z",
     "shell.execute_reply": "2022-05-15T18:15:49.139028Z"
    },
    "papermill": {
     "duration": 0.385147,
     "end_time": "2022-05-15T18:15:49.142313",
     "exception": false,
     "start_time": "2022-05-15T18:15:48.757166",
     "status": "completed"
    },
    "tags": []
   },
   "outputs": [
    {
     "name": "stdout",
     "output_type": "stream",
     "text": [
      "KNN anomaly\n",
      "0          1548300\n",
      "1           252267\n",
      "dtype: int64\n",
      "DT anomaly\n",
      "0          1714205\n",
      "1            86362\n",
      "dtype: int64\n",
      "EN anomaly\n",
      "0          1757028\n",
      "1            43539\n",
      "dtype: int64\n",
      "LR anomaly\n",
      "0          1699250\n",
      "1           101317\n",
      "dtype: int64\n"
     ]
    }
   ],
   "source": [
    "print(\"KNN\",Prediction_KNN.value_counts())\n",
    "print(\"DT\",Prediction_DT.value_counts())\n",
    "print(\"EN\",Prediction_EN.value_counts())\n",
    "print(\"LR\",Prediction_ST.value_counts())"
   ]
  },
  {
   "cell_type": "code",
   "execution_count": 111,
   "id": "c91924fd",
   "metadata": {
    "execution": {
     "iopub.execute_input": "2022-05-15T18:15:49.542000Z",
     "iopub.status.busy": "2022-05-15T18:15:49.541280Z",
     "iopub.status.idle": "2022-05-15T18:15:51.241353Z",
     "shell.execute_reply": "2022-05-15T18:15:51.240477Z"
    },
    "papermill": {
     "duration": 1.902303,
     "end_time": "2022-05-15T18:15:51.243661",
     "exception": false,
     "start_time": "2022-05-15T18:15:49.341358",
     "status": "completed"
    },
    "tags": []
   },
   "outputs": [
    {
     "name": "stdout",
     "output_type": "stream",
     "text": [
      "0    1548300\n",
      "1     252267\n",
      "Name: anomaly, dtype: int64\n"
     ]
    }
   ],
   "source": [
    "submission_df[\"anomaly\"] = Prediction_KNN['anomaly']\n",
    "print(submission_df['anomaly'].value_counts())\n",
    "submission_df.to_csv('my_submission_final_1.csv', index=False)"
   ]
  },
  {
   "cell_type": "code",
   "execution_count": 112,
   "id": "f848be8b",
   "metadata": {
    "execution": {
     "iopub.execute_input": "2022-05-15T18:15:51.672189Z",
     "iopub.status.busy": "2022-05-15T18:15:51.671139Z",
     "iopub.status.idle": "2022-05-15T18:15:53.357351Z",
     "shell.execute_reply": "2022-05-15T18:15:53.356669Z"
    },
    "papermill": {
     "duration": 1.905564,
     "end_time": "2022-05-15T18:15:53.359550",
     "exception": false,
     "start_time": "2022-05-15T18:15:51.453986",
     "status": "completed"
    },
    "tags": []
   },
   "outputs": [
    {
     "name": "stdout",
     "output_type": "stream",
     "text": [
      "0    1714205\n",
      "1      86362\n",
      "Name: anomaly, dtype: int64\n"
     ]
    }
   ],
   "source": [
    "submission_df[\"anomaly\"] = Prediction_DT['anomaly']\n",
    "print(submission_df['anomaly'].value_counts())\n",
    "submission_df.to_csv('my_submission_final_2.csv', index=False)"
   ]
  },
  {
   "cell_type": "code",
   "execution_count": 113,
   "id": "50fe4698",
   "metadata": {
    "execution": {
     "iopub.execute_input": "2022-05-15T18:15:53.756512Z",
     "iopub.status.busy": "2022-05-15T18:15:53.756118Z",
     "iopub.status.idle": "2022-05-15T18:15:55.470533Z",
     "shell.execute_reply": "2022-05-15T18:15:55.469845Z"
    },
    "papermill": {
     "duration": 1.915967,
     "end_time": "2022-05-15T18:15:55.472775",
     "exception": false,
     "start_time": "2022-05-15T18:15:53.556808",
     "status": "completed"
    },
    "tags": []
   },
   "outputs": [
    {
     "name": "stdout",
     "output_type": "stream",
     "text": [
      "0    1757028\n",
      "1      43539\n",
      "Name: anomaly, dtype: int64\n"
     ]
    }
   ],
   "source": [
    "submission_df[\"anomaly\"] = Prediction_EN['anomaly']\n",
    "print(submission_df['anomaly'].value_counts())\n",
    "submission_df.to_csv('my_submission_final_3.csv', index=False)"
   ]
  },
  {
   "cell_type": "code",
   "execution_count": 114,
   "id": "df80b684",
   "metadata": {
    "execution": {
     "iopub.execute_input": "2022-05-15T18:15:55.869281Z",
     "iopub.status.busy": "2022-05-15T18:15:55.868539Z",
     "iopub.status.idle": "2022-05-15T18:15:57.578279Z",
     "shell.execute_reply": "2022-05-15T18:15:57.577372Z"
    },
    "papermill": {
     "duration": 1.911332,
     "end_time": "2022-05-15T18:15:57.581089",
     "exception": false,
     "start_time": "2022-05-15T18:15:55.669757",
     "status": "completed"
    },
    "tags": []
   },
   "outputs": [
    {
     "name": "stdout",
     "output_type": "stream",
     "text": [
      "0    1699250\n",
      "1     101317\n",
      "Name: anomaly, dtype: int64\n"
     ]
    }
   ],
   "source": [
    "submission_df[\"anomaly\"] = Prediction_ST['anomaly']\n",
    "print(submission_df['anomaly'].value_counts())\n",
    "submission_df.to_csv('my_submission_final_4.csv', index=False)"
   ]
  },
  {
   "cell_type": "markdown",
   "id": "08c01a4f",
   "metadata": {
    "papermill": {
     "duration": 0.197964,
     "end_time": "2022-05-15T18:15:57.980360",
     "exception": false,
     "start_time": "2022-05-15T18:15:57.782396",
     "status": "completed"
    },
    "tags": []
   },
   "source": [
    "## What is next?\n",
    "After determining the anomalies points what we should do about them? In the most common \n",
    "application like Microsoft anomaly detection, they have some web application to send some \n",
    "emails to the concerned persons about the sudden and didn’t expected change, then they take \n",
    "the right decision to solve this issue. \n",
    "\n",
    "But in our scope here we concerned with if this point is outlier or point of interest. \n",
    "\n",
    "<img src=\"https://github.com/abdallah-elsawy/Time-Series-Anomaly-Detection/blob/main/Outputs/Time-series-outliers.png?raw=true\">\n",
    "\n",
    "So, if the point we detected as outlier is a data that we did not need we will do on it some \n",
    "cleaning data processing. But in the other hand some time did not mean if there is some \n",
    "unusual event that we didn’t need it. Some event most be important to us because might this \n",
    "event will happen in the future so by studying it will make us have the ability to avoid this \n",
    "sudden change in the future by handle it by some control flow process. \n",
    "Here we after studying those points we will make all anomalies point as a nan value so will \n",
    "handle it in the coming part, Missing value imputation. "
   ]
  },
  {
   "cell_type": "markdown",
   "id": "e4332305",
   "metadata": {
    "execution": {
     "iopub.execute_input": "2022-05-14T00:05:47.727259Z",
     "iopub.status.busy": "2022-05-14T00:05:47.726974Z",
     "iopub.status.idle": "2022-05-14T00:05:47.732015Z",
     "shell.execute_reply": "2022-05-14T00:05:47.730956Z",
     "shell.execute_reply.started": "2022-05-14T00:05:47.727231Z"
    },
    "papermill": {
     "duration": 0.197999,
     "end_time": "2022-05-15T18:15:58.376335",
     "exception": false,
     "start_time": "2022-05-15T18:15:58.178336",
     "status": "completed"
    },
    "tags": []
   },
   "source": [
    "### <p style=\"background-color:gray; font-family:newtimeroman; font-size:200%; text-align:center; border-radius: 10px 100px; color:black; hight:max\"> Thanks a lot for having a look at this notebook. If you found this notebook useful, Do Upvote.🎯 </p>"
   ]
  }
 ],
 "metadata": {
  "kernelspec": {
   "display_name": "Python 3",
   "language": "python",
   "name": "python3"
  },
  "language_info": {
   "codemirror_mode": {
    "name": "ipython",
    "version": 3
   },
   "file_extension": ".py",
   "mimetype": "text/x-python",
   "name": "python",
   "nbconvert_exporter": "python",
   "pygments_lexer": "ipython3",
   "version": "3.7.12"
  },
  "papermill": {
   "default_parameters": {},
   "duration": 6169.577829,
   "end_time": "2022-05-15T18:16:01.316644",
   "environment_variables": {},
   "exception": null,
   "input_path": "__notebook__.ipynb",
   "output_path": "__notebook__.ipynb",
   "parameters": {},
   "start_time": "2022-05-15T16:33:11.738815",
   "version": "2.3.4"
  }
 },
 "nbformat": 4,
 "nbformat_minor": 5
}
